{
  "cells": [
    {
      "cell_type": "markdown",
      "metadata": {
        "id": "xZStr8Th4jBq"
      },
      "source": [
        "# Assignment 4: Ranking & Evaluation"
      ]
    },
    {
      "cell_type": "markdown",
      "metadata": {
        "id": "BN0aEQUD4mwy"
      },
      "source": [
        "## General guidelines\n",
        "\n",
        "This notebook contains considerable amount of code to help you complete this assignment. Your task is to implement any missing parts of the code and answer any questions (if exist) within this notebook. This will require understanding the existing code, may require reading about packages being used, reading additional resources, and maybe even going over your notes from class 😱\n",
        "\n",
        "**Evaluation and auto-grading**: Your submissions will be evaluated using both automatic and manual grading. Code parts for implementation are marked with a comment `# YOUR CODE HERE`, and usually followed by cell(s) containing automatic tests that evaluate the correctness of your answer. Additionaly, staff will manually assess your submission. Any automatic tests that did not run due to your notebook timing out **will automatically receive 0 points**. The execution time excludes initial data download, which will already exist in the testing environment. The staff reserves the right to **modify any grade provided by the auto-grader** as well as to **execute additional tests not provided to you**. It is also important to note that **auto-graded cells only result in full or no credit**. In other words, you must pass all tests implemented in a test cell in order to get the credit for it, and passing some, but not all, of the tests in a test cell will not earn you any points for that cell.\n",
        "\n",
        "**Submission**: Unless specified otherwise, you need to upload this notebook file **with your ID as the file name**, e.g. 012345678.ipynb, to the assignment on Moodle."
      ]
    },
    {
      "cell_type": "markdown",
      "metadata": {
        "id": "0FLuP8v74n4i"
      },
      "source": [
        "# Tasks\n",
        "\n",
        "In this assignment, we are going to build a complete retrieval system using the inverted index (assignment 2)\n",
        "\n",
        "**Your tasks in this assignment are:**\n",
        "\n",
        "1. (40 Points) Implement ranking using TF-IDF and BM25.\n",
        "2. (35 Points) Implement search/retrieval using the inverted index. Implement compound ranking based on title and body.\n",
        "3. (25 Points) Using weighting of title and body scores. Provide three examples of mistakes that the model is making and explanations for why, and describe how you will change the model based on these observations.\n",
        "\n"
      ]
    },
    {
      "cell_type": "markdown",
      "metadata": {
        "id": "AXsCKOx2FTn2"
      },
      "source": [
        "# Imports"
      ]
    },
    {
      "cell_type": "code",
      "execution_count": null,
      "metadata": {
        "colab": {
          "base_uri": "https://localhost:8080/"
        },
        "deletable": false,
        "editable": false,
        "id": "QGIQb5FHFSDH",
        "nbgrader": {
          "cell_type": "code",
          "checksum": "bc6efd581a496afa7df97e9de2c5428b",
          "grade": false,
          "grade_id": "cell-f376d240eb48a4e1",
          "locked": true,
          "schema_version": 3,
          "solution": false,
          "task": false
        },
        "outputId": "9305b226-7859-478a-a6a9-cec19e4cb7a1"
      },
      "outputs": [
        {
          "output_type": "stream",
          "name": "stderr",
          "text": [
            "[nltk_data] Downloading package stopwords to /root/nltk_data...\n",
            "[nltk_data]   Package stopwords is already up-to-date!\n"
          ]
        }
      ],
      "source": [
        "from sklearn.feature_extraction.text import TfidfVectorizer\n",
        "import pandas as pd\n",
        "from sklearn.metrics.pairwise import cosine_similarity\n",
        "from collections import defaultdict,Counter\n",
        "import re\n",
        "import nltk\n",
        "import pickle\n",
        "import numpy as np\n",
        "nltk.download('stopwords')\n",
        "\n",
        "from nltk.corpus import stopwords\n",
        "from tqdm import tqdm\n",
        "import operator\n",
        "from itertools import islice,count\n",
        "from contextlib import closing\n",
        "\n",
        "import json\n",
        "from io import StringIO\n",
        "from pathlib import Path\n",
        "from operator import itemgetter\n",
        "import pickle\n",
        "import matplotlib.pyplot as plt"
      ]
    },
    {
      "cell_type": "markdown",
      "metadata": {
        "id": "HiXcPL-9qH8g"
      },
      "source": [
        "## Tasks 1: Implement ranking using TF-IDF and BM25 (40 points).\n",
        "In this task, you need to implement TF-IDF and BM25. At this point, for simplicity, we do not use an inverted index. However, later on in this assignment, we will.\n",
        "\n",
        "Implementation remarks:\n",
        "* TF-IDF: use [sklearn TfidfVectorizer](https://scikit-learn.org/stable/modules/generated/sklearn.feature_extraction.text.TfidfVectorizer.html). To deal with stopwords use the argument `stop_words`. (5 points)\n",
        "\n",
        "TfidfVectorizer suggests handling with additional parameters, as you can read in the documentation. Make sure you read about them.\n",
        "\n",
        "* Cosine Similarity: use [sklearn implementation](https://scikit-learn.org/stable/modules/generated/sklearn.metrics.pairwise.cosine_similarity.html). (10 points)\n",
        "\n",
        "* BM25: Implement a BM25 version according to the provided skeleton **without the use of packages**. 15 points as follows:\n",
        "    * Prepare the data and filter stopwords. (5 points)\n",
        "    * Implement two functions at BM25 class. (10 points)\n",
        "\n",
        "* Ranking: implement topN functionallity (10 points)\n",
        "\n",
        "**Later in this assignment, we will write code for TF-IDF and BM25 that utilize the inverted index.**"
      ]
    },
    {
      "cell_type": "code",
      "execution_count": null,
      "metadata": {
        "deletable": false,
        "editable": false,
        "id": "pbkM4LjQzp1S",
        "nbgrader": {
          "cell_type": "code",
          "checksum": "57b0e5963d640ba8b1fbcd0660c2522f",
          "grade": false,
          "grade_id": "cell-e99db25f2f734e3d",
          "locked": true,
          "schema_version": 3,
          "solution": false,
          "task": false
        }
      },
      "outputs": [],
      "source": [
        "# set of documents\n",
        "data = ['The sky is blue and we can see the blue sun.',\n",
        "        'The sun is bright and yellow.',\n",
        "        'here comes the blue sun',\n",
        "        'Lucy in the sky with diamonds and you can see the sun in the sky',\n",
        "        'sun sun blue sun here we come',\n",
        "        'Lucy likes blue bright diamonds']"
      ]
    },
    {
      "cell_type": "markdown",
      "metadata": {
        "id": "eXG9bNEdqOZX"
      },
      "source": [
        "### TF-IDF"
      ]
    },
    {
      "cell_type": "markdown",
      "metadata": {
        "id": "U-GxCnRuz4rE"
      },
      "source": [
        "**YOUR TASK (5 POINTS):**  Complete the implementation of `tf_idf_scores`, which calculates the tfidf for each word in a single document utilizing TfidfVectorizer via sklearn."
      ]
    },
    {
      "cell_type": "code",
      "execution_count": null,
      "metadata": {
        "deletable": false,
        "id": "NahU25YgsV8f",
        "nbgrader": {
          "cell_type": "code",
          "checksum": "3d1c008de3a3ddb80ef89c0b3a9ac6a3",
          "grade": false,
          "grade_id": "cell-4bae717a683af9da",
          "locked": false,
          "schema_version": 3,
          "solution": true,
          "task": false
        }
      },
      "outputs": [],
      "source": [
        "def tf_idf_scores(data):\n",
        "    \"\"\"\n",
        "    This function calculates the tfidf for each word in a single document utilizing TfidfVectorizer via sklearn.\n",
        "\n",
        "    Parameters:\n",
        "    -----------\n",
        "      data: list of strings.\n",
        "\n",
        "    Returns:\n",
        "    --------\n",
        "      Two objects as follows:\n",
        "                                a) DataFrame, documents as rows (i.e., 0,1,2,3, etc'), terms as columns ('bird','bright', etc').\n",
        "                                b) TfidfVectorizer object.\n",
        "\n",
        "    \"\"\"\n",
        "    # YOUR CODE HERE\n",
        "    vectorizer = TfidfVectorizer(stop_words='english')\n",
        "    tfidf = vectorizer.fit_transform(data)\n",
        "    df_tfidfvect = pd.DataFrame(tfidf.toarray(), columns=vectorizer.get_feature_names_out())\n",
        "    return df_tfidfvect,vectorizer\n",
        "    # raise NotImplementedError()\n",
        "\n",
        "df_tfidfvect, tfidfvectorizer = tf_idf_scores(data)"
      ]
    },
    {
      "cell_type": "code",
      "execution_count": null,
      "metadata": {
        "deletable": false,
        "editable": false,
        "id": "-P03jq5Z1POS",
        "nbgrader": {
          "cell_type": "code",
          "checksum": "1847af23ac4a83c7073569b3e5153d8b",
          "grade": true,
          "grade_id": "cell-8bc597f7193b750f",
          "locked": true,
          "points": 5,
          "schema_version": 3,
          "solution": false,
          "task": false
        }
      },
      "outputs": [],
      "source": [
        "#tests\n",
        "assert df_tfidfvect.shape[1] == 10 and df_tfidfvect.shape[0] == 6\n",
        "assert 'is' not in df_tfidfvect.columns and 'we' not in df_tfidfvect.columns\n",
        "assert 'sun' in df_tfidfvect.columns and 'yellow' in df_tfidfvect.columns\n",
        "assert round(df_tfidfvect.max(),3).max() == 0.798\n",
        "assert np.count_nonzero(df_tfidfvect) == 21\n",
        "assert type(tfidfvectorizer) == TfidfVectorizer"
      ]
    },
    {
      "cell_type": "markdown",
      "metadata": {
        "id": "R1DA10t1Fa4f"
      },
      "source": [
        "Now, upon existing TF-IDF matrix we are seeking for the similarity for given new queries.\n",
        "First we need to convert the **new** queries into a vector format. Therefore we use transform instead of fit_transform.\n",
        "\n",
        "Next, we would like to calculate the cosine similarity between queires and documents.\n",
        "\n"
      ]
    },
    {
      "cell_type": "code",
      "execution_count": null,
      "metadata": {
        "deletable": false,
        "editable": false,
        "id": "l1mSzpDRxs2Q",
        "nbgrader": {
          "cell_type": "code",
          "checksum": "97e9f39ab2011fa6bd9fa86ea7c637ed",
          "grade": false,
          "grade_id": "cell-b44922f34aff7c1d",
          "locked": true,
          "schema_version": 3,
          "solution": false,
          "task": false
        }
      },
      "outputs": [],
      "source": [
        "queries = ['look the the blue sky', 'He likes the blue the sun','Lucy likes blue sky with diamonds']\n",
        "queries_vector = tfidfvectorizer.transform(queries)"
      ]
    },
    {
      "cell_type": "markdown",
      "metadata": {
        "id": "FDBJ24TQ8BD8"
      },
      "source": [
        "Now, lets calculate the cosine similarity utilizing sklearn."
      ]
    },
    {
      "cell_type": "markdown",
      "metadata": {
        "id": "2RdQmZ-ZBFMT"
      },
      "source": [
        "**YOUR TASK (10 POINTS):**  Complete the implementation of `cosine_sim_using_sklearn`.\n",
        "You need to compute the similarity between the queries and the given documents."
      ]
    },
    {
      "cell_type": "code",
      "execution_count": null,
      "metadata": {
        "deletable": false,
        "id": "V_8kmozHFuOI",
        "nbgrader": {
          "cell_type": "code",
          "checksum": "bae91c60d2e06d53cd5fb3d2b081277c",
          "grade": false,
          "grade_id": "cell-e829aaf7aa5730cd",
          "locked": false,
          "schema_version": 3,
          "solution": true,
          "task": false
        },
        "colab": {
          "base_uri": "https://localhost:8080/",
          "height": 143
        },
        "outputId": "d31e2ca7-302e-4b10-d297-87eecf34ee3d"
      },
      "outputs": [
        {
          "output_type": "execute_result",
          "data": {
            "text/plain": [
              "          0         1         2         3         4         5\n",
              "0  0.888450  0.000000  0.273683  0.641001  0.180435  0.189449\n",
              "1  0.496915  0.148509  0.380588  0.099655  0.465293  0.579679\n",
              "2  0.489890  0.000000  0.150908  0.706894  0.099492  0.800422"
            ],
            "text/html": [
              "\n",
              "  <div id=\"df-037a50fd-1660-473e-908a-a6c08c8a62b7\" class=\"colab-df-container\">\n",
              "    <div>\n",
              "<style scoped>\n",
              "    .dataframe tbody tr th:only-of-type {\n",
              "        vertical-align: middle;\n",
              "    }\n",
              "\n",
              "    .dataframe tbody tr th {\n",
              "        vertical-align: top;\n",
              "    }\n",
              "\n",
              "    .dataframe thead th {\n",
              "        text-align: right;\n",
              "    }\n",
              "</style>\n",
              "<table border=\"1\" class=\"dataframe\">\n",
              "  <thead>\n",
              "    <tr style=\"text-align: right;\">\n",
              "      <th></th>\n",
              "      <th>0</th>\n",
              "      <th>1</th>\n",
              "      <th>2</th>\n",
              "      <th>3</th>\n",
              "      <th>4</th>\n",
              "      <th>5</th>\n",
              "    </tr>\n",
              "  </thead>\n",
              "  <tbody>\n",
              "    <tr>\n",
              "      <th>0</th>\n",
              "      <td>0.888450</td>\n",
              "      <td>0.000000</td>\n",
              "      <td>0.273683</td>\n",
              "      <td>0.641001</td>\n",
              "      <td>0.180435</td>\n",
              "      <td>0.189449</td>\n",
              "    </tr>\n",
              "    <tr>\n",
              "      <th>1</th>\n",
              "      <td>0.496915</td>\n",
              "      <td>0.148509</td>\n",
              "      <td>0.380588</td>\n",
              "      <td>0.099655</td>\n",
              "      <td>0.465293</td>\n",
              "      <td>0.579679</td>\n",
              "    </tr>\n",
              "    <tr>\n",
              "      <th>2</th>\n",
              "      <td>0.489890</td>\n",
              "      <td>0.000000</td>\n",
              "      <td>0.150908</td>\n",
              "      <td>0.706894</td>\n",
              "      <td>0.099492</td>\n",
              "      <td>0.800422</td>\n",
              "    </tr>\n",
              "  </tbody>\n",
              "</table>\n",
              "</div>\n",
              "    <div class=\"colab-df-buttons\">\n",
              "\n",
              "  <div class=\"colab-df-container\">\n",
              "    <button class=\"colab-df-convert\" onclick=\"convertToInteractive('df-037a50fd-1660-473e-908a-a6c08c8a62b7')\"\n",
              "            title=\"Convert this dataframe to an interactive table.\"\n",
              "            style=\"display:none;\">\n",
              "\n",
              "  <svg xmlns=\"http://www.w3.org/2000/svg\" height=\"24px\" viewBox=\"0 -960 960 960\">\n",
              "    <path d=\"M120-120v-720h720v720H120Zm60-500h600v-160H180v160Zm220 220h160v-160H400v160Zm0 220h160v-160H400v160ZM180-400h160v-160H180v160Zm440 0h160v-160H620v160ZM180-180h160v-160H180v160Zm440 0h160v-160H620v160Z\"/>\n",
              "  </svg>\n",
              "    </button>\n",
              "\n",
              "  <style>\n",
              "    .colab-df-container {\n",
              "      display:flex;\n",
              "      gap: 12px;\n",
              "    }\n",
              "\n",
              "    .colab-df-convert {\n",
              "      background-color: #E8F0FE;\n",
              "      border: none;\n",
              "      border-radius: 50%;\n",
              "      cursor: pointer;\n",
              "      display: none;\n",
              "      fill: #1967D2;\n",
              "      height: 32px;\n",
              "      padding: 0 0 0 0;\n",
              "      width: 32px;\n",
              "    }\n",
              "\n",
              "    .colab-df-convert:hover {\n",
              "      background-color: #E2EBFA;\n",
              "      box-shadow: 0px 1px 2px rgba(60, 64, 67, 0.3), 0px 1px 3px 1px rgba(60, 64, 67, 0.15);\n",
              "      fill: #174EA6;\n",
              "    }\n",
              "\n",
              "    .colab-df-buttons div {\n",
              "      margin-bottom: 4px;\n",
              "    }\n",
              "\n",
              "    [theme=dark] .colab-df-convert {\n",
              "      background-color: #3B4455;\n",
              "      fill: #D2E3FC;\n",
              "    }\n",
              "\n",
              "    [theme=dark] .colab-df-convert:hover {\n",
              "      background-color: #434B5C;\n",
              "      box-shadow: 0px 1px 3px 1px rgba(0, 0, 0, 0.15);\n",
              "      filter: drop-shadow(0px 1px 2px rgba(0, 0, 0, 0.3));\n",
              "      fill: #FFFFFF;\n",
              "    }\n",
              "  </style>\n",
              "\n",
              "    <script>\n",
              "      const buttonEl =\n",
              "        document.querySelector('#df-037a50fd-1660-473e-908a-a6c08c8a62b7 button.colab-df-convert');\n",
              "      buttonEl.style.display =\n",
              "        google.colab.kernel.accessAllowed ? 'block' : 'none';\n",
              "\n",
              "      async function convertToInteractive(key) {\n",
              "        const element = document.querySelector('#df-037a50fd-1660-473e-908a-a6c08c8a62b7');\n",
              "        const dataTable =\n",
              "          await google.colab.kernel.invokeFunction('convertToInteractive',\n",
              "                                                    [key], {});\n",
              "        if (!dataTable) return;\n",
              "\n",
              "        const docLinkHtml = 'Like what you see? Visit the ' +\n",
              "          '<a target=\"_blank\" href=https://colab.research.google.com/notebooks/data_table.ipynb>data table notebook</a>'\n",
              "          + ' to learn more about interactive tables.';\n",
              "        element.innerHTML = '';\n",
              "        dataTable['output_type'] = 'display_data';\n",
              "        await google.colab.output.renderOutput(dataTable, element);\n",
              "        const docLink = document.createElement('div');\n",
              "        docLink.innerHTML = docLinkHtml;\n",
              "        element.appendChild(docLink);\n",
              "      }\n",
              "    </script>\n",
              "  </div>\n",
              "\n",
              "\n",
              "<div id=\"df-a97e1db7-c86e-4223-943c-10daba28c5b0\">\n",
              "  <button class=\"colab-df-quickchart\" onclick=\"quickchart('df-a97e1db7-c86e-4223-943c-10daba28c5b0')\"\n",
              "            title=\"Suggest charts\"\n",
              "            style=\"display:none;\">\n",
              "\n",
              "<svg xmlns=\"http://www.w3.org/2000/svg\" height=\"24px\"viewBox=\"0 0 24 24\"\n",
              "     width=\"24px\">\n",
              "    <g>\n",
              "        <path d=\"M19 3H5c-1.1 0-2 .9-2 2v14c0 1.1.9 2 2 2h14c1.1 0 2-.9 2-2V5c0-1.1-.9-2-2-2zM9 17H7v-7h2v7zm4 0h-2V7h2v10zm4 0h-2v-4h2v4z\"/>\n",
              "    </g>\n",
              "</svg>\n",
              "  </button>\n",
              "\n",
              "<style>\n",
              "  .colab-df-quickchart {\n",
              "      --bg-color: #E8F0FE;\n",
              "      --fill-color: #1967D2;\n",
              "      --hover-bg-color: #E2EBFA;\n",
              "      --hover-fill-color: #174EA6;\n",
              "      --disabled-fill-color: #AAA;\n",
              "      --disabled-bg-color: #DDD;\n",
              "  }\n",
              "\n",
              "  [theme=dark] .colab-df-quickchart {\n",
              "      --bg-color: #3B4455;\n",
              "      --fill-color: #D2E3FC;\n",
              "      --hover-bg-color: #434B5C;\n",
              "      --hover-fill-color: #FFFFFF;\n",
              "      --disabled-bg-color: #3B4455;\n",
              "      --disabled-fill-color: #666;\n",
              "  }\n",
              "\n",
              "  .colab-df-quickchart {\n",
              "    background-color: var(--bg-color);\n",
              "    border: none;\n",
              "    border-radius: 50%;\n",
              "    cursor: pointer;\n",
              "    display: none;\n",
              "    fill: var(--fill-color);\n",
              "    height: 32px;\n",
              "    padding: 0;\n",
              "    width: 32px;\n",
              "  }\n",
              "\n",
              "  .colab-df-quickchart:hover {\n",
              "    background-color: var(--hover-bg-color);\n",
              "    box-shadow: 0 1px 2px rgba(60, 64, 67, 0.3), 0 1px 3px 1px rgba(60, 64, 67, 0.15);\n",
              "    fill: var(--button-hover-fill-color);\n",
              "  }\n",
              "\n",
              "  .colab-df-quickchart-complete:disabled,\n",
              "  .colab-df-quickchart-complete:disabled:hover {\n",
              "    background-color: var(--disabled-bg-color);\n",
              "    fill: var(--disabled-fill-color);\n",
              "    box-shadow: none;\n",
              "  }\n",
              "\n",
              "  .colab-df-spinner {\n",
              "    border: 2px solid var(--fill-color);\n",
              "    border-color: transparent;\n",
              "    border-bottom-color: var(--fill-color);\n",
              "    animation:\n",
              "      spin 1s steps(1) infinite;\n",
              "  }\n",
              "\n",
              "  @keyframes spin {\n",
              "    0% {\n",
              "      border-color: transparent;\n",
              "      border-bottom-color: var(--fill-color);\n",
              "      border-left-color: var(--fill-color);\n",
              "    }\n",
              "    20% {\n",
              "      border-color: transparent;\n",
              "      border-left-color: var(--fill-color);\n",
              "      border-top-color: var(--fill-color);\n",
              "    }\n",
              "    30% {\n",
              "      border-color: transparent;\n",
              "      border-left-color: var(--fill-color);\n",
              "      border-top-color: var(--fill-color);\n",
              "      border-right-color: var(--fill-color);\n",
              "    }\n",
              "    40% {\n",
              "      border-color: transparent;\n",
              "      border-right-color: var(--fill-color);\n",
              "      border-top-color: var(--fill-color);\n",
              "    }\n",
              "    60% {\n",
              "      border-color: transparent;\n",
              "      border-right-color: var(--fill-color);\n",
              "    }\n",
              "    80% {\n",
              "      border-color: transparent;\n",
              "      border-right-color: var(--fill-color);\n",
              "      border-bottom-color: var(--fill-color);\n",
              "    }\n",
              "    90% {\n",
              "      border-color: transparent;\n",
              "      border-bottom-color: var(--fill-color);\n",
              "    }\n",
              "  }\n",
              "</style>\n",
              "\n",
              "  <script>\n",
              "    async function quickchart(key) {\n",
              "      const quickchartButtonEl =\n",
              "        document.querySelector('#' + key + ' button');\n",
              "      quickchartButtonEl.disabled = true;  // To prevent multiple clicks.\n",
              "      quickchartButtonEl.classList.add('colab-df-spinner');\n",
              "      try {\n",
              "        const charts = await google.colab.kernel.invokeFunction(\n",
              "            'suggestCharts', [key], {});\n",
              "      } catch (error) {\n",
              "        console.error('Error during call to suggestCharts:', error);\n",
              "      }\n",
              "      quickchartButtonEl.classList.remove('colab-df-spinner');\n",
              "      quickchartButtonEl.classList.add('colab-df-quickchart-complete');\n",
              "    }\n",
              "    (() => {\n",
              "      let quickchartButtonEl =\n",
              "        document.querySelector('#df-a97e1db7-c86e-4223-943c-10daba28c5b0 button');\n",
              "      quickchartButtonEl.style.display =\n",
              "        google.colab.kernel.accessAllowed ? 'block' : 'none';\n",
              "    })();\n",
              "  </script>\n",
              "</div>\n",
              "\n",
              "  <div id=\"id_7ca5c894-1f92-4c12-998e-d0586b5b0a3e\">\n",
              "    <style>\n",
              "      .colab-df-generate {\n",
              "        background-color: #E8F0FE;\n",
              "        border: none;\n",
              "        border-radius: 50%;\n",
              "        cursor: pointer;\n",
              "        display: none;\n",
              "        fill: #1967D2;\n",
              "        height: 32px;\n",
              "        padding: 0 0 0 0;\n",
              "        width: 32px;\n",
              "      }\n",
              "\n",
              "      .colab-df-generate:hover {\n",
              "        background-color: #E2EBFA;\n",
              "        box-shadow: 0px 1px 2px rgba(60, 64, 67, 0.3), 0px 1px 3px 1px rgba(60, 64, 67, 0.15);\n",
              "        fill: #174EA6;\n",
              "      }\n",
              "\n",
              "      [theme=dark] .colab-df-generate {\n",
              "        background-color: #3B4455;\n",
              "        fill: #D2E3FC;\n",
              "      }\n",
              "\n",
              "      [theme=dark] .colab-df-generate:hover {\n",
              "        background-color: #434B5C;\n",
              "        box-shadow: 0px 1px 3px 1px rgba(0, 0, 0, 0.15);\n",
              "        filter: drop-shadow(0px 1px 2px rgba(0, 0, 0, 0.3));\n",
              "        fill: #FFFFFF;\n",
              "      }\n",
              "    </style>\n",
              "    <button class=\"colab-df-generate\" onclick=\"generateWithVariable('cosine_sim_df')\"\n",
              "            title=\"Generate code using this dataframe.\"\n",
              "            style=\"display:none;\">\n",
              "\n",
              "  <svg xmlns=\"http://www.w3.org/2000/svg\" height=\"24px\"viewBox=\"0 0 24 24\"\n",
              "       width=\"24px\">\n",
              "    <path d=\"M7,19H8.4L18.45,9,17,7.55,7,17.6ZM5,21V16.75L18.45,3.32a2,2,0,0,1,2.83,0l1.4,1.43a1.91,1.91,0,0,1,.58,1.4,1.91,1.91,0,0,1-.58,1.4L9.25,21ZM18.45,9,17,7.55Zm-12,3A5.31,5.31,0,0,0,4.9,8.1,5.31,5.31,0,0,0,1,6.5,5.31,5.31,0,0,0,4.9,4.9,5.31,5.31,0,0,0,6.5,1,5.31,5.31,0,0,0,8.1,4.9,5.31,5.31,0,0,0,12,6.5,5.46,5.46,0,0,0,6.5,12Z\"/>\n",
              "  </svg>\n",
              "    </button>\n",
              "    <script>\n",
              "      (() => {\n",
              "      const buttonEl =\n",
              "        document.querySelector('#id_7ca5c894-1f92-4c12-998e-d0586b5b0a3e button.colab-df-generate');\n",
              "      buttonEl.style.display =\n",
              "        google.colab.kernel.accessAllowed ? 'block' : 'none';\n",
              "\n",
              "      buttonEl.onclick = () => {\n",
              "        google.colab.notebook.generateWithVariable('cosine_sim_df');\n",
              "      }\n",
              "      })();\n",
              "    </script>\n",
              "  </div>\n",
              "\n",
              "    </div>\n",
              "  </div>\n"
            ],
            "application/vnd.google.colaboratory.intrinsic+json": {
              "type": "dataframe",
              "variable_name": "cosine_sim_df",
              "summary": "{\n  \"name\": \"cosine_sim_df\",\n  \"rows\": 3,\n  \"fields\": [\n    {\n      \"column\": 0,\n      \"properties\": {\n        \"dtype\": \"number\",\n        \"std\": 0.22810807079356665,\n        \"min\": 0.4898899420614881,\n        \"max\": 0.8884502769781664,\n        \"num_unique_values\": 3,\n        \"samples\": [\n          0.8884502769781664,\n          0.4969147573009166,\n          0.4898899420614881\n        ],\n        \"semantic_type\": \"\",\n        \"description\": \"\"\n      }\n    },\n    {\n      \"column\": 1,\n      \"properties\": {\n        \"dtype\": \"number\",\n        \"std\": 0.08574199863852865,\n        \"min\": 0.0,\n        \"max\": 0.14850949798443314,\n        \"num_unique_values\": 2,\n        \"samples\": [\n          0.14850949798443314,\n          0.0\n        ],\n        \"semantic_type\": \"\",\n        \"description\": \"\"\n      }\n    },\n    {\n      \"column\": 2,\n      \"properties\": {\n        \"dtype\": \"number\",\n        \"std\": 0.11493127466380432,\n        \"min\": 0.15090841863943527,\n        \"max\": 0.3805882902954534,\n        \"num_unique_values\": 3,\n        \"samples\": [\n          0.2736831578422467,\n          0.3805882902954534\n        ],\n        \"semantic_type\": \"\",\n        \"description\": \"\"\n      }\n    },\n    {\n      \"column\": 3,\n      \"properties\": {\n        \"dtype\": \"number\",\n        \"std\": 0.3332005199616433,\n        \"min\": 0.09965522473334373,\n        \"max\": 0.7068936272527243,\n        \"num_unique_values\": 3,\n        \"samples\": [\n          0.6410009524628654,\n          0.09965522473334373\n        ],\n        \"semantic_type\": \"\",\n        \"description\": \"\"\n      }\n    },\n    {\n      \"column\": 4,\n      \"properties\": {\n        \"dtype\": \"number\",\n        \"std\": 0.19213985329297031,\n        \"min\": 0.09949181392319376,\n        \"max\": 0.46529311538536205,\n        \"num_unique_values\": 3,\n        \"samples\": [\n          0.18043548570349513,\n          0.46529311538536205\n        ],\n        \"semantic_type\": \"\",\n        \"description\": \"\"\n      }\n    },\n    {\n      \"column\": 5,\n      \"properties\": {\n        \"dtype\": \"number\",\n        \"std\": 0.3093794949884979,\n        \"min\": 0.18944940406677502,\n        \"max\": 0.8004220252434028,\n        \"num_unique_values\": 3,\n        \"samples\": [\n          0.18944940406677502,\n          0.5796786074982927\n        ],\n        \"semantic_type\": \"\",\n        \"description\": \"\"\n      }\n    }\n  ]\n}"
            }
          },
          "metadata": {},
          "execution_count": 25
        }
      ],
      "source": [
        "def cosine_sim_using_sklearn(queries,tfidf):\n",
        "    \"\"\"\n",
        "    In this function you need to utilize the cosine_similarity function from sklearn.\n",
        "    You need to compute the similarity between the queries and the given documents.\n",
        "    This function will return a DataFrame in the following shape: (# of queries, # of documents).\n",
        "    Each value in the DataFrame will represent the cosine_similarity between given query and document.\n",
        "\n",
        "    Parameters:\n",
        "    -----------\n",
        "      queries: sparse matrix represent the queries after transformation of tfidfvectorizer.\n",
        "      documents: sparse matrix represent the documents.\n",
        "\n",
        "    Returns:\n",
        "    --------\n",
        "      DataFrame: This function will return a DataFrame in the following shape: (# of queries, # of documents).\n",
        "      Each value in the DataFrame will represent the cosine_similarity between given query and document.\n",
        "    \"\"\"\n",
        "    # Calculate the cosine similarity between queries and documents\n",
        "    similarity_scores = cosine_similarity(queries, tfidf)\n",
        "\n",
        "    # Create a DataFrame from the similarity scores\n",
        "    df_similarity = pd.DataFrame(similarity_scores)\n",
        "\n",
        "    return df_similarity\n",
        "\n",
        "cosine_sim_df = cosine_sim_using_sklearn(queries_vector,df_tfidfvect)\n",
        "cosine_sim_df"
      ]
    },
    {
      "cell_type": "code",
      "execution_count": null,
      "metadata": {
        "deletable": false,
        "editable": false,
        "id": "snaKllK78uBn",
        "nbgrader": {
          "cell_type": "code",
          "checksum": "3ebf4bc2b1163a89fed8583d3c1a39f9",
          "grade": true,
          "grade_id": "cell-87cf8e377c2a7705",
          "locked": true,
          "points": 10,
          "schema_version": 3,
          "solution": false,
          "task": false
        }
      },
      "outputs": [],
      "source": [
        "# tests for cosine similarity\n",
        "assert cosine_sim_df.shape[0] == len(queries)\n",
        "assert cosine_sim_df.shape[1] == len(data)\n",
        "assert (abs(cosine_sim_df)>1).any().any() == False\n",
        "assert np.count_nonzero(cosine_sim_df) == 16\n",
        "assert round(cosine_sim_df.max(),3).max() == 0.888"
      ]
    },
    {
      "cell_type": "markdown",
      "metadata": {
        "id": "_LFYms4iqRdY"
      },
      "source": [
        "### BM25\n",
        "In this section we will create a class of Best Match 25 (BM25)"
      ]
    },
    {
      "cell_type": "markdown",
      "metadata": {
        "id": "hP_-2DvoU-mP"
      },
      "source": [
        "To use BM25 we will need to following parameters:\n",
        "\n",
        "* $k1$ and $b$ - free parameters\n",
        "* $f(t_i,D)$ - term frequency of term $t_i$ in document $D$\n",
        "* |$D$|- is the length of the document $D$ in terms\n",
        "* $avgdl$ -  average document length\n",
        "* $IDF$ - which is calculted as follows: $ln(\\frac{(N-n(t_i)+0.5}{n(t_i)+0.5)}+1)$, where $N$ is the total number of documents in the collection, and $n(t_i)$ is the number of documents containing $t_i$ (e.g., document frequency (df))."
      ]
    },
    {
      "cell_type": "markdown",
      "metadata": {
        "id": "Cmzp5vH1OneY"
      },
      "source": [
        "As a reminder of the data looks like this\n"
      ]
    },
    {
      "cell_type": "code",
      "execution_count": null,
      "metadata": {
        "colab": {
          "base_uri": "https://localhost:8080/"
        },
        "deletable": false,
        "editable": false,
        "id": "p5-0bsOSYbeg",
        "nbgrader": {
          "cell_type": "code",
          "checksum": "de9d7d8a1fdedaca984162c34336d551",
          "grade": false,
          "grade_id": "cell-b3f55758c498ba8c",
          "locked": true,
          "schema_version": 3,
          "solution": false,
          "task": false
        },
        "outputId": "8b6e1e41-19d3-4f39-b890-a09a77257a17"
      },
      "outputs": [
        {
          "output_type": "execute_result",
          "data": {
            "text/plain": [
              "['The sky is blue and we can see the blue sun.',\n",
              " 'The sun is bright and yellow.',\n",
              " 'here comes the blue sun',\n",
              " 'Lucy in the sky with diamonds and you can see the sun in the sky',\n",
              " 'sun sun blue sun here we come',\n",
              " 'Lucy likes blue bright diamonds']"
            ]
          },
          "metadata": {},
          "execution_count": 27
        }
      ],
      "source": [
        "data"
      ]
    },
    {
      "cell_type": "markdown",
      "metadata": {
        "id": "LhVa64REKdHU"
      },
      "source": [
        "**Note:** While using TF-IDF from sklearn we used the `stop_words` argument.\n",
        "\n",
        "**It is not the case when working with BM25 without any package.**\n",
        "Therefore, we need to filter the data and clean it. We will do so utilizing NLTK stopwords"
      ]
    },
    {
      "cell_type": "code",
      "execution_count": null,
      "metadata": {
        "colab": {
          "base_uri": "https://localhost:8080/"
        },
        "deletable": false,
        "editable": false,
        "id": "V8cC5SngRpGF",
        "nbgrader": {
          "cell_type": "code",
          "checksum": "f87de591c901f6ada45ec68564b78cbe",
          "grade": false,
          "grade_id": "cell-48cfbc4a16de228b",
          "locked": true,
          "schema_version": 3,
          "solution": false,
          "task": false
        },
        "outputId": "3db1358f-f43b-43e1-e037-13aa972df248"
      },
      "outputs": [
        {
          "output_type": "execute_result",
          "data": {
            "text/plain": [
              "[['sky', 'blue', 'see', 'blue', 'sun'],\n",
              " ['sun', 'bright', 'yellow'],\n",
              " ['comes', 'blue', 'sun'],\n",
              " ['lucy', 'sky', 'diamonds', 'see', 'sun', 'sky'],\n",
              " ['sun', 'sun', 'blue', 'sun', 'come'],\n",
              " ['lucy', 'likes', 'blue', 'bright', 'diamonds']]"
            ]
          },
          "metadata": {},
          "execution_count": 28
        }
      ],
      "source": [
        "RE_WORD = re.compile(r\"\"\"[\\#\\@\\w](['\\-]?\\w){2,24}\"\"\", re.UNICODE)\n",
        "stopwords_frozen = frozenset(stopwords.words('english'))\n",
        "def tokenize(text):\n",
        "    \"\"\"\n",
        "    This function aims in tokenize a text into a list of tokens. Moreover, it filter stopwords.\n",
        "\n",
        "    Parameters:\n",
        "    -----------\n",
        "    text: string , represting the text to tokenize.\n",
        "\n",
        "    Returns:\n",
        "    -----------\n",
        "    list of tokens (e.g., list of tokens).\n",
        "    \"\"\"\n",
        "    list_of_tokens =  [token.group() for token in RE_WORD.finditer(text.lower()) if token.group() not in stopwords_frozen]\n",
        "    return list_of_tokens\n",
        "\n",
        "\n",
        "clean_data = [tokenize(doc) for doc in data]\n",
        "clean_data"
      ]
    },
    {
      "cell_type": "markdown",
      "metadata": {
        "id": "RHCcrCGYi5b8"
      },
      "source": [
        "Now let's find all the parameters needed for our toy example.\n",
        "**Later on we will need to gather this information from the inverted index.**"
      ]
    },
    {
      "cell_type": "markdown",
      "metadata": {
        "id": "pSSOm4NwBVJT"
      },
      "source": [
        "**YOUR TASK (5 POINTS):**  Complete the implementation of `bm25_preprocess`.\n",
        "This function goes through the data and saves relevant information for the calculation of bm25."
      ]
    },
    {
      "cell_type": "code",
      "execution_count": null,
      "metadata": {
        "deletable": false,
        "id": "Il6NITZLZzfP",
        "nbgrader": {
          "cell_type": "code",
          "checksum": "b05c1dedb2186b9681567b16974baea9",
          "grade": false,
          "grade_id": "cell-f6b1b4fb8a11e44e",
          "locked": false,
          "schema_version": 3,
          "solution": true,
          "task": false
        }
      },
      "outputs": [],
      "source": [
        "def bm25_preprocess(data):\n",
        "    \"\"\"\n",
        "    This function goes through the data and saves relevant information for the calculation of bm25.\n",
        "    Specifically, in this function, we will create 3 objects that gather information regarding document length, term frequency and\n",
        "    document frequency.\n",
        "    Parameters\n",
        "    -----------\n",
        "    data: list of lists. Each inner list is a list of tokens.\n",
        "    Example of data:\n",
        "    [\n",
        "        ['sky', 'blue', 'see', 'blue', 'sun'],\n",
        "        ['sun', 'bright', 'yellow'],\n",
        "        ['comes', 'blue', 'sun'],\n",
        "        ['lucy', 'sky', 'diamonds', 'see', 'sun', 'sky'],\n",
        "        ['sun', 'sun', 'blue', 'sun'],\n",
        "        ['lucy', 'likes', 'blue', 'bright', 'diamonds']\n",
        "    ]\n",
        "\n",
        "    Returns:\n",
        "    -----------\n",
        "    three objects as follows:\n",
        "                a) doc_len: list of integer. Each element represents the length of a document.\n",
        "                b) tf: list of dictionaries. Each dictionary corresponds to a document as follows:\n",
        "                                                                    key: term\n",
        "                                                                    value: normalized term frequency (by the length of document)\n",
        "\n",
        "\n",
        "                c) df: dictionary representing the document frequency as follows:\n",
        "                                                                    key: term\n",
        "                                                                    value: document frequency\n",
        "    \"\"\"\n",
        "    def calculate_tf(doc):\n",
        "      # Count each word in the document\n",
        "      word_counts = Counter(doc)\n",
        "\n",
        "      # Total number of words in the document\n",
        "      total_tokens = len(doc)\n",
        "\n",
        "      # Calculate TF for each word\n",
        "      return {word: count / total_tokens for word, count in word_counts.items()}\n",
        "\n",
        "    doc_len = [len(document) for document in data]\n",
        "    tf = [calculate_tf(document) for document in data]\n",
        "    df = {}\n",
        "    for document in data:\n",
        "        unique_terms = set(document)\n",
        "        for term in unique_terms:\n",
        "            if term in df:\n",
        "                df[term] += 1\n",
        "            else:\n",
        "                df[term] = 1\n",
        "\n",
        "    return doc_len,tf,df"
      ]
    },
    {
      "cell_type": "code",
      "execution_count": null,
      "metadata": {
        "deletable": false,
        "editable": false,
        "id": "LgPAqnBB_9bv",
        "nbgrader": {
          "cell_type": "code",
          "checksum": "140bd96fa50f4733fbaee16fd70c97fa",
          "grade": true,
          "grade_id": "cell-132b971801797983",
          "locked": true,
          "points": 5,
          "schema_version": 3,
          "solution": false,
          "task": false
        }
      },
      "outputs": [],
      "source": [
        "# tests - preprocess data for naive bm25\n",
        "doc_len,tf,df = bm25_preprocess(clean_data)\n",
        "assert df['blue'] == 4\n",
        "assert sum(tf[0].values()) == 1\n",
        "assert sum(doc_len) > sum(df.values())"
      ]
    },
    {
      "cell_type": "markdown",
      "metadata": {
        "id": "8JmpJk7BC9N1"
      },
      "source": [
        "**YOUR TASK (10 POINTS):** Complete the implementation of `calc_idf` and `_score` at the BM25 class.\n"
      ]
    },
    {
      "cell_type": "code",
      "execution_count": null,
      "metadata": {
        "deletable": false,
        "id": "JjQUMtA5dFg4",
        "nbgrader": {
          "cell_type": "code",
          "checksum": "09ea37083cae1b547704b6b9cd3b83d8",
          "grade": false,
          "grade_id": "cell-660ceea782932b22",
          "locked": false,
          "schema_version": 3,
          "solution": true,
          "task": false
        }
      },
      "outputs": [],
      "source": [
        "import math\n",
        "\n",
        "class BM25:\n",
        "    \"\"\"\n",
        "    Best Match 25.\n",
        "\n",
        "    Parameters to tune\n",
        "    ----------\n",
        "    k1 : float, default 1.5\n",
        "\n",
        "    b : float, default 0.75\n",
        "\n",
        "    Attributes\n",
        "    ----------\n",
        "    tf_ : list[dict[str, int]]\n",
        "        Term Frequency per document. So [{'hi': 1}] means\n",
        "        the first document contains the term 'hi' 1 time.\n",
        "        The frequnecy is normilzied by the max term frequency for each document.\n",
        "\n",
        "    doc_len_ : list[int]\n",
        "        Number of terms per document. So [3] means the first\n",
        "        document contains 3 terms.\n",
        "\n",
        "    df_ : dict[str, int]\n",
        "        Document Frequency per term. i.e. Number of documents in the\n",
        "        corpus that contains the term.\n",
        "\n",
        "    avg_doc_len_ : float\n",
        "        Average number of terms for documents in the corpus.\n",
        "\n",
        "    idf_ : dict[str, float]\n",
        "        Inverse Document Frequency per term.\n",
        "    \"\"\"\n",
        "\n",
        "    def __init__(self,doc_len,df,tf=None,k1=1.5, b=0.75):\n",
        "        self.b = b\n",
        "        self.k1 = k1\n",
        "        self.tf_ = tf\n",
        "        self.doc_len_ = doc_len\n",
        "        self.df_ = df\n",
        "        self.N_ = len(doc_len)\n",
        "        self.avgdl_ = sum(doc_len) / len(doc_len)\n",
        "\n",
        "\n",
        "    def calc_idf(self,query):\n",
        "        \"\"\"\n",
        "        This function calculate the idf values according to the BM25 idf formula for each term in the query.\n",
        "\n",
        "        Parameters:\n",
        "        -----------\n",
        "        query: list of token representing the query. For example: ['look', 'blue', 'sky']\n",
        "\n",
        "        Returns:\n",
        "        -----------\n",
        "        idf: dictionary of idf scores. As follows:\n",
        "                                                    key: term\n",
        "                                                    value: bm25 idf score\n",
        "        \"\"\"\n",
        "        query_words = Counter(query)\n",
        "        max_query = max(query_words.values())\n",
        "        for k,v in query_words.items():\n",
        "            query_words[k] = v/max_query\n",
        "        idf = {}\n",
        "        for k,v in query_words.items():\n",
        "            idf[k] = ((self.k1 +1)*v)/(self.k1 + v)\n",
        "        return idf\n",
        "\n",
        "\n",
        "    def search(self, queries):\n",
        "        \"\"\"\n",
        "        This function use the _score function to calculate the bm25 score for all queries provided.\n",
        "\n",
        "        Parameters:\n",
        "        -----------\n",
        "        queries: list of lists. Each inner list is a list of tokens. For example:\n",
        "                                                                                    [\n",
        "                                                                                        ['look', 'blue', 'sky'],\n",
        "                                                                                        ['likes', 'blue', 'sun'],\n",
        "                                                                                        ['likes', 'diamonds']\n",
        "                                                                                    ]\n",
        "\n",
        "        Returns:\n",
        "        -----------\n",
        "        list of scores of bm25\n",
        "        \"\"\"\n",
        "        scores = []\n",
        "        for query in queries:\n",
        "            scores.append([self._score(query, doc_id) for doc_id in range(self.N_)])\n",
        "        return scores"
      ]
    },
    {
      "cell_type": "code",
      "execution_count": null,
      "metadata": {
        "deletable": false,
        "id": "Vxbt-DzED8I3",
        "nbgrader": {
          "cell_type": "code",
          "checksum": "e448910fc36a96ed6a0fe4e3e60d2008",
          "grade": false,
          "grade_id": "cell-e7075d260fd4067a",
          "locked": false,
          "schema_version": 3,
          "solution": true,
          "task": false
        }
      },
      "outputs": [],
      "source": [
        "class BM25(BM25):\n",
        "\n",
        "    def _score(self, query, doc_id):\n",
        "        \"\"\"\n",
        "        This function calculate the bm25 score for given query and document.\n",
        "\n",
        "        Parameters:\n",
        "        -----------\n",
        "        query: list of token representing the query. For example: ['look', 'blue', 'sky']\n",
        "        doc_id: integer, document id.\n",
        "\n",
        "        Returns:\n",
        "        -----------\n",
        "        score: float, bm25 score.\n",
        "        \"\"\"\n",
        "        doc_tf = self.tf_[doc_id]\n",
        "        doc_len = self.doc_len_[doc_id]\n",
        "        doc_terms = doc_tf.keys()\n",
        "        common_words = set(query).intersection(doc_terms)\n",
        "        query_idf = self.calc_idf(query)\n",
        "        score = sum(((self.k1 + 1) * doc_tf[term]) / (self.k1 * (1 - self.b + self.b * doc_len / self.avgdl_) + doc_tf[term]) * math.log((self.N_ +1) / (self.df_[term])) * query_idf[term] for term in common_words)\n",
        "        return score"
      ]
    },
    {
      "cell_type": "markdown",
      "metadata": {
        "id": "IT49O3A_Peqv"
      },
      "source": [
        "Let's create a new instance of BM25, and calculte its score for all queries.\n",
        "Pay attetnion - we need to tokenize and filter the stopwords from the original queries."
      ]
    },
    {
      "cell_type": "code",
      "execution_count": null,
      "metadata": {
        "deletable": false,
        "editable": false,
        "id": "_5gTAhPtjKSO",
        "nbgrader": {
          "cell_type": "code",
          "checksum": "b5303fc020c13357f5d4d00cb75b8d50",
          "grade": false,
          "grade_id": "cell-fa65d259ff644369",
          "locked": true,
          "schema_version": 3,
          "solution": false,
          "task": false
        }
      },
      "outputs": [],
      "source": [
        "bm25 = BM25(tf=tf,doc_len=doc_len,df=df)\n",
        "\n",
        "# Remove tokenizing and remove stopwords from queries\n",
        "clean_queries = [tokenize(query) for query in queries]\n",
        "BM25_res = bm25.search(clean_queries)\n",
        "BM25_df = pd.DataFrame(data = BM25_res,index = [query_id for query_id in range(len(clean_queries))] ,columns = [doc_id for doc_id in range(len(data))])"
      ]
    },
    {
      "cell_type": "code",
      "execution_count": null,
      "metadata": {
        "deletable": false,
        "editable": false,
        "id": "XGatJojrSiFw",
        "nbgrader": {
          "cell_type": "code",
          "checksum": "12cf4c46da81e862891cecf3edad8c08",
          "grade": true,
          "grade_id": "cell-6218abc040ef663e",
          "locked": true,
          "points": 10,
          "schema_version": 3,
          "solution": false,
          "task": false
        }
      },
      "outputs": [],
      "source": [
        "# tests BM25\n",
        "assert BM25_df[0][0] == BM25_df[0][2]\n",
        "assert BM25_df[2][0] == BM25_df[2][2]\n",
        "assert BM25_df[3][0] != BM25_df[3][2]\n",
        "assert (BM25_df>1).any().any() == True\n",
        "assert (BM25_df==0).any().any() == True\n",
        "assert BM25_df.sum().argmax() == 5\n",
        "assert BM25_df.sum().argmin() == 1\n",
        "assert sum(bm25.search([['amit','livne'],['lucy','likes','blue','bright','diamonds']])[0]) == 0\n",
        "assert (bm25.search([['amit','livne'],['lucy','likes','blue','bright','diamonds']])[1][-1] > BM25_df[5][2])\n",
        "assert (bm25.search([['amit','livne'],['lucy','likes','blue','bright','diamonds']])[1][2] > BM25_df[1][2])"
      ]
    },
    {
      "cell_type": "markdown",
      "metadata": {
        "id": "vPzSYz85THs2"
      },
      "source": [
        "We can now search for top-N documents for each query"
      ]
    },
    {
      "cell_type": "markdown",
      "metadata": {
        "id": "D1lkrsKyGVAF"
      },
      "source": [
        "**YOUR TASK (10 POINTS):**  Complete the implementation of `top_N_documents`, which sort and filter the top N docuemnts (by score) for each query.\n"
      ]
    },
    {
      "cell_type": "code",
      "execution_count": null,
      "metadata": {
        "deletable": false,
        "id": "NBsw59bxTHKu",
        "nbgrader": {
          "cell_type": "code",
          "checksum": "790cdff4f5f821a47ca4a830cdcfcbc2",
          "grade": false,
          "grade_id": "cell-d4de9e923dca0856",
          "locked": false,
          "schema_version": 3,
          "solution": true,
          "task": false
        }
      },
      "outputs": [],
      "source": [
        "import pandas as pd\n",
        "\n",
        "def top_N_documents(df, N):\n",
        "    \"\"\"\n",
        "    This function sorts and filters the top N documents (by score) for each query.\n",
        "\n",
        "    Parameters\n",
        "    ----------\n",
        "    df: DataFrame\n",
        "        DataFrame with queries as rows and documents as columns, where each cell contains the score.\n",
        "    N: int\n",
        "        Number of top documents to retrieve for each query.\n",
        "\n",
        "    Returns\n",
        "    ----------\n",
        "    top_N: dictionary\n",
        "        Dictionary with the following structure:\n",
        "          key - query id (index of the row in DataFrame).\n",
        "          value - sorted (according to score) list of pairs length of N. Each pair within the list provides the following information (doc id, score).\n",
        "    \"\"\"\n",
        "    top_N = {}\n",
        "    for query_id, scores in df.iterrows():\n",
        "        list_of_docs = [(doc_id, score) for doc_id, score in scores.items()]\n",
        "        list_of_docs.sort(key=lambda x: x[1], reverse=True)\n",
        "        top_N[query_id] = list_of_docs[:N]\n",
        "\n",
        "    return top_N\n",
        "\n"
      ]
    },
    {
      "cell_type": "code",
      "execution_count": null,
      "metadata": {
        "deletable": false,
        "editable": false,
        "id": "M1vqkZg_QQbR",
        "nbgrader": {
          "cell_type": "code",
          "checksum": "11eb40559d8819bf0610774e00470047",
          "grade": true,
          "grade_id": "cell-1a4fe7778177237c",
          "locked": true,
          "points": 10,
          "schema_version": 3,
          "solution": false,
          "task": false
        }
      },
      "outputs": [],
      "source": [
        "# test - topN documents\n",
        "top_2_docs = top_N_documents(cosine_sim_df,2)\n",
        "top_10_docs = top_N_documents(cosine_sim_df,10)\n",
        "assert len(top_2_docs[0]) == 2\n",
        "assert len(top_2_docs[0][0]) == 2\n",
        "assert (top_2_docs[0][0][1] > top_N_documents(cosine_sim_df,2)[0][1][1])\n",
        "assert (top_10_docs[0][-1][-1] == 0)\n",
        "assert (top_10_docs[0][-1][-1] != top_10_docs[1][-1][-1])\n",
        "assert (top_10_docs[0][0][-1] != top_10_docs[1][0][-1])"
      ]
    },
    {
      "cell_type": "markdown",
      "metadata": {
        "id": "FcTOOAiTr_0s"
      },
      "source": [
        "The top-N functionality runs on all document and create a large DataFrame. What will happen if the number of documents is much larger?\n",
        "Will this function be efficient?\n",
        "\n",
        "Next, we will build an inverted index (like we did in assignment two). Then, we will use the inverted index utilizing the posting list to create a candidate list of documents per query.\n",
        "Therefore, we will narrow the documents relevant per query.\n",
        "\n",
        "Only then will we calculate the TF-IDF and cosine similarity."
      ]
    },
    {
      "cell_type": "markdown",
      "metadata": {
        "id": "e4GVs6-Tho-P"
      },
      "source": [
        "## Tasks 2: Implement compound ranking based on title and body using the inverted index (35 points).\n",
        "\n",
        "In order to do so, we will first perform parsing followed by building an Inverted index.\n",
        "Then we will create a searching and ranking mechanism.\n",
        "\n",
        "In this task, you will use Cranfield Corpus. But we need to do some setups in advance.\n",
        "\n",
        "**Setups:**\n",
        "\n",
        "*Make sure you upload the carnfield.py file. attached with this assignment*\n",
        "\n",
        "First, we will load it into the following data structures:\n",
        "\n",
        "* cran_txt_data - list of tuples. An example is provided below. Hold information regards the carnfield dataset.\n",
        "* cran_qry_rel_data - list of tuples. An example is provided below. Holds information regards the queries.\n",
        "\n",
        "We have already done all the load and preprocessing of the data for you.\n",
        "\n",
        "We split the queries data into the training and test sets.\n",
        "Next, we build two inverted indices (one built upon title information and the second on the text\\body of the documents).\n",
        "\n",
        "**After finishing the setups, we implement the ranking mechanism (TF-IDF and BM25 build upon inverted index).**\n",
        "\n",
        "\n",
        "\n",
        "\n",
        "\n",
        "\n",
        "\n",
        "\n",
        "\n"
      ]
    },
    {
      "cell_type": "markdown",
      "metadata": {
        "id": "SVFkJuuJnGQQ"
      },
      "source": [
        "### Cranfield Corpus\n",
        "\n",
        "You can get the corpus from [this link](http://ir.dcs.gla.ac.uk/resources/test_collections/cran/).  <br>\n"
      ]
    },
    {
      "cell_type": "markdown",
      "metadata": {
        "id": "wox5_m84nKdd"
      },
      "source": [
        "**Parsing**\n",
        "\n",
        "For detailed information about the parsing of this corpus look at [ this Notebook](https://colab.research.google.com/github/pragmalingu/experiments/blob/master/00_Data/CranfieldCorpus.ipynb) or, for parsing in general, read [this guide](https://pragmalingu.de/docs/guides/how-to-parse). An overview of the format of the files can be found here: [Data Sets](https://pragmalingu.de/docs/guides/data-comparison)"
      ]
    },
    {
      "cell_type": "code",
      "execution_count": null,
      "metadata": {
        "colab": {
          "base_uri": "https://localhost:8080/"
        },
        "deletable": false,
        "editable": false,
        "id": "dV4349DnFaXB",
        "nbgrader": {
          "cell_type": "code",
          "checksum": "d0b99b0ca55b027cc307d286f42f1c69",
          "grade": false,
          "grade_id": "cell-8b2b9d9fdd026022",
          "locked": true,
          "schema_version": 3,
          "solution": false,
          "task": false
        },
        "outputId": "8dba6356-57e8-4515-9f77-101274eb8225"
      },
      "outputs": [
        {
          "output_type": "stream",
          "name": "stdout",
          "text": [
            "--2025-01-02 20:59:48--  http://ir.dcs.gla.ac.uk/resources/test_collections/cran/cran.tar.gz\n",
            "Resolving ir.dcs.gla.ac.uk (ir.dcs.gla.ac.uk)... 130.209.240.253\n",
            "Connecting to ir.dcs.gla.ac.uk (ir.dcs.gla.ac.uk)|130.209.240.253|:80... connected.\n",
            "HTTP request sent, awaiting response... 200 OK\n",
            "Length: 506960 (495K) [application/gzip]\n",
            "Saving to: ‘cran.tar.gz.1’\n",
            "\n",
            "cran.tar.gz.1       100%[===================>] 495.08K   924KB/s    in 0.5s    \n",
            "\n",
            "2025-01-02 20:59:48 (924 KB/s) - ‘cran.tar.gz.1’ saved [506960/506960]\n",
            "\n"
          ]
        }
      ],
      "source": [
        "!wget http://ir.dcs.gla.ac.uk/resources/test_collections/cran/cran.tar.gz\n",
        "!tar -xf cran.tar.gz\n",
        "import carnfield\n",
        "\n",
        "cran_txt_data,cran_qry_rel_data = carnfield.main()"
      ]
    },
    {
      "cell_type": "markdown",
      "metadata": {
        "id": "stmEFWtVAXlb"
      },
      "source": [
        "### Data seperation\n",
        "In real-world scenarios, we do not know all the queries in advance. Thus, we are familiar with some queries and can use them to tune the parameters of our model (e.g., the k and b for BM25 or term that appears at least n times within the data, etc.'). We will split the queries into two sets to simulate this scenario: Train and Test.\n",
        "\n",
        "You can and should use the data from the train set to tune the parameters of your retrieval model. **You should not use the test data for tuning.**\n",
        "\n",
        "\n",
        "The test data should be used to evaluate your model according to the metrics in the following section (e.g., precision, recall etc.')"
      ]
    },
    {
      "cell_type": "markdown",
      "metadata": {
        "id": "mk9882itsCaA"
      },
      "source": [
        "Example of cran_txt_data:"
      ]
    },
    {
      "cell_type": "code",
      "execution_count": null,
      "metadata": {
        "colab": {
          "base_uri": "https://localhost:8080/"
        },
        "deletable": false,
        "editable": false,
        "id": "xre0ixPVrqqg",
        "nbgrader": {
          "cell_type": "code",
          "checksum": "d3c3746e3d29e039ffb0a72a69a5b27b",
          "grade": false,
          "grade_id": "cell-465458074bc926fe",
          "locked": true,
          "schema_version": 3,
          "solution": false,
          "task": false
        },
        "outputId": "8585592a-09df-499f-e3ba-b74915d7c42b"
      },
      "outputs": [
        {
          "output_type": "execute_result",
          "data": {
            "text/plain": [
              "[('1',\n",
              "  {'title': ' experimental investigation of the aerodynamics of a wing in a slipstream . ',\n",
              "   'author': ' brenckman,m. ',\n",
              "   'publication_date': ' j. ae. scs. 25, 1958, 324. ',\n",
              "   'text': '  an experimental study of a wing in a propeller slipstream was made in order to determine the spanwise distribution of the lift increase due to slipstream at different angles of attack of the wing and at different free stream to slipstream velocity ratios .  the results were intended in part as an evaluation basis for different theoretical treatments of this problem .   the comparative span loading curves, together with supporting evidence, showed that a substantial part of the lift increment produced by the slipstream was due to a /destalling/ or boundary-layer-control effect .  the integrated remaining lift increment, after subtracting this destalling lift, was found to agree well with a potential flow theory .   an empirical evaluation of the destalling effects was made for the specific configuration of the experiment . '})]"
            ]
          },
          "metadata": {},
          "execution_count": 38
        }
      ],
      "source": [
        " list(islice(cran_txt_data.items(), 1))"
      ]
    },
    {
      "cell_type": "markdown",
      "metadata": {
        "id": "EfP-ttKPsGVT"
      },
      "source": [
        "Example of cran_qry_rel_data.\n",
        "For each query id you can see the question and the relevance assessments is a list of tuples of relevant document. The tuple structure is as follows: (document id, relevance score). Therefore a tuple such as (184,2) indicates that the document id 184 relevance score is 2."
      ]
    },
    {
      "cell_type": "code",
      "execution_count": null,
      "metadata": {
        "colab": {
          "base_uri": "https://localhost:8080/"
        },
        "deletable": false,
        "editable": false,
        "id": "UUGuJu8ir0YZ",
        "nbgrader": {
          "cell_type": "code",
          "checksum": "8337fa5fe64386c57a473e34974cb2cd",
          "grade": false,
          "grade_id": "cell-44e6f36ca78dfe12",
          "locked": true,
          "schema_version": 3,
          "solution": false,
          "task": false
        },
        "outputId": "792bdd91-41e7-4d25-9779-0387875f453f"
      },
      "outputs": [
        {
          "output_type": "execute_result",
          "data": {
            "text/plain": [
              "[(1,\n",
              "  {'question': ' what similarity laws must be obeyed when constructing aeroelastic models of heated high speed aircraft . ',\n",
              "   'relevance_assessments': [(184, 2),\n",
              "    (29, 2),\n",
              "    (31, 2),\n",
              "    (12, 3),\n",
              "    (51, 3),\n",
              "    (102, 3),\n",
              "    (13, 4),\n",
              "    (14, 4),\n",
              "    (15, 4),\n",
              "    (57, 2),\n",
              "    (378, 2),\n",
              "    (859, 2),\n",
              "    (185, 3),\n",
              "    (30, 3),\n",
              "    (37, 3),\n",
              "    (52, 4),\n",
              "    (142, 4),\n",
              "    (195, 4),\n",
              "    (875, 2),\n",
              "    (56, 3),\n",
              "    (66, 3),\n",
              "    (95, 3),\n",
              "    (462, 4),\n",
              "    (497, 3),\n",
              "    (858, 3),\n",
              "    (876, 3),\n",
              "    (879, 3),\n",
              "    (880, 3),\n",
              "    (486, 1)]})]"
            ]
          },
          "metadata": {},
          "execution_count": 39
        }
      ],
      "source": [
        " list(islice(cran_qry_rel_data.items(), 1))"
      ]
    },
    {
      "cell_type": "markdown",
      "metadata": {
        "id": "tftcouOuD4cS"
      },
      "source": [
        "Split to train and test queries"
      ]
    },
    {
      "cell_type": "code",
      "execution_count": null,
      "metadata": {
        "deletable": false,
        "editable": false,
        "id": "fC0sqfVLAxwB",
        "nbgrader": {
          "cell_type": "code",
          "checksum": "efd0c732a9b5b847d7fe62651111eca1",
          "grade": false,
          "grade_id": "cell-4148791d95352bb3",
          "locked": true,
          "schema_version": 3,
          "solution": false,
          "task": false
        }
      },
      "outputs": [],
      "source": [
        "cran_qry_rel_data_train = list(islice(cran_qry_rel_data.items(), 0,180))\n",
        "cran_qry_rel_data_test = list(islice(cran_qry_rel_data.items(), 180,225))"
      ]
    },
    {
      "cell_type": "markdown",
      "metadata": {
        "id": "ZMFJey2QXWvp"
      },
      "source": [
        "Next, we will use the inverted index from assignment 2 (with some minor adaptations).\n",
        "We save a dictionary named `DL`, which fetches the document length of each document.\n",
        "\n",
        "Upon using the index functionality of add_doc, `DL` needs to be updated as well."
      ]
    },
    {
      "cell_type": "markdown",
      "metadata": {
        "id": "Qf028y32uxYx"
      },
      "source": [
        "### Inverted index (code from assignment 2)"
      ]
    },
    {
      "cell_type": "markdown",
      "metadata": {
        "id": "P_gmmMRIuzlR"
      },
      "source": [
        "#### Helper classes (code from assignment 2)"
      ]
    },
    {
      "cell_type": "code",
      "execution_count": null,
      "metadata": {
        "deletable": false,
        "editable": false,
        "id": "Z4wUkB8HuIfL",
        "nbgrader": {
          "cell_type": "code",
          "checksum": "8788a77c2851a738118c497529a2da67",
          "grade": false,
          "grade_id": "cell-8b7ad55b068c2c58",
          "locked": true,
          "schema_version": 3,
          "solution": false,
          "task": false
        }
      },
      "outputs": [],
      "source": [
        "# Let's start with a small block size of 30 bytes just to test things out.\n",
        "BLOCK_SIZE = 30\n",
        "\n",
        "class MultiFileWriter:\n",
        "    \"\"\" Sequential binary writer to multiple files of up to BLOCK_SIZE each. \"\"\"\n",
        "    def __init__(self, base_dir, name):\n",
        "        self._base_dir = Path(base_dir)\n",
        "        self._name = name\n",
        "        self._file_gen = (open(self._base_dir / f'{name}_{i:03}.bin', 'wb')\n",
        "                          for i in count())\n",
        "        self._f = next(self._file_gen)\n",
        "\n",
        "    def write(self, b):\n",
        "      locs = []\n",
        "      while len(b) > 0:\n",
        "        pos = self._f.tell()\n",
        "        remaining = BLOCK_SIZE - pos\n",
        "        # if the current file is full, close and open a new one.\n",
        "        if remaining == 0:\n",
        "          self._f.close()\n",
        "          self._f = next(self._file_gen)\n",
        "          pos, remaining = 0, BLOCK_SIZE\n",
        "        self._f.write(b[:remaining])\n",
        "        locs.append((self._f.name, pos))\n",
        "        b = b[remaining:]\n",
        "      return locs\n",
        "\n",
        "    def close(self):\n",
        "      self._f.close()\n",
        "\n",
        "class MultiFileReader:\n",
        "  \"\"\" Sequential binary reader of multiple files of up to BLOCK_SIZE each. \"\"\"\n",
        "  def __init__(self):\n",
        "    self._open_files = {}\n",
        "\n",
        "  def read(self, locs, n_bytes):\n",
        "    b = []\n",
        "    for f_name, offset in locs:\n",
        "      if f_name not in self._open_files:\n",
        "        self._open_files[f_name] = open(f_name, 'rb')\n",
        "      f = self._open_files[f_name]\n",
        "      f.seek(offset)\n",
        "      n_read = min(n_bytes, BLOCK_SIZE - offset)\n",
        "      b.append(f.read(n_read))\n",
        "      n_bytes -= n_read\n",
        "    return b''.join(b)\n",
        "\n",
        "  def close(self):\n",
        "    for f in self._open_files.values():\n",
        "      f.close()\n",
        "\n",
        "  def __exit__(self, exc_type, exc_value, traceback):\n",
        "    self.close()\n",
        "    return False"
      ]
    },
    {
      "cell_type": "code",
      "execution_count": null,
      "metadata": {
        "deletable": false,
        "editable": false,
        "id": "NoJlbdnHu2MR",
        "nbgrader": {
          "cell_type": "code",
          "checksum": "be080052fb884a360bbd86b52bd639fc",
          "grade": false,
          "grade_id": "cell-bc28a7f345184ac7",
          "locked": true,
          "schema_version": 3,
          "solution": false,
          "task": false
        }
      },
      "outputs": [],
      "source": [
        "TUPLE_SIZE = 6       # We're going to pack the doc_id and tf values in this\n",
        "                     # many bytes.\n",
        "TF_MASK = 2 ** 16 - 1 # Masking the 16 low bits of an integer\n",
        "\n",
        "DL = {}  # We're going to update and calculate this after each document. This will be usefull for the calculation of AVGDL (utilized in BM25)\n",
        "class InvertedIndex:\n",
        "  def __init__(self, docs={}):\n",
        "    \"\"\" Initializes the inverted index and add documents to it (if provided).\n",
        "    Parameters:\n",
        "    -----------\n",
        "      docs: dict mapping doc_id to list of tokens\n",
        "    \"\"\"\n",
        "    # stores document frequency per term\n",
        "    self.df = Counter()\n",
        "    # stores total frequency per term\n",
        "    self.term_total = Counter()\n",
        "    # stores posting list per term while building the index (internally),\n",
        "    # otherwise too big to store in memory.\n",
        "    self._posting_list = defaultdict(list)\n",
        "    # mapping a term to posting file locations, which is a list of\n",
        "    # (file_name, offset) pairs. Since posting lists are big we are going to\n",
        "    # write them to disk and just save their location in this list. We are\n",
        "    # using the MultiFileWriter helper class to write fixed-size files and store\n",
        "    # for each term/posting list its list of locations. The offset represents\n",
        "    # the number of bytes from the beginning of the file where the posting list\n",
        "    # starts.\n",
        "    self.posting_locs = defaultdict(list)\n",
        "\n",
        "    for doc_id, tokens in docs.items():\n",
        "      self.add_doc(doc_id, tokens)\n",
        "\n",
        "  def add_doc(self, doc_id, tokens):\n",
        "    \"\"\" Adds a document to the index with a given `doc_id` and tokens. It counts\n",
        "        the tf of tokens, then update the index (in memory, no storage\n",
        "        side-effects).\n",
        "    \"\"\"\n",
        "    DL[doc_id] = DL.get(doc_id,0) + (len(tokens))\n",
        "    w2cnt = Counter(tokens)\n",
        "    self.term_total.update(w2cnt)\n",
        "    max_value = max(w2cnt.items(), key=operator.itemgetter(1))[1]\n",
        "    # frequencies = {key: value/max_value for key, value in frequencies.items()}\n",
        "    for w, cnt in w2cnt.items():\n",
        "        self.df[w] = self.df.get(w, 0) + 1\n",
        "        self._posting_list[w].append((doc_id, cnt))\n",
        "\n",
        "\n",
        "  def write(self, base_dir, name):\n",
        "    \"\"\" Write the in-memory index to disk and populate the `posting_locs`\n",
        "        variables with information about file location and offset of posting\n",
        "        lists. Results in at least two files:\n",
        "        (1) posting files `name`XXX.bin containing the posting lists.\n",
        "        (2) `name`.pkl containing the global term stats (e.g. df).\n",
        "    \"\"\"\n",
        "    #### POSTINGS ####\n",
        "    self.posting_locs = defaultdict(list)\n",
        "    with closing(MultiFileWriter(base_dir, name)) as writer:\n",
        "      # iterate over posting lists in lexicographic order\n",
        "      for w in sorted(self._posting_list.keys()):\n",
        "        self._write_a_posting_list(w, writer, sort=True)\n",
        "    #### GLOBAL DICTIONARIES ####\n",
        "    self._write_globals(base_dir, name)\n",
        "\n",
        "  def _write_globals(self, base_dir, name):\n",
        "    with open(Path(base_dir) / f'{name}.pkl', 'wb') as f:\n",
        "      pickle.dump(self, f)\n",
        "\n",
        "  def _write_a_posting_list(self, w, writer, sort=False):\n",
        "    # sort the posting list by doc_id\n",
        "    pl = self._posting_list[w]\n",
        "    if sort:\n",
        "      pl = sorted(pl, key=itemgetter(0))\n",
        "    # convert to bytes\n",
        "    b = b''.join([(int(doc_id) << 16 | (tf & TF_MASK)).to_bytes(TUPLE_SIZE, 'big')\n",
        "                  for doc_id, tf in pl])\n",
        "    # write to file(s)\n",
        "    locs = writer.write(b)\n",
        "    # save file locations to index\n",
        "    self.posting_locs[w].extend(locs)\n",
        "\n",
        "  def __getstate__(self):\n",
        "    \"\"\" Modify how the object is pickled by removing the internal posting lists\n",
        "        from the object's state dictionary.\n",
        "    \"\"\"\n",
        "    state = self.__dict__.copy()\n",
        "    del state['_posting_list']\n",
        "    return state\n",
        "\n",
        "  @staticmethod\n",
        "  def read_index(base_dir, name):\n",
        "    with open(Path(base_dir) / f'{name}.pkl', 'rb') as f:\n",
        "      return pickle.load(f)\n",
        "\n",
        "  @staticmethod\n",
        "  def delete_index(base_dir, name):\n",
        "    path_globals = Path(base_dir) / f'{name}.pkl'\n",
        "    path_globals.unlink()\n",
        "    for p in Path(base_dir).rglob(f'{name}_*.bin'):\n",
        "      p.unlink()"
      ]
    },
    {
      "cell_type": "markdown",
      "metadata": {
        "id": "CHHVIZKaIhWP"
      },
      "source": [
        "In this assignment we will generate two indexes.\n",
        "One for titles and one for body (e.g., text).\n",
        "First, we need to tokenize the title and body textual information (e.g., text).\n",
        "Note: it can take several minutes to tokenize it.\n",
        "\n",
        "Next, we will create two seperated indexes.\n"
      ]
    },
    {
      "cell_type": "code",
      "execution_count": null,
      "metadata": {
        "deletable": false,
        "editable": false,
        "id": "eAweGxojIdFS",
        "nbgrader": {
          "cell_type": "code",
          "checksum": "5186ed75e1d4ab58614764d7f495bd40",
          "grade": false,
          "grade_id": "cell-242387ba2feef4ec",
          "locked": true,
          "schema_version": 3,
          "solution": false,
          "task": false
        }
      },
      "outputs": [],
      "source": [
        "cran_txt_data_titles = {k: tokenize(v['title']) for k,v in cran_txt_data.items()}\n",
        "cran_txt_data_text = {k: tokenize(v['text']) for k,v in cran_txt_data.items()}"
      ]
    },
    {
      "cell_type": "markdown",
      "metadata": {
        "id": "S8INaoSJEOD5"
      },
      "source": [
        "Next, we need to preprocess the text of the queries for both training and test sets."
      ]
    },
    {
      "cell_type": "code",
      "execution_count": null,
      "metadata": {
        "deletable": false,
        "editable": false,
        "id": "MszY8ujbr58s",
        "nbgrader": {
          "cell_type": "code",
          "checksum": "800bfb91f8c85bb303c007440edbee63",
          "grade": false,
          "grade_id": "cell-7964b532aec2f634",
          "locked": true,
          "schema_version": 3,
          "solution": false,
          "task": false
        }
      },
      "outputs": [],
      "source": [
        "cran_txt_query_text_train = {q[0]: tokenize(q[1]['question']) for q in cran_qry_rel_data_train}\n",
        "cran_txt_query_text_test = {q[0]: tokenize(q[1]['question']) for q in cran_qry_rel_data_test}"
      ]
    },
    {
      "cell_type": "markdown",
      "metadata": {
        "id": "whsU_r5bG8g9"
      },
      "source": [
        "#### Creating and writing the index"
      ]
    },
    {
      "cell_type": "code",
      "execution_count": null,
      "metadata": {
        "deletable": false,
        "editable": false,
        "id": "aEOZhr7QvOMC",
        "nbgrader": {
          "cell_type": "code",
          "checksum": "33b455bdeed31a70ccf5f62052ae73e2",
          "grade": false,
          "grade_id": "cell-d7ff0a9d1d1b54a7",
          "locked": true,
          "schema_version": 3,
          "solution": false,
          "task": false
        }
      },
      "outputs": [],
      "source": [
        "index_titles = InvertedIndex(docs=cran_txt_data_titles)\n",
        "index_text = InvertedIndex(docs=cran_txt_data_text)"
      ]
    },
    {
      "cell_type": "code",
      "execution_count": null,
      "metadata": {
        "deletable": false,
        "editable": false,
        "id": "Xt5ov8x5Bw8l",
        "nbgrader": {
          "cell_type": "code",
          "checksum": "579e69ba09e5e00ef6d7d44b775b6cab",
          "grade": false,
          "grade_id": "cell-3017a9ea682bee01",
          "locked": true,
          "schema_version": 3,
          "solution": false,
          "task": false
        }
      },
      "outputs": [],
      "source": [
        "# create directories for the different indices\n",
        "!mkdir body_index title_index"
      ]
    },
    {
      "cell_type": "code",
      "execution_count": null,
      "metadata": {
        "deletable": false,
        "editable": false,
        "id": "GJdYcsDvxVQ5",
        "nbgrader": {
          "cell_type": "code",
          "checksum": "632ddd875ca8dbac3ca37ffa69bc951e",
          "grade": false,
          "grade_id": "cell-1d38f0893c9c0dab",
          "locked": true,
          "schema_version": 3,
          "solution": false,
          "task": false
        }
      },
      "outputs": [],
      "source": [
        "index_titles.write('title_index','title')\n",
        "index_text.write('body_index','body')"
      ]
    },
    {
      "cell_type": "markdown",
      "metadata": {
        "id": "bFGBVH0uPISq"
      },
      "source": [
        "### Reading data from posting (code taken from assignment 2)"
      ]
    },
    {
      "cell_type": "code",
      "execution_count": null,
      "metadata": {
        "deletable": false,
        "editable": false,
        "id": "xhMhnuBDQXRz",
        "nbgrader": {
          "cell_type": "code",
          "checksum": "7e4650034b4e045e12f3564b76938989",
          "grade": false,
          "grade_id": "cell-5248529b0b47fa61",
          "locked": true,
          "schema_version": 3,
          "solution": false,
          "task": false
        }
      },
      "outputs": [],
      "source": [
        "class InvertedIndex(InvertedIndex):\n",
        "\n",
        "  def posting_lists_iter(self):\n",
        "    \"\"\" A generator that reads one posting list from disk and yields\n",
        "        a (word:str, [(doc_id:int, tf:int), ...]) tuple.\n",
        "    \"\"\"\n",
        "    with closing(MultiFileReader()) as reader:\n",
        "      for w, locs in self.posting_locs.items():\n",
        "        # read a certain number of bytes into variable b\n",
        "        b = reader.read(locs, self.df[w] * TUPLE_SIZE)\n",
        "        posting_list = []\n",
        "        # convert the bytes read into `b` to a proper posting list.\n",
        "\n",
        "        for i in range(self.df[w]):\n",
        "          doc_id = int.from_bytes(b[i*TUPLE_SIZE:i*TUPLE_SIZE+4], 'big')\n",
        "          tf = int.from_bytes(b[i*TUPLE_SIZE+4:(i+1)*TUPLE_SIZE], 'big')\n",
        "          posting_list.append((doc_id, tf))\n",
        "\n",
        "        yield w, posting_list"
      ]
    },
    {
      "cell_type": "markdown",
      "metadata": {
        "id": "ROqsUP75WtPK"
      },
      "source": [
        "**Example of use**\n",
        "\n",
        "First, we will load the title index.\n",
        "\n",
        "Next, we will search for a given term in both lists (words, and pls)\n",
        "\n",
        "Remineder: pls is the information from the posting list.\n",
        "Each value within the `words` list has a corresponding value in the `pls` list.\n",
        "The value within a `pls` list is a list of tuples. Each tuple in the following format (x,y). Where x represent the document id, and `y` represent the occurence of the term in the document.\n",
        "\n",
        "In this example we are seeking the first term in the `words` list, and we can observe the is appears in 4 different documents.\n",
        "Moreover, we can observe that in document 807 it appears twice."
      ]
    },
    {
      "cell_type": "code",
      "execution_count": null,
      "metadata": {
        "deletable": false,
        "editable": false,
        "id": "5OjIGqGrRX87",
        "nbgrader": {
          "cell_type": "code",
          "checksum": "0561178852234ec48aa418ee788bbcf8",
          "grade": false,
          "grade_id": "cell-2b51b0e75b158093",
          "locked": true,
          "schema_version": 3,
          "solution": false,
          "task": false
        }
      },
      "outputs": [],
      "source": [
        "idx_title = InvertedIndex.read_index('title_index', 'title')\n",
        "idx_body = InvertedIndex.read_index('body_index', 'body')\n",
        "# read posting lists from disk\n",
        "words, pls = zip(*idx_title.posting_lists_iter())"
      ]
    },
    {
      "cell_type": "markdown",
      "metadata": {
        "id": "ue6YmSy_yJoN"
      },
      "source": [
        "Let's check for example the document number `807`.\n",
        "We needed its document length (DL) which is suppose to be the length of its title + the length of the text of the document.\n",
        "Let's verify it."
      ]
    },
    {
      "cell_type": "code",
      "execution_count": null,
      "metadata": {
        "colab": {
          "base_uri": "https://localhost:8080/"
        },
        "deletable": false,
        "editable": false,
        "id": "zoH6o6VpSPg6",
        "nbgrader": {
          "cell_type": "code",
          "checksum": "3ae8ef32f2642293cf68a8fd0712dbae",
          "grade": false,
          "grade_id": "cell-671850a4c71e991a",
          "locked": true,
          "schema_version": 3,
          "solution": false,
          "task": false
        },
        "outputId": "88f454f0-269c-4bdf-83b5-91ed7c51df05"
      },
      "outputs": [
        {
          "output_type": "execute_result",
          "data": {
            "text/plain": [
              "['ground',\n",
              " 'measurements',\n",
              " 'shock',\n",
              " 'wave',\n",
              " 'noise',\n",
              " 'supersonic',\n",
              " 'bomber',\n",
              " 'airplanes',\n",
              " 'altitude',\n",
              " 'range',\n",
              " '000',\n",
              " '000',\n",
              " 'feet']"
            ]
          },
          "metadata": {},
          "execution_count": 50
        }
      ],
      "source": [
        "#Let's check the title of document 807\n",
        "cran_txt_data_titles['807']"
      ]
    },
    {
      "cell_type": "markdown",
      "metadata": {
        "id": "PizC-65xpzvk"
      },
      "source": [
        "Clearly `000` should not appear twice.\n",
        "Let have a second look on the original document and understand weather it's a mistake within a tokenization step or in the original title."
      ]
    },
    {
      "cell_type": "code",
      "execution_count": null,
      "metadata": {
        "colab": {
          "base_uri": "https://localhost:8080/",
          "height": 35
        },
        "deletable": false,
        "editable": false,
        "id": "KDFB8nfsp-x8",
        "nbgrader": {
          "cell_type": "code",
          "checksum": "15bb296b933a3cb18cf28760739a677c",
          "grade": false,
          "grade_id": "cell-e8276f6ab0133ecc",
          "locked": true,
          "schema_version": 3,
          "solution": false,
          "task": false
        },
        "outputId": "12018e33-fa86-4459-e816-10534d3e9e32"
      },
      "outputs": [
        {
          "output_type": "execute_result",
          "data": {
            "text/plain": [
              "' ground measurements of the shock wave noise from supersonic bomber airplanes in the altitude range from 30,000 to 50,000 feet . '"
            ],
            "application/vnd.google.colaboratory.intrinsic+json": {
              "type": "string"
            }
          },
          "metadata": {},
          "execution_count": 51
        }
      ],
      "source": [
        "cran_txt_data['807']['title']"
      ]
    },
    {
      "cell_type": "markdown",
      "metadata": {
        "id": "wv1fmK21qc2c"
      },
      "source": [
        "As we could have guessed, the token `000` does not appear twice in this document.\n",
        "\n",
        "**Reminder: garbage in = garbage out.**\n",
        "\n",
        "**For this assignment, it is ok to leave it as is. However, verify this part when you are working on your project.**"
      ]
    },
    {
      "cell_type": "code",
      "execution_count": null,
      "metadata": {
        "deletable": false,
        "editable": false,
        "id": "NavtokcsyJDs",
        "nbgrader": {
          "cell_type": "code",
          "checksum": "21afb46320cf95d13978390385500980",
          "grade": false,
          "grade_id": "cell-36d9d323ca5c7e21",
          "locked": true,
          "schema_version": 3,
          "solution": false,
          "task": false
        }
      },
      "outputs": [],
      "source": [
        "assert DL['807'] == len(cran_txt_data_titles['807']) + len(cran_txt_data_text['807'])\n",
        "assert len(DL) == len(cran_txt_data_titles)"
      ]
    },
    {
      "cell_type": "markdown",
      "metadata": {
        "id": "sCgSReAUwG-M"
      },
      "source": [
        "### Ranking\n",
        "In this section, you will be given a query or queries and return a ranked list of documents to retrieve.\n",
        "In this assignment, we are experimenting with two methods. TF-IDF and BM25.\n",
        "\n",
        "**We will use the inverted index in order to do so and will not utilize the whole corpus in advance.**"
      ]
    },
    {
      "cell_type": "markdown",
      "metadata": {
        "id": "DBlLqQii5f6B"
      },
      "source": [
        "#### TF-IDF for carnfield data (20 points)"
      ]
    },
    {
      "cell_type": "markdown",
      "metadata": {
        "id": "r1qulheONwg8"
      },
      "source": [
        "Bellow cells contain the following functions:\n",
        "\n",
        "*   *generate_query_tfidf_vector* - Generate a vector representing the query\n",
        "*   *get_candidate_documents_and_scores* - Generate a dictionary representing a pool of candidate documents for a given query.\n",
        "*   *generate_document_tfidf_matrix* - Generate a DataFrame of tfidf scores for a given query.\n",
        "*   *cosine_similarity* - Calculate the cosine similarity for each candidate document in D and a given query (e.g., Q). **You will impelemnt this function (10 points)**\n",
        "\n",
        "*   *get_top_n* - Sort and return the highest N documents according to the cosine similarity score.\n",
        "\n",
        "*   *get_topN_score_for_queries* - Generate a dictionary that gather for every query its topN score. **You will impelemnt this function (10 points)**"
      ]
    },
    {
      "cell_type": "code",
      "execution_count": null,
      "metadata": {
        "deletable": false,
        "editable": false,
        "id": "mbPJ5YxcXRcT",
        "nbgrader": {
          "cell_type": "code",
          "checksum": "7721b4362c1a98606bdb72ce716a19f7",
          "grade": false,
          "grade_id": "cell-e244d9f201109308",
          "locked": true,
          "schema_version": 3,
          "solution": false,
          "task": false
        }
      },
      "outputs": [],
      "source": [
        "def generate_query_tfidf_vector(query_to_search,index):\n",
        "    \"\"\"\n",
        "    Generate a vector representing the query. Each entry within this vector represents a tfidf score.\n",
        "    The terms representing the query will be the unique terms in the index.\n",
        "\n",
        "    We will use tfidf on the query as well.\n",
        "    For calculation of IDF, use log with base 10.\n",
        "    tf will be normalized based on the length of the query.\n",
        "\n",
        "    Parameters:\n",
        "    -----------\n",
        "    query_to_search: list of tokens (str). This list will be preprocessed in advance (e.g., lower case, filtering stopwords, etc.').\n",
        "                     Example: 'Hello, I love information retrival' --->  ['hello','love','information','retrieval']\n",
        "\n",
        "    index:           inverted index loaded from the corresponding files.\n",
        "\n",
        "    Returns:\n",
        "    -----------\n",
        "    vectorized query with tfidf scores\n",
        "    \"\"\"\n",
        "\n",
        "    epsilon = .0000001\n",
        "    total_vocab_size = len(index.term_total)\n",
        "    Q = np.zeros((total_vocab_size))\n",
        "    term_vector = list(index.term_total.keys())\n",
        "    counter = Counter(query_to_search)\n",
        "    for token in np.unique(query_to_search):\n",
        "        if token in index.term_total.keys(): #avoid terms that do not appear in the index.\n",
        "            tf = counter[token]/len(query_to_search) # term frequency divded by the length of the query\n",
        "            df = index.df[token]\n",
        "            idf = math.log((len(DL))/(df+epsilon),10) #smoothing\n",
        "\n",
        "            try:\n",
        "                ind = term_vector.index(token)\n",
        "                Q[ind] = tf*idf\n",
        "            except:\n",
        "                pass\n",
        "    return Q"
      ]
    },
    {
      "cell_type": "code",
      "execution_count": null,
      "metadata": {
        "deletable": false,
        "editable": false,
        "id": "Hwf5oq558hNh",
        "nbgrader": {
          "cell_type": "code",
          "checksum": "3ceb2b00ab2074cdea2c0a9dbbb5d288",
          "grade": false,
          "grade_id": "cell-f6349be47be84f49",
          "locked": true,
          "schema_version": 3,
          "solution": false,
          "task": false
        }
      },
      "outputs": [],
      "source": [
        "def get_posting_iter(index):\n",
        "    \"\"\"\n",
        "    This function returning the iterator working with posting list.\n",
        "\n",
        "    Parameters:\n",
        "    ----------\n",
        "    index: inverted index\n",
        "    \"\"\"\n",
        "    words, pls = zip(*index.posting_lists_iter())\n",
        "    return words,pls"
      ]
    },
    {
      "cell_type": "code",
      "execution_count": null,
      "metadata": {
        "deletable": false,
        "editable": false,
        "id": "HhQRw9ye10r1",
        "nbgrader": {
          "cell_type": "code",
          "checksum": "2d482341348fd423ddbacb188fa77f6e",
          "grade": false,
          "grade_id": "cell-efd15bbca288c498",
          "locked": true,
          "schema_version": 3,
          "solution": false,
          "task": false
        }
      },
      "outputs": [],
      "source": [
        "def get_candidate_documents_and_scores(query_to_search,index,words,pls):\n",
        "    \"\"\"\n",
        "    Generate a dictionary representing a pool of candidate documents for a given query. This function will go through every token in query_to_search\n",
        "    and fetch the corresponding information (e.g., term frequency, document frequency, etc.') needed to calculate TF-IDF from the posting list.\n",
        "    Then it will populate the dictionary 'candidates.'\n",
        "    For calculation of IDF, use log with base 10.\n",
        "    tf will be normalized based on the length of the document.\n",
        "\n",
        "    Parameters:\n",
        "    -----------\n",
        "    query_to_search: list of tokens (str). This list will be preprocessed in advance (e.g., lower case, filtering stopwords, etc.').\n",
        "                     Example: 'Hello, I love information retrival' --->  ['hello','love','information','retrieval']\n",
        "\n",
        "    index:           inverted index loaded from the corresponding files.\n",
        "\n",
        "    words,pls: iterator for working with posting.\n",
        "\n",
        "    Returns:\n",
        "    -----------\n",
        "    dictionary of candidates. In the following format:\n",
        "                                                               key: pair (doc_id,term)\n",
        "                                                               value: tfidf score.\n",
        "    \"\"\"\n",
        "    candidates = {}\n",
        "    for term in np.unique(query_to_search):\n",
        "        if term in words:\n",
        "            list_of_doc = pls[words.index(term)]\n",
        "            normlized_tfidf = [(doc_id,(freq/DL[str(doc_id)])*math.log(len(DL)/index.df[term],10)) for doc_id, freq in list_of_doc]\n",
        "\n",
        "            for doc_id, tfidf in normlized_tfidf:\n",
        "                candidates[(doc_id,term)] = candidates.get((doc_id,term), 0) + tfidf\n",
        "\n",
        "    return candidates"
      ]
    },
    {
      "cell_type": "code",
      "execution_count": null,
      "metadata": {
        "deletable": false,
        "editable": false,
        "id": "11pKF-MqFhAt",
        "nbgrader": {
          "cell_type": "code",
          "checksum": "82ae5f8b4d32a00991469f17f2412f8b",
          "grade": false,
          "grade_id": "cell-7dc5f8953f2e0523",
          "locked": true,
          "schema_version": 3,
          "solution": false,
          "task": false
        }
      },
      "outputs": [],
      "source": [
        "def generate_document_tfidf_matrix(query_to_search,index,words,pls):\n",
        "    \"\"\"\n",
        "    Generate a DataFrame `D` of tfidf scores for a given query.\n",
        "    Rows will be the documents candidates for a given query\n",
        "    Columns will be the unique terms in the index.\n",
        "    The value for a given document and term will be its tfidf score.\n",
        "\n",
        "    Parameters:\n",
        "    -----------\n",
        "    query_to_search: list of tokens (str). This list will be preprocessed in advance (e.g., lower case, filtering stopwords, etc.').\n",
        "                     Example: 'Hello, I love information retrival' --->  ['hello','love','information','retrieval']\n",
        "\n",
        "    index:           inverted index loaded from the corresponding files.\n",
        "\n",
        "\n",
        "    words,pls: iterator for working with posting.\n",
        "\n",
        "    Returns:\n",
        "    -----------\n",
        "    DataFrame of tfidf scores.\n",
        "    \"\"\"\n",
        "    total_vocab_size = len(index.term_total)\n",
        "    candidates_scores = get_candidate_documents_and_scores(query_to_search,index,words,pls) #We do not need to utilize all document. Only the docuemnts which have corrspoinding terms with the query.\n",
        "    unique_candidates = np.unique([doc_id for doc_id, freq in candidates_scores.keys()])\n",
        "    D = np.zeros((len(unique_candidates), total_vocab_size))\n",
        "    D = pd.DataFrame(D)\n",
        "\n",
        "    D.index = unique_candidates\n",
        "    D.columns = index.term_total.keys()\n",
        "\n",
        "    for key in candidates_scores:\n",
        "        tfidf = candidates_scores[key]\n",
        "        doc_id, term = key\n",
        "        D.loc[doc_id][term] = tfidf\n",
        "\n",
        "    return D"
      ]
    },
    {
      "cell_type": "markdown",
      "metadata": {
        "id": "5yk_yJnzM5Tb"
      },
      "source": [
        "**YOUR TASK (10 POINTS):** Complete the implementation of `cosine_similarity`. This function calculate the cosine similarity for each candidate document in D and a given query (e.g., Q) and return a dictionary of cosine similary scores.\n",
        "\n",
        "**Note:** for this task you cannot use sklearn. However, you can use pandas or numpy."
      ]
    },
    {
      "cell_type": "code",
      "execution_count": null,
      "metadata": {
        "deletable": false,
        "id": "92OO-c4Ah7TJ",
        "nbgrader": {
          "cell_type": "code",
          "checksum": "b37c952fde71fa7d691815553ac25ab5",
          "grade": false,
          "grade_id": "cell-b87e721c86d6850d",
          "locked": false,
          "schema_version": 3,
          "solution": true,
          "task": false
        }
      },
      "outputs": [],
      "source": [
        "import pandas as pd\n",
        "\n",
        "def cosine_similarity(D,Q):\n",
        "    \"\"\"\n",
        "    Calculate the cosine similarity for each candidate document in D and a given query (e.g., Q).\n",
        "    Generate a dictionary of cosine similarity scores\n",
        "    key: doc_id\n",
        "    value: cosine similarity score\n",
        "\n",
        "    Parameters:\n",
        "    -----------\n",
        "    D: DataFrame of tfidf scores.\n",
        "\n",
        "    Q: vectorized query with tfidf scores\n",
        "\n",
        "    Returns:\n",
        "    -----------\n",
        "    dictionary of cosine similarity score as follows:\n",
        "                                                                key: document id (e.g., doc_id)\n",
        "                                                                value: cosine similarty score.\n",
        "    \"\"\"\n",
        "    cos_sim = {}\n",
        "    for doc_id in D.index:\n",
        "        document_vector = D.loc[doc_id].values\n",
        "        dot_product = np.dot(document_vector, Q)\n",
        "        doc_norm = np.linalg.norm(document_vector)\n",
        "        query_norm = np.linalg.norm(Q)\n",
        "\n",
        "        if doc_norm == 0 or query_norm == 0:\n",
        "            cos_sim[doc_id] = 0\n",
        "        else:\n",
        "            cos_sim[doc_id] = dot_product / (doc_norm * query_norm)\n",
        "\n",
        "    return cos_sim\n",
        "\n",
        "\n",
        "\n",
        "\n",
        "\n",
        "\n",
        "\n",
        "\n"
      ]
    },
    {
      "cell_type": "code",
      "execution_count": null,
      "metadata": {
        "deletable": false,
        "editable": false,
        "id": "Yh7H2unw9oTf",
        "nbgrader": {
          "cell_type": "code",
          "checksum": "9017ebd3e59d6568d027093593c2ac04",
          "grade": false,
          "grade_id": "cell-5bad3528aaeb6a2f",
          "locked": true,
          "schema_version": 3,
          "solution": false,
          "task": false
        }
      },
      "outputs": [],
      "source": [
        "def get_top_n(sim_dict,N=3):\n",
        "    \"\"\"\n",
        "    Sort and return the highest N documents according to the cosine similarity score.\n",
        "    Generate a dictionary of cosine similarity scores\n",
        "\n",
        "    Parameters:\n",
        "    -----------\n",
        "    sim_dict: a dictionary of similarity score as follows:\n",
        "                                                                key: document id (e.g., doc_id)\n",
        "                                                                value: similarity score. We keep up to 5 digits after the decimal point. (e.g., round(score,5))\n",
        "\n",
        "    N: Integer (how many documents to retrieve). By default N = 3\n",
        "\n",
        "    Returns:\n",
        "    -----------\n",
        "    a ranked list of pairs (doc_id, score) in the length of N.\n",
        "    \"\"\"\n",
        "    return sorted([(doc_id,round(score,5)) for doc_id, score in sim_dict.items()], key = lambda x: x[1],reverse=True)[:N]"
      ]
    },
    {
      "cell_type": "markdown",
      "metadata": {
        "id": "ziJUOZwrMTiL"
      },
      "source": [
        "**YOUR TASK (10 POINTS)**: Complete the implementation of `get_topN_score_for_queries`. This function generate a dictionary that gather for every query its topN score, based on cosine similarity."
      ]
    },
    {
      "cell_type": "code",
      "execution_count": null,
      "metadata": {
        "deletable": false,
        "id": "2AJ1qn2YVpN5",
        "nbgrader": {
          "cell_type": "code",
          "checksum": "12808240a83212873ea21c789d33a56a",
          "grade": false,
          "grade_id": "cell-59c3035e52c567f5",
          "locked": false,
          "schema_version": 3,
          "solution": true,
          "task": false
        }
      },
      "outputs": [],
      "source": [
        "def get_topN_score_for_queries(queries_to_search,index,N=3):\n",
        "    \"\"\"\n",
        "    Generate a dictionary that gathers for every query its topN score.\n",
        "\n",
        "    Parameters:\n",
        "    -----------\n",
        "    queries_to_search: a dictionary of queries as follows:\n",
        "                                                        key: query_id\n",
        "                                                        value: list of tokens.\n",
        "    index:           inverted index loaded from the corresponding files.\n",
        "    N: Integer. How many documents to retrieve. This argument is passed to the topN function. By default N = 3, for the topN function.\n",
        "\n",
        "    Returns:\n",
        "    -----------\n",
        "    return: a dictionary of queries and topN pairs as follows:\n",
        "                                                        key: query_id\n",
        "                                                        value: list of pairs in the following format:(doc_id, score).\n",
        "    \"\"\"\n",
        "    words, pls = get_posting_iter(index)\n",
        "    top_n_scores = {}\n",
        "    for query_id, query_tokens in queries_to_search.items():\n",
        "        D = generate_document_tfidf_matrix(query_tokens, index, words, pls)\n",
        "        Q = generate_query_tfidf_vector(query_tokens, index)\n",
        "        sim_dict = cosine_similarity(D, Q)\n",
        "        top_n_scores[query_id] = get_top_n(sim_dict, N)\n",
        "\n",
        "    return top_n_scores\n"
      ]
    },
    {
      "cell_type": "code",
      "execution_count": null,
      "metadata": {
        "colab": {
          "base_uri": "https://localhost:8080/"
        },
        "deletable": false,
        "editable": false,
        "id": "oxYOsSwMWDmo",
        "nbgrader": {
          "cell_type": "code",
          "checksum": "10bb0b3ec5fdc3580a3f16ff24ebe489",
          "grade": false,
          "grade_id": "cell-9c1d5b562ad2081e",
          "locked": true,
          "schema_version": 3,
          "solution": false,
          "task": false
        },
        "outputId": "d2e698a6-4518-4ce3-8994-959cbe6b3361"
      },
      "outputs": [
        {
          "output_type": "stream",
          "name": "stderr",
          "text": [
            "<ipython-input-56-f056cec960da>:34: FutureWarning: ChainedAssignmentError: behaviour will change in pandas 3.0!\n",
            "You are setting values through chained assignment. Currently this works in certain cases, but when using Copy-on-Write (which will become the default behaviour in pandas 3.0) this will never work to update the original DataFrame or Series, because the intermediate object on which we are setting values will behave as a copy.\n",
            "A typical example is when you are setting values in a column of a DataFrame, like:\n",
            "\n",
            "df[\"col\"][row_indexer] = value\n",
            "\n",
            "Use `df.loc[row_indexer, \"col\"] = values` instead, to perform the assignment in a single step and ensure this keeps updating the original `df`.\n",
            "\n",
            "See the caveats in the documentation: https://pandas.pydata.org/pandas-docs/stable/user_guide/indexing.html#returning-a-view-versus-a-copy\n",
            "\n",
            "  D.loc[doc_id][term] = tfidf\n"
          ]
        }
      ],
      "source": [
        "tfidf_queries_score_train = get_topN_score_for_queries(cran_txt_query_text_train,idx_title)"
      ]
    },
    {
      "cell_type": "code",
      "execution_count": null,
      "metadata": {
        "deletable": false,
        "editable": false,
        "id": "F_fNI7HWQaSm",
        "nbgrader": {
          "cell_type": "code",
          "checksum": "2c6d72e06386178f9e001cf1e8523fc3",
          "grade": true,
          "grade_id": "cell-3b535d59edd83610",
          "locked": true,
          "points": 20,
          "schema_version": 3,
          "solution": false,
          "task": false
        }
      },
      "outputs": [],
      "source": [
        "#tests\n",
        "assert len(tfidf_queries_score_train)==180\n",
        "assert 0 not in tfidf_queries_score_train.keys()\n",
        "assert len(tfidf_queries_score_train[5])==3\n",
        "assert tfidf_queries_score_train[172][0][1] == tfidf_queries_score_train[172][1][1]\n",
        "assert tfidf_queries_score_train[14][0][1] == tfidf_queries_score_train[172][1][1]"
      ]
    },
    {
      "cell_type": "markdown",
      "metadata": {
        "id": "Ox7l1WIMatYa"
      },
      "source": [
        "For query 172 we can observe two document with cosine similarity score of 1. Let's have a glance on this query and documents for making sure it makes sense"
      ]
    },
    {
      "cell_type": "code",
      "execution_count": null,
      "metadata": {
        "colab": {
          "base_uri": "https://localhost:8080/"
        },
        "deletable": false,
        "editable": false,
        "id": "6yB6gHojaN77",
        "nbgrader": {
          "cell_type": "code",
          "checksum": "211e712289f49b0efe56ce97f3db7100",
          "grade": false,
          "grade_id": "cell-1169674deaad07c6",
          "locked": true,
          "schema_version": 3,
          "solution": false,
          "task": false
        },
        "outputId": "19f80ebb-0167-48f9-ec74-0c1a870761e3"
      },
      "outputs": [
        {
          "output_type": "stream",
          "name": "stdout",
          "text": [
            "relevnt documents and tfidf score for query number 172 : [(320, 1.0), (321, 1.0), (322, 1.0)]\n",
            "query:  ['solution', 'blasius', 'problem', 'three-point', 'boundary', 'conditions']\n",
            "docuemnt 320:  ['comment', 'improved', 'numerical', 'solution', 'blasius', 'problem', 'three-point', 'boundary', 'conditions']\n",
            "docuemnt 320:  ['improved', 'numerical', 'solution', 'blasius', 'problem', 'three-point', 'boundary', 'conditions']\n",
            "docuemnt 322:  ['numerical', 'solution', 'blasius', 'problem', 'three-point', 'boundary', 'conditions']\n"
          ]
        }
      ],
      "source": [
        "print('relevnt documents and tfidf score for query number 172 :',tfidf_queries_score_train[172])\n",
        "print('query: ' ,cran_txt_query_text_train[172])\n",
        "print('docuemnt 320: ', cran_txt_data_titles['320'])\n",
        "print('docuemnt 320: ', cran_txt_data_titles['321'])\n",
        "print('docuemnt 322: ', cran_txt_data_titles['322'])"
      ]
    },
    {
      "cell_type": "markdown",
      "metadata": {
        "id": "swC-nUdwviXN"
      },
      "source": [
        "#### BM25 for carnfield data (15 points)\n",
        "As a reminder:\n",
        "\n",
        "To use BM25 we will need to following parameters:\n",
        "\n",
        "* $k1$ and $b$ - free parameters\n",
        "* $f(t_i,D)$ - term frequency of term $t_i$ in document $D$\n",
        "* |$D$|- is the length of the document $D$ in terms\n",
        "* $avgdl$ -  average document length\n",
        "* $IDF$ - which is calculted as follows: $ln(\\frac{(N-n(t_i)+0.5}{n(t_i)+0.5)}+1)$, where $N$ is the total number of documents in the collection, and $n(t_i)$ is the number of documents containing $t_i$ (e.g., document frequency (df)).\n",
        "\n",
        "Now, we will use the inverted index to fetch this information.\n",
        "\n",
        "**We need to check only documents which are 'candidates' for a given query.**"
      ]
    },
    {
      "cell_type": "markdown",
      "metadata": {
        "id": "hqf4UeRPTUQm"
      },
      "source": [
        "# **YOUR TASK (15 POINTS):** Complete the implementation of `search` at the BM25 class.\n",
        "Differently, from previous implememntation, this time you should check only documents which are 'candidates' for a given query.\n"
      ]
    },
    {
      "cell_type": "code",
      "execution_count": null,
      "metadata": {
        "deletable": false,
        "id": "nPOS5HoohGTJ",
        "nbgrader": {
          "cell_type": "code",
          "checksum": "bb86ecd67fe223eece2ce11f49ac074f",
          "grade": false,
          "grade_id": "cell-e55a7a9f6855d2a6",
          "locked": false,
          "schema_version": 3,
          "solution": true,
          "task": false
        }
      },
      "outputs": [],
      "source": [
        "import math\n",
        "from itertools import chain\n",
        "import time\n",
        "# When preprocessing the data have a dictionary of document length for each document saved in a variable called `DL`.\n",
        "class BM25_from_index:\n",
        "    \"\"\"\n",
        "    Best Match 25.\n",
        "    ----------\n",
        "    k1 : float, default 1.5\n",
        "\n",
        "    b : float, default 0.75\n",
        "\n",
        "    index: inverted index\n",
        "    \"\"\"\n",
        "\n",
        "    def __init__(self,index,k1=1.5, b=0.75):\n",
        "        self.b = b\n",
        "        self.k1 = k1\n",
        "        self.index = index\n",
        "        self.N = len(DL)\n",
        "        self.AVGDL = sum(DL.values())/self.N\n",
        "        self.words, self.pls = zip(*self.index.posting_lists_iter())\n",
        "\n",
        "    def calc_idf(self,list_of_tokens):\n",
        "        \"\"\"\n",
        "        This function calculate the idf values according to the BM25 idf formula for each term in the query.\n",
        "\n",
        "        Parameters:\n",
        "        -----------\n",
        "        query: list of token representing the query. For example: ['look', 'blue', 'sky']\n",
        "\n",
        "        Returns:\n",
        "        -----------\n",
        "        idf: dictionary of idf scores. As follows:\n",
        "                                                    key: term\n",
        "                                                    value: bm25 idf score\n",
        "        \"\"\"\n",
        "        idf = {}\n",
        "        for term in list_of_tokens:\n",
        "            if term in self.index.df.keys():\n",
        "                n_ti = self.index.df[term]\n",
        "                idf[term] = math.log(1 + (self.N - n_ti + 0.5) / (n_ti + 0.5))\n",
        "            else:\n",
        "                pass\n",
        "        return idf\n",
        "\n",
        "\n",
        "    def search(self, queries,N=3):\n",
        "        \"\"\"\n",
        "        This function calculate the bm25 score for given query and document.\n",
        "        We need to check only documents which are 'candidates' for a given query.\n",
        "        This function return a dictionary of scores as the following:\n",
        "                                                                    key: query_id\n",
        "                                                                    value: a ranked list of pairs (doc_id, score) in the length of N.\n",
        "\n",
        "        Parameters:\n",
        "        -----------\n",
        "        query: list of token representing the query. For example: ['look', 'blue', 'sky']\n",
        "        doc_id: integer, document id.\n",
        "\n",
        "        Returns:\n",
        "        -----------\n",
        "        score: float, bm25 score.\n",
        "        \"\"\"\n",
        "        scores = {}\n",
        "        for query_id,query in queries.items():\n",
        "          words,pls = get_posting_iter(self.index)\n",
        "          doc_pool_dict = get_candidate_documents_and_scores(query, self.index, words, pls)\n",
        "          unique_doc_ids = list(set(doc_id for doc_id, _ in doc_pool_dict.keys()))\n",
        "          query_scores = []\n",
        "          for doc_id in unique_doc_ids:\n",
        "            score = self._score(query,doc_id)\n",
        "            query_scores.append((doc_id,score))\n",
        "            query_scores.sort(key=lambda x: x[1], reverse=True)\n",
        "          scores[query_id] = query_scores[:N]\n",
        "        return scores\n",
        "\n",
        "    def _score(self, query, doc_id):\n",
        "        \"\"\"\n",
        "        This function calculate the bm25 score for given query and document.\n",
        "\n",
        "        Parameters:\n",
        "        -----------\n",
        "        query: list of token representing the query. For example: ['look', 'blue', 'sky']\n",
        "        doc_id: integer, document id.\n",
        "\n",
        "        Returns:\n",
        "        -----------\n",
        "        score: float, bm25 score.\n",
        "        \"\"\"\n",
        "        score = 0.0\n",
        "        doc_len = DL[str(doc_id)]\n",
        "        query_idf = self.calc_idf(query)\n",
        "        for term,value in query_idf.items():\n",
        "            if term in self.index.term_total.keys():\n",
        "                term_frequencies = dict(self.pls[self.words.index(term)])\n",
        "                if doc_id in term_frequencies.keys():\n",
        "                    freq = term_frequencies[doc_id]\n",
        "                    numerator = freq * (self.k1 + 1)\n",
        "                    denominator = freq + self.k1 * (1 - self.b + self.b * doc_len / self.AVGDL)\n",
        "                    score += (numerator / denominator)*value\n",
        "        return score\n",
        "\n"
      ]
    },
    {
      "cell_type": "code",
      "execution_count": null,
      "metadata": {
        "deletable": false,
        "editable": false,
        "id": "aISsLbw9pIr0",
        "nbgrader": {
          "cell_type": "code",
          "checksum": "51fbd11cd4366bc937dbfdb776e1d39a",
          "grade": false,
          "grade_id": "cell-091c53ed5e95592e",
          "locked": true,
          "schema_version": 3,
          "solution": false,
          "task": false
        }
      },
      "outputs": [],
      "source": [
        "bm25_title = BM25_from_index(idx_title)\n",
        "bm25_queries_score_train = bm25_title.search(cran_txt_query_text_train)"
      ]
    },
    {
      "cell_type": "code",
      "execution_count": null,
      "metadata": {
        "deletable": false,
        "editable": false,
        "id": "zQXVP_4MUeuN",
        "nbgrader": {
          "cell_type": "code",
          "checksum": "984ca7b5c07667aeca49b9b6bac323bc",
          "grade": true,
          "grade_id": "cell-d01c7bc7be812e3f",
          "locked": true,
          "points": 15,
          "schema_version": 3,
          "solution": false,
          "task": false
        }
      },
      "outputs": [],
      "source": [
        "#tests\n",
        "assert len(bm25_queries_score_train)==180\n",
        "assert 0 not in bm25_queries_score_train.keys()\n",
        "assert len(bm25_queries_score_train[5])==3\n",
        "assert bm25_queries_score_train[172][0][1] != bm25_queries_score_train[172][1][1]\n",
        "assert bm25_queries_score_train[14][0][1] != bm25_queries_score_train[172][1][1]"
      ]
    },
    {
      "cell_type": "markdown",
      "metadata": {
        "id": "ZF6VVM9KHC1N"
      },
      "source": [
        "## Task 3: Using weights of title and body scores (25 points)"
      ]
    },
    {
      "cell_type": "markdown",
      "metadata": {
        "id": "GvJcS4AfHkT5"
      },
      "source": [
        "Reminder: we are building on the training set.\n",
        "Later you need to optimize the parameters and run the best parameters on the test set."
      ]
    },
    {
      "cell_type": "markdown",
      "metadata": {
        "id": "Ek3G_fS61s8w"
      },
      "source": [
        "Now we will experiment with two sets of results.\n",
        "The first corresponds to results from the title index.\n",
        "The second corresponds to the results from the body index.\n",
        "\n",
        "We need to merge them into a single result set."
      ]
    },
    {
      "cell_type": "markdown",
      "metadata": {
        "id": "vY9tftQ9WNn0"
      },
      "source": [
        "**YOUR TASK (15 POINTS):** Complete the implementation of `merge_results`.\n",
        "This function merge and sort documents retrieved by its weighte score (e.g., title and body).\n"
      ]
    },
    {
      "cell_type": "code",
      "execution_count": null,
      "metadata": {
        "deletable": false,
        "id": "Oz1yjX5z2MmJ",
        "nbgrader": {
          "cell_type": "code",
          "checksum": "8d5eaf5b2040c643be8d8436f24e025c",
          "grade": false,
          "grade_id": "cell-12bfb07aef0d4308",
          "locked": false,
          "schema_version": 3,
          "solution": true,
          "task": false
        }
      },
      "outputs": [],
      "source": [
        "def merge_results(title_scores, body_scores, title_weight=0.5, text_weight=0.5, N=3):\n",
        "    \"\"\"\n",
        "    Merge and sort documents retrieved by their weighted scores (e.g., title and body).\n",
        "\n",
        "    Parameters:\n",
        "    -----------\n",
        "    title_scores : dict\n",
        "        A dictionary with scores from the title index where each key is a query_id and\n",
        "        each value is a list of (doc_id, score) tuples.\n",
        "    body_scores : dict\n",
        "        A dictionary with scores from the body/text index similarly structured to title_scores.\n",
        "    title_weight : float\n",
        "        Weight for the title score component.\n",
        "    text_weight : float\n",
        "        Weight for the body score component.\n",
        "    N : int\n",
        "        Number of top documents to retrieve.\n",
        "\n",
        "    Returns:\n",
        "    -----------\n",
        "    dict\n",
        "        A dictionary where each key is a query_id and each value is a list of the top N (doc_id, score) tuples.\n",
        "    \"\"\"\n",
        "    merged_results = {}\n",
        "\n",
        "    # Process each query_id from title_scores and body_scores\n",
        "    query_ids = set(title_scores.keys()).union(set(body_scores.keys()))\n",
        "    for query_id in query_ids:\n",
        "        combined_scores = {}\n",
        "\n",
        "        # Merge scores from title\n",
        "        if query_id in title_scores:\n",
        "            for doc_id, score in title_scores[query_id]:\n",
        "                combined_scores[doc_id] = combined_scores.get(doc_id, 0) + score * title_weight\n",
        "\n",
        "        # Merge scores from body\n",
        "        if query_id in body_scores:\n",
        "            for doc_id, score in body_scores[query_id]:\n",
        "                combined_scores[doc_id] = combined_scores.get(doc_id, 0) + score * text_weight\n",
        "\n",
        "        # Sort by score in descending order and select the top N results\n",
        "        sorted_scores = sorted(combined_scores.items(), key=lambda x: x[1], reverse=True)[:N]\n",
        "        merged_results[query_id] = sorted_scores\n",
        "\n",
        "    return merged_results\n"
      ]
    },
    {
      "cell_type": "code",
      "execution_count": null,
      "metadata": {
        "deletable": false,
        "editable": false,
        "id": "BPrpxaW1WtPF",
        "nbgrader": {
          "cell_type": "code",
          "checksum": "71eef6e9777f134cdb8df964565dae2d",
          "grade": false,
          "grade_id": "cell-eafc1d1e97e87f62",
          "locked": true,
          "schema_version": 3,
          "solution": false,
          "task": false
        }
      },
      "outputs": [],
      "source": [
        "bm25_title = BM25_from_index(idx_title)\n",
        "bm25_body = BM25_from_index(idx_body)\n",
        "\n",
        "bm25_queries_score_train_title = bm25_title.search(cran_txt_query_text_train)\n",
        "bm25_queries_score_train_body = bm25_body.search(cran_txt_query_text_train)"
      ]
    },
    {
      "cell_type": "code",
      "execution_count": null,
      "metadata": {
        "deletable": false,
        "editable": false,
        "id": "xHD8GBBZX_RL",
        "nbgrader": {
          "cell_type": "code",
          "checksum": "ca33b10de546b8d71619b2da77f39387",
          "grade": true,
          "grade_id": "cell-78bf3238907c44fa",
          "locked": true,
          "points": 15,
          "schema_version": 3,
          "solution": false,
          "task": false
        }
      },
      "outputs": [],
      "source": [
        "#tests\n",
        "w1,w2 = 0.5, 0.5\n",
        "w3,w4 = 0.25,0.75\n",
        "\n",
        "half_and_half = merge_results(bm25_queries_score_train_title,bm25_queries_score_train_body,w1,w2)\n",
        "assert len(half_and_half[2]) == 3\n",
        "assert type(half_and_half) == dict\n",
        "assert type(half_and_half[2]) == list\n",
        "assert len(half_and_half) == 180\n",
        "assert half_and_half[2][0][1] == 0.5 * (bm25_queries_score_train_title[2][-1][1]+ bm25_queries_score_train_body[2][0][1])\n",
        "\n",
        "quarter_and_three_quarters = merge_results(bm25_queries_score_train_title,bm25_queries_score_train_body,0.25,0.75)\n",
        "\n",
        "assert quarter_and_three_quarters[2][0][1] == (w3 * bm25_queries_score_train_title[2][-1][1] + w4 * bm25_queries_score_train_body[2][0][1])\n",
        "assert {k for k,v in half_and_half[16]} != {k for k,v in quarter_and_three_quarters[16]}\n",
        "assert len({k for k,v in half_and_half[16]}.union({k for k,v in quarter_and_three_quarters[16]})) < (len({k for k,v in half_and_half[16]}) + len({k for k,v in quarter_and_three_quarters[16]}))"
      ]
    },
    {
      "cell_type": "markdown",
      "metadata": {
        "id": "finBStQSEfQO"
      },
      "source": [
        "**YOUR TASK (10 POINTS):** provide three examples of mistakes that the model is making and explanations for why, and describe how you will change the model based on these observations."
      ]
    },
    {
      "cell_type": "markdown",
      "source": [
        "1. Poor Handling of Synonyms and Semantic Similarity\n",
        "Problem: Models like BM25 might not recognize when different words mean the same thing, causing some relevant documents to not appear high enough in search results. Explanation: These models depend on exact matches between query words and document words. Solution: Incorporate natural language processing techniques that understand meanings, like word embeddings or BERT, to better match queries with documents.\n",
        "\n",
        "2. Vocabulary Mismatch\n",
        "Problem: Sometimes, the words in the query don't exactly match the words in relevant documents, even though they discuss the same topic. Explanation: Users might use different words to describe the same thing (e.g., \"Covid\" vs. \"Coronavirus\"), which can confuse simpler models. Solution: Expand queries using a thesaurus or controlled vocabulary so the model recognizes related terms, improving document retrieval.\n",
        "\n",
        "3. Handling of Long Documents and Term Saturation\n",
        "Problem: BM25 might not perform well with very long documents because important words seem less important due to their spread out appearance. Explanation: The normalization for document length in BM25 might inadequately represent the importance of terms in long texts. Solution: Tweak the normalization factor (b) in BM25 or treat long documents as a collection of smaller texts to help the model recognize important terms more effectively.\n",
        "\n",
        "Model Adjustments Based on Observations:\n",
        "Enhance Semantic Understanding: By adding semantic processing, the model can better understand content nuances and improve accuracy in matching queries to documents.\n",
        "Implement Query Expansion: Automatically broadening queries to include synonyms and related terms can capture a wider range of relevant documents.\n",
        "Optimize Document Length Handling: Adjusting model parameters or indexing strategies for long documents can ensure key terms are appropriately valued.\n",
        "These modifications aim to refine the model's ability to discern and retrieve the most relevant documents based on a deeper understanding of language and document structure.\n",
        "\n",
        "\n",
        "\n",
        "\n",
        "\n",
        "\n"
      ],
      "metadata": {
        "id": "AL_bFvAPCEpl"
      }
    }
  ],
  "metadata": {
    "colab": {
      "provenance": []
    },
    "kernelspec": {
      "display_name": "Python 3",
      "language": "python",
      "name": "python3"
    },
    "language_info": {
      "codemirror_mode": {
        "name": "ipython",
        "version": 3
      },
      "file_extension": ".py",
      "mimetype": "text/x-python",
      "name": "python",
      "nbconvert_exporter": "python",
      "pygments_lexer": "ipython3",
      "version": "3.8.5"
    },
    "toc": {
      "base_numbering": 1,
      "nav_menu": {},
      "number_sections": true,
      "sideBar": false,
      "skip_h1_title": false,
      "title_cell": "Table of Contents",
      "title_sidebar": "Contents",
      "toc_cell": false,
      "toc_position": {},
      "toc_section_display": true,
      "toc_window_display": true
    }
  },
  "nbformat": 4,
  "nbformat_minor": 0
}
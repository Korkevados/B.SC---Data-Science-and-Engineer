{
 "nbformat": 4,
 "nbformat_minor": 0,
 "metadata": {
  "colab": {
   "provenance": [],
   "collapsed_sections": [
    "qdoOQ_tWD7Ig",
    "gT9O6C9EEcC2",
    "-pjDMGU5Dh6z",
    "N72toZq0Pjzq"
   ]
  },
  "kernelspec": {
   "name": "python3",
   "display_name": "Python 3"
  },
  "language_info": {
   "name": "python"
  }
 },
 "cells": [
  {
   "cell_type": "markdown",
   "source": [
    "# Part1 - Theoretical logic"
   ],
   "metadata": {
    "id": "qdoOQ_tWD7Ig"
   }
  },
  {
   "cell_type": "markdown",
   "source": [
    "generalization error smaller than $\\epsilon \\leq 0.3$ with a probability of $1-δ = 80$% we need sample size $m$ :\n",
    "--\n",
    "$m \\geq  \\frac {log_e(\\frac {|H|}{δ})}{\\epsilon}$\n",
    "\n",
    "$m \\geq  \\frac {log_e(\\frac {|2001|}{0.2})}{0.3} \\approx 30.71$\n",
    "\n",
    "so we need sample size $ m = 31$"
   ],
   "metadata": {
    "id": "OrYyGrazmYl9"
   }
  },
  {
   "cell_type": "markdown",
   "source": [
    "# Part2"
   ],
   "metadata": {
    "id": "ZURiBI-OD-mE"
   }
  },
  {
   "cell_type": "markdown",
   "source": [
    "## Module import"
   ],
   "metadata": {
    "id": "gT9O6C9EEcC2"
   }
  },
  {
   "cell_type": "code",
   "source": [
    "import random  # Ensure the random module is imported\n",
    "import matplotlib.pyplot as plt\n",
    "import numpy as np\n",
    "import plotly.graph_objects as go\n",
    "from plotly.subplots import make_subplots\n",
    "\n"
   ],
   "metadata": {
    "id": "yHmBrvpvm8rQ",
    "pycharm": {
     "is_executing": true
    }
   },
   "execution_count": null,
   "outputs": []
  },
  {
   "cell_type": "markdown",
   "source": [
    "## Passive learner algorithem\n"
   ],
   "metadata": {
    "id": "-pjDMGU5Dh6z"
   }
  },
  {
   "cell_type": "code",
   "execution_count": 21,
   "metadata": {
    "id": "WlPgTPNbhc1h"
   },
   "outputs": [],
   "source": [
    "def Passive_algo(samples):\n",
    "    max_0 = float('-inf')\n",
    "    min_1 = float('inf')\n",
    "\n",
    "    for sample, label in samples:\n",
    "        if label == 0:\n",
    "            max_0 = max(max_0, sample)\n",
    "        elif label == 1:\n",
    "            min_1 = min(min_1, sample)\n",
    "\n",
    "    return (max_0+min_1)/2\n",
    "\n"
   ]
  },
  {
   "cell_type": "code",
   "source": [
    "def generate_random_threshold(startrange,endrange):\n",
    "    \"\"\"\n",
    "    Generates a random integer between -1000 and 1000.\n",
    "\n",
    "    Returns:\n",
    "        int: A random integer between -1000 and 1000.\n",
    "    \"\"\"\n",
    "    return random.randint(-1000, 1000)"
   ],
   "metadata": {
    "id": "mL63OubUkUBS"
   },
   "execution_count": 22,
   "outputs": []
  },
  {
   "cell_type": "code",
   "source": [
    "def generate_samples(num_samples, threshold,startrange,endrange):\n",
    "    \"\"\"\n",
    "    Generates a list of random samples with labels based on a threshold.\n",
    "\n",
    "    Args:\n",
    "        num_samples (int): The number of samples to generate.\n",
    "        threshold (int): The threshold value to determine the labels.\n",
    "\n",
    "    Returns:\n",
    "        list of tuple: A list of tuples where each tuple contains:\n",
    "                       - int: A random sample value between -1000 and 1000.\n",
    "                       - int: A label (0 if the value is below the threshold, 1 otherwise).\n",
    "    \"\"\"\n",
    "    samples = []\n",
    "    for _ in range(num_samples):\n",
    "        sample_value = random.randint(startrange,endrange)  # Generate random sample value\n",
    "        label = 0 if sample_value < threshold else 1  # Assign label based on threshold\n",
    "        samples.append((sample_value, label))\n",
    "    return samples"
   ],
   "metadata": {
    "id": "uJfsUG-fley-"
   },
   "execution_count": 23,
   "outputs": []
  },
  {
   "cell_type": "code",
   "source": [
    "def compute_error(threshold, estimated_threshold,range):\n",
    "    \"\"\"\n",
    "    Computes the error as the normalized absolute difference between\n",
    "    the actual threshold and the estimated threshold.\n",
    "\n",
    "    Args:\n",
    "        threshold (int): The actual threshold value.\n",
    "        estimated_threshold (int): The estimated threshold value.\n",
    "\n",
    "    Returns:\n",
    "        float: The error, normalized by dividing the absolute difference\n",
    "               by 2000.\n",
    "    \"\"\"\n",
    "    return abs(threshold - estimated_threshold) / range"
   ],
   "metadata": {
    "id": "NYQr09UC4UGr"
   },
   "execution_count": 24,
   "outputs": []
  },
  {
   "cell_type": "code",
   "source": [
    "def run_simulation(trials, sample_sizes, threshold,startrange,endrange,errorlimit):\n",
    "    \"\"\"\n",
    "    Runs a simulation to estimate probabilities and confidence intervals\n",
    "    for a threshold prediction algorithm.\n",
    "\n",
    "    Args:\n",
    "        trials (int): The number of trials for each sample size.\n",
    "        sample_sizes (list of int): A list of sample sizes for the simulation.\n",
    "        threshold (int): The true threshold used for comparison.\n",
    "\n",
    "    Returns:\n",
    "        tuple:\n",
    "            - list of float: A list of probabilities for each sample size.\n",
    "            - list of float: A list of confidence intervals (width) for the probabilities.\n",
    "    \"\"\"\n",
    "    probabilities = []\n",
    "    confidence_intervals = []\n",
    "\n",
    "    for size in sample_sizes:\n",
    "        errors = []\n",
    "\n",
    "        for _ in range(trials):\n",
    "            samples = generate_samples(size, threshold,startrange,endrange)\n",
    "            estimated_threshold = Passive_algo(samples)\n",
    "            error = compute_error(threshold, estimated_threshold,endrange-startrange)\n",
    "            errors.append(error < errorlimit)  # Check if error is below 30%\n",
    "\n",
    "        prob = np.mean(errors)  # Calculate the average probability\n",
    "        ci = 1.28 * np.std(errors) / np.sqrt(trials)  # 80% confidence interval\n",
    "        probabilities.append(prob)\n",
    "        confidence_intervals.append(ci)\n",
    "\n",
    "\n",
    "    return probabilities, confidence_intervals"
   ],
   "metadata": {
    "id": "clE_p53z4Ab5"
   },
   "execution_count": 25,
   "outputs": []
  },
  {
   "cell_type": "code",
   "source": [
    "def ploti():\n",
    "    random.seed(12)\n",
    "    startrange = -1000\n",
    "    endrange = 1000\n",
    "    errorlimit = 0.3\n",
    "    threshold = random.randint(startrange, endrange)\n",
    "    print(f\"True Threshold: {threshold}\")\n",
    "\n",
    "    sample_sizes = range(1, 33, 2)\n",
    "    trials = 1000  # Number of simulations\n",
    "\n",
    "    probabilities, confidence_intervals = run_simulation(trials, sample_sizes, threshold, startrange, endrange,errorlimit)\n",
    "\n",
    "    # Create interactive Plotly scatter plot\n",
    "    fig = go.Figure()\n",
    "\n",
    "    # Add scatter plot with error bars\n",
    "    fig.add_trace(go.Scatter(\n",
    "        x=list(sample_sizes),\n",
    "        y=probabilities,\n",
    "        mode='markers+lines',\n",
    "        error_y=dict(\n",
    "            type='data',\n",
    "            array=confidence_intervals,\n",
    "            visible=True\n",
    "        ),\n",
    "        hovertemplate=(\n",
    "            \"<b>Sample Size:</b> %{x}<br>\"\n",
    "            \"<b>Probability:</b> %{y:.2f}<br>\"\n",
    "            \"<b>Confidence Interval:</b> ±%{error_y.array:.2f}<extra></extra>\"\n",
    "        ),\n",
    "        name=\"Empirical Probability\"\n",
    "    ))\n",
    "\n",
    "    # Add horizontal line for 80% confidence\n",
    "    fig.add_trace(go.Scatter(\n",
    "        x=[min(sample_sizes), max(sample_sizes)],\n",
    "        y=[0.8, 0.8],\n",
    "        mode='lines',\n",
    "        line=dict(dash='dash', color='red'),\n",
    "        name=\"80% Confidence\"\n",
    "    ))\n",
    "\n",
    "    # Update layout with title and subtitle\n",
    "    fig.update_layout(\n",
    "        title={\n",
    "            'text': f\"Probability of Generalization Error < <b>{errorlimit*100}%</b> vs Sample Size<br><br>\"\n",
    "                    f\"<sup>From :  {startrange} , To : {endrange}</sup>\",\n",
    "            'x': 0.5,  # Center the title\n",
    "        },\n",
    "        xaxis_title=\"Sample Size\",\n",
    "        yaxis_title=\"Probability\",\n",
    "        legend_title=\"Legend\",\n",
    "        template=\"plotly_white\"\n",
    "    )\n",
    "\n",
    "    # Show the plot\n",
    "    fig.show()\n",
    "\n",
    "ploti()\n"
   ],
   "metadata": {
    "colab": {
     "base_uri": "https://localhost:8080/",
     "height": 560
    },
    "id": "hcGreLCS4EYx",
    "outputId": "1a4af421-3f52-46b2-8722-1a0f5346c25d",
    "collapsed": true
   },
   "execution_count": 26,
   "outputs": [
    {
     "output_type": "stream",
     "name": "stdout",
     "text": [
      "True Threshold: -29\n"
     ]
    },
    {
     "output_type": "display_data",
     "data": {
      "text/html": [
       "<html>\n",
       "<head><meta charset=\"utf-8\" /></head>\n",
       "<body>\n",
       "    <div>            <script src=\"https://cdnjs.cloudflare.com/ajax/libs/mathjax/2.7.5/MathJax.js?config=TeX-AMS-MML_SVG\"></script><script type=\"text/javascript\">if (window.MathJax && window.MathJax.Hub && window.MathJax.Hub.Config) {window.MathJax.Hub.Config({SVG: {font: \"STIX-Web\"}});}</script>                <script type=\"text/javascript\">window.PlotlyConfig = {MathJaxConfig: 'local'};</script>\n",
       "        <script charset=\"utf-8\" src=\"https://cdn.plot.ly/plotly-2.35.2.min.js\"></script>                <div id=\"ecc07311-dede-4ffe-a786-f3aa4415e0df\" class=\"plotly-graph-div\" style=\"height:525px; width:100%;\"></div>            <script type=\"text/javascript\">                                    window.PLOTLYENV=window.PLOTLYENV || {};                                    if (document.getElementById(\"ecc07311-dede-4ffe-a786-f3aa4415e0df\")) {                    Plotly.newPlot(                        \"ecc07311-dede-4ffe-a786-f3aa4415e0df\",                        [{\"error_y\":{\"array\":[0.0,0.01755042910016732,0.010726369451030485,0.004027425976973382,0.0022136969982362088,0.0018083822604748148,0.0,0.0,0.0,0.0,0.0,0.0,0.0,0.0,0.0,0.0],\"type\":\"data\",\"visible\":true},\"hovertemplate\":\"\\u003cb\\u003eSample Size:\\u003c\\u002fb\\u003e %{x}\\u003cbr\\u003e\\u003cb\\u003eProbability:\\u003c\\u002fb\\u003e %{y:.2f}\\u003cbr\\u003e\\u003cb\\u003eConfidence Interval:\\u003c\\u002fb\\u003e ±%{error_y.array:.2f}\\u003cextra\\u003e\\u003c\\u002fextra\\u003e\",\"mode\":\"markers+lines\",\"name\":\"Empirical Probability\",\"x\":[1,3,5,7,9,11,13,15,17,19,21,23,25,27,29,31],\"y\":[0.0,0.749,0.924,0.99,0.997,0.998,1.0,1.0,1.0,1.0,1.0,1.0,1.0,1.0,1.0,1.0],\"type\":\"scatter\"},{\"line\":{\"color\":\"red\",\"dash\":\"dash\"},\"mode\":\"lines\",\"name\":\"80% Confidence\",\"x\":[1,31],\"y\":[0.8,0.8],\"type\":\"scatter\"}],                        {\"template\":{\"data\":{\"barpolar\":[{\"marker\":{\"line\":{\"color\":\"white\",\"width\":0.5},\"pattern\":{\"fillmode\":\"overlay\",\"size\":10,\"solidity\":0.2}},\"type\":\"barpolar\"}],\"bar\":[{\"error_x\":{\"color\":\"#2a3f5f\"},\"error_y\":{\"color\":\"#2a3f5f\"},\"marker\":{\"line\":{\"color\":\"white\",\"width\":0.5},\"pattern\":{\"fillmode\":\"overlay\",\"size\":10,\"solidity\":0.2}},\"type\":\"bar\"}],\"carpet\":[{\"aaxis\":{\"endlinecolor\":\"#2a3f5f\",\"gridcolor\":\"#C8D4E3\",\"linecolor\":\"#C8D4E3\",\"minorgridcolor\":\"#C8D4E3\",\"startlinecolor\":\"#2a3f5f\"},\"baxis\":{\"endlinecolor\":\"#2a3f5f\",\"gridcolor\":\"#C8D4E3\",\"linecolor\":\"#C8D4E3\",\"minorgridcolor\":\"#C8D4E3\",\"startlinecolor\":\"#2a3f5f\"},\"type\":\"carpet\"}],\"choropleth\":[{\"colorbar\":{\"outlinewidth\":0,\"ticks\":\"\"},\"type\":\"choropleth\"}],\"contourcarpet\":[{\"colorbar\":{\"outlinewidth\":0,\"ticks\":\"\"},\"type\":\"contourcarpet\"}],\"contour\":[{\"colorbar\":{\"outlinewidth\":0,\"ticks\":\"\"},\"colorscale\":[[0.0,\"#0d0887\"],[0.1111111111111111,\"#46039f\"],[0.2222222222222222,\"#7201a8\"],[0.3333333333333333,\"#9c179e\"],[0.4444444444444444,\"#bd3786\"],[0.5555555555555556,\"#d8576b\"],[0.6666666666666666,\"#ed7953\"],[0.7777777777777778,\"#fb9f3a\"],[0.8888888888888888,\"#fdca26\"],[1.0,\"#f0f921\"]],\"type\":\"contour\"}],\"heatmapgl\":[{\"colorbar\":{\"outlinewidth\":0,\"ticks\":\"\"},\"colorscale\":[[0.0,\"#0d0887\"],[0.1111111111111111,\"#46039f\"],[0.2222222222222222,\"#7201a8\"],[0.3333333333333333,\"#9c179e\"],[0.4444444444444444,\"#bd3786\"],[0.5555555555555556,\"#d8576b\"],[0.6666666666666666,\"#ed7953\"],[0.7777777777777778,\"#fb9f3a\"],[0.8888888888888888,\"#fdca26\"],[1.0,\"#f0f921\"]],\"type\":\"heatmapgl\"}],\"heatmap\":[{\"colorbar\":{\"outlinewidth\":0,\"ticks\":\"\"},\"colorscale\":[[0.0,\"#0d0887\"],[0.1111111111111111,\"#46039f\"],[0.2222222222222222,\"#7201a8\"],[0.3333333333333333,\"#9c179e\"],[0.4444444444444444,\"#bd3786\"],[0.5555555555555556,\"#d8576b\"],[0.6666666666666666,\"#ed7953\"],[0.7777777777777778,\"#fb9f3a\"],[0.8888888888888888,\"#fdca26\"],[1.0,\"#f0f921\"]],\"type\":\"heatmap\"}],\"histogram2dcontour\":[{\"colorbar\":{\"outlinewidth\":0,\"ticks\":\"\"},\"colorscale\":[[0.0,\"#0d0887\"],[0.1111111111111111,\"#46039f\"],[0.2222222222222222,\"#7201a8\"],[0.3333333333333333,\"#9c179e\"],[0.4444444444444444,\"#bd3786\"],[0.5555555555555556,\"#d8576b\"],[0.6666666666666666,\"#ed7953\"],[0.7777777777777778,\"#fb9f3a\"],[0.8888888888888888,\"#fdca26\"],[1.0,\"#f0f921\"]],\"type\":\"histogram2dcontour\"}],\"histogram2d\":[{\"colorbar\":{\"outlinewidth\":0,\"ticks\":\"\"},\"colorscale\":[[0.0,\"#0d0887\"],[0.1111111111111111,\"#46039f\"],[0.2222222222222222,\"#7201a8\"],[0.3333333333333333,\"#9c179e\"],[0.4444444444444444,\"#bd3786\"],[0.5555555555555556,\"#d8576b\"],[0.6666666666666666,\"#ed7953\"],[0.7777777777777778,\"#fb9f3a\"],[0.8888888888888888,\"#fdca26\"],[1.0,\"#f0f921\"]],\"type\":\"histogram2d\"}],\"histogram\":[{\"marker\":{\"pattern\":{\"fillmode\":\"overlay\",\"size\":10,\"solidity\":0.2}},\"type\":\"histogram\"}],\"mesh3d\":[{\"colorbar\":{\"outlinewidth\":0,\"ticks\":\"\"},\"type\":\"mesh3d\"}],\"parcoords\":[{\"line\":{\"colorbar\":{\"outlinewidth\":0,\"ticks\":\"\"}},\"type\":\"parcoords\"}],\"pie\":[{\"automargin\":true,\"type\":\"pie\"}],\"scatter3d\":[{\"line\":{\"colorbar\":{\"outlinewidth\":0,\"ticks\":\"\"}},\"marker\":{\"colorbar\":{\"outlinewidth\":0,\"ticks\":\"\"}},\"type\":\"scatter3d\"}],\"scattercarpet\":[{\"marker\":{\"colorbar\":{\"outlinewidth\":0,\"ticks\":\"\"}},\"type\":\"scattercarpet\"}],\"scattergeo\":[{\"marker\":{\"colorbar\":{\"outlinewidth\":0,\"ticks\":\"\"}},\"type\":\"scattergeo\"}],\"scattergl\":[{\"marker\":{\"colorbar\":{\"outlinewidth\":0,\"ticks\":\"\"}},\"type\":\"scattergl\"}],\"scattermapbox\":[{\"marker\":{\"colorbar\":{\"outlinewidth\":0,\"ticks\":\"\"}},\"type\":\"scattermapbox\"}],\"scatterpolargl\":[{\"marker\":{\"colorbar\":{\"outlinewidth\":0,\"ticks\":\"\"}},\"type\":\"scatterpolargl\"}],\"scatterpolar\":[{\"marker\":{\"colorbar\":{\"outlinewidth\":0,\"ticks\":\"\"}},\"type\":\"scatterpolar\"}],\"scatter\":[{\"fillpattern\":{\"fillmode\":\"overlay\",\"size\":10,\"solidity\":0.2},\"type\":\"scatter\"}],\"scatterternary\":[{\"marker\":{\"colorbar\":{\"outlinewidth\":0,\"ticks\":\"\"}},\"type\":\"scatterternary\"}],\"surface\":[{\"colorbar\":{\"outlinewidth\":0,\"ticks\":\"\"},\"colorscale\":[[0.0,\"#0d0887\"],[0.1111111111111111,\"#46039f\"],[0.2222222222222222,\"#7201a8\"],[0.3333333333333333,\"#9c179e\"],[0.4444444444444444,\"#bd3786\"],[0.5555555555555556,\"#d8576b\"],[0.6666666666666666,\"#ed7953\"],[0.7777777777777778,\"#fb9f3a\"],[0.8888888888888888,\"#fdca26\"],[1.0,\"#f0f921\"]],\"type\":\"surface\"}],\"table\":[{\"cells\":{\"fill\":{\"color\":\"#EBF0F8\"},\"line\":{\"color\":\"white\"}},\"header\":{\"fill\":{\"color\":\"#C8D4E3\"},\"line\":{\"color\":\"white\"}},\"type\":\"table\"}]},\"layout\":{\"annotationdefaults\":{\"arrowcolor\":\"#2a3f5f\",\"arrowhead\":0,\"arrowwidth\":1},\"autotypenumbers\":\"strict\",\"coloraxis\":{\"colorbar\":{\"outlinewidth\":0,\"ticks\":\"\"}},\"colorscale\":{\"diverging\":[[0,\"#8e0152\"],[0.1,\"#c51b7d\"],[0.2,\"#de77ae\"],[0.3,\"#f1b6da\"],[0.4,\"#fde0ef\"],[0.5,\"#f7f7f7\"],[0.6,\"#e6f5d0\"],[0.7,\"#b8e186\"],[0.8,\"#7fbc41\"],[0.9,\"#4d9221\"],[1,\"#276419\"]],\"sequential\":[[0.0,\"#0d0887\"],[0.1111111111111111,\"#46039f\"],[0.2222222222222222,\"#7201a8\"],[0.3333333333333333,\"#9c179e\"],[0.4444444444444444,\"#bd3786\"],[0.5555555555555556,\"#d8576b\"],[0.6666666666666666,\"#ed7953\"],[0.7777777777777778,\"#fb9f3a\"],[0.8888888888888888,\"#fdca26\"],[1.0,\"#f0f921\"]],\"sequentialminus\":[[0.0,\"#0d0887\"],[0.1111111111111111,\"#46039f\"],[0.2222222222222222,\"#7201a8\"],[0.3333333333333333,\"#9c179e\"],[0.4444444444444444,\"#bd3786\"],[0.5555555555555556,\"#d8576b\"],[0.6666666666666666,\"#ed7953\"],[0.7777777777777778,\"#fb9f3a\"],[0.8888888888888888,\"#fdca26\"],[1.0,\"#f0f921\"]]},\"colorway\":[\"#636efa\",\"#EF553B\",\"#00cc96\",\"#ab63fa\",\"#FFA15A\",\"#19d3f3\",\"#FF6692\",\"#B6E880\",\"#FF97FF\",\"#FECB52\"],\"font\":{\"color\":\"#2a3f5f\"},\"geo\":{\"bgcolor\":\"white\",\"lakecolor\":\"white\",\"landcolor\":\"white\",\"showlakes\":true,\"showland\":true,\"subunitcolor\":\"#C8D4E3\"},\"hoverlabel\":{\"align\":\"left\"},\"hovermode\":\"closest\",\"mapbox\":{\"style\":\"light\"},\"paper_bgcolor\":\"white\",\"plot_bgcolor\":\"white\",\"polar\":{\"angularaxis\":{\"gridcolor\":\"#EBF0F8\",\"linecolor\":\"#EBF0F8\",\"ticks\":\"\"},\"bgcolor\":\"white\",\"radialaxis\":{\"gridcolor\":\"#EBF0F8\",\"linecolor\":\"#EBF0F8\",\"ticks\":\"\"}},\"scene\":{\"xaxis\":{\"backgroundcolor\":\"white\",\"gridcolor\":\"#DFE8F3\",\"gridwidth\":2,\"linecolor\":\"#EBF0F8\",\"showbackground\":true,\"ticks\":\"\",\"zerolinecolor\":\"#EBF0F8\"},\"yaxis\":{\"backgroundcolor\":\"white\",\"gridcolor\":\"#DFE8F3\",\"gridwidth\":2,\"linecolor\":\"#EBF0F8\",\"showbackground\":true,\"ticks\":\"\",\"zerolinecolor\":\"#EBF0F8\"},\"zaxis\":{\"backgroundcolor\":\"white\",\"gridcolor\":\"#DFE8F3\",\"gridwidth\":2,\"linecolor\":\"#EBF0F8\",\"showbackground\":true,\"ticks\":\"\",\"zerolinecolor\":\"#EBF0F8\"}},\"shapedefaults\":{\"line\":{\"color\":\"#2a3f5f\"}},\"ternary\":{\"aaxis\":{\"gridcolor\":\"#DFE8F3\",\"linecolor\":\"#A2B1C6\",\"ticks\":\"\"},\"baxis\":{\"gridcolor\":\"#DFE8F3\",\"linecolor\":\"#A2B1C6\",\"ticks\":\"\"},\"bgcolor\":\"white\",\"caxis\":{\"gridcolor\":\"#DFE8F3\",\"linecolor\":\"#A2B1C6\",\"ticks\":\"\"}},\"title\":{\"x\":0.05},\"xaxis\":{\"automargin\":true,\"gridcolor\":\"#EBF0F8\",\"linecolor\":\"#EBF0F8\",\"ticks\":\"\",\"title\":{\"standoff\":15},\"zerolinecolor\":\"#EBF0F8\",\"zerolinewidth\":2},\"yaxis\":{\"automargin\":true,\"gridcolor\":\"#EBF0F8\",\"linecolor\":\"#EBF0F8\",\"ticks\":\"\",\"title\":{\"standoff\":15},\"zerolinecolor\":\"#EBF0F8\",\"zerolinewidth\":2}}},\"title\":{\"text\":\"Probability of Generalization Error \\u003c \\u003cb\\u003e30.0%\\u003c\\u002fb\\u003e vs Sample Size\\u003cbr\\u003e\\u003cbr\\u003e\\u003csup\\u003eFrom :  -1000 , To : 1000\\u003c\\u002fsup\\u003e\",\"x\":0.5},\"xaxis\":{\"title\":{\"text\":\"Sample Size\"}},\"yaxis\":{\"title\":{\"text\":\"Probability\"}},\"legend\":{\"title\":{\"text\":\"Legend\"}}},                        {\"responsive\": true}                    ).then(function(){\n",
       "                            \n",
       "var gd = document.getElementById('ecc07311-dede-4ffe-a786-f3aa4415e0df');\n",
       "var x = new MutationObserver(function (mutations, observer) {{\n",
       "        var display = window.getComputedStyle(gd).display;\n",
       "        if (!display || display === 'none') {{\n",
       "            console.log([gd, 'removed!']);\n",
       "            Plotly.purge(gd);\n",
       "            observer.disconnect();\n",
       "        }}\n",
       "}});\n",
       "\n",
       "// Listen for the removal of the full notebook cells\n",
       "var notebookContainer = gd.closest('#notebook-container');\n",
       "if (notebookContainer) {{\n",
       "    x.observe(notebookContainer, {childList: true});\n",
       "}}\n",
       "\n",
       "// Listen for the clearing of the current output cell\n",
       "var outputEl = gd.closest('.output');\n",
       "if (outputEl) {{\n",
       "    x.observe(outputEl, {childList: true});\n",
       "}}\n",
       "\n",
       "                        })                };                            </script>        </div>\n",
       "</body>\n",
       "</html>"
      ]
     },
     "metadata": {}
    }
   ]
  },
  {
   "cell_type": "markdown",
   "source": [
    "### More simulations differnet errorrate limit and differnet intervals"
   ],
   "metadata": {
    "id": "podW6d0uZtMb"
   }
  },
  {
   "cell_type": "code",
   "source": [
    "def ploti_for_intervals(intervals,errorlimit):\n",
    "    # Create a grid of subplots\n",
    "    fig = make_subplots(\n",
    "        rows=2, cols=3,  # 2 rows, 3 columns (one cell will be empty)\n",
    "        subplot_titles=[\n",
    "            f\"From: {start}, To: {end}\" for start, end in intervals\n",
    "        ]\n",
    "    )\n",
    "\n",
    "    for i, (startrange, endrange) in enumerate(intervals):\n",
    "        row, col = divmod(i, 3)  # Determine row and column for each subplot\n",
    "        row += 1\n",
    "        col += 1\n",
    "\n",
    "        random.seed(12)\n",
    "        threshold = random.randint(startrange, endrange)\n",
    "        print(f\"True Threshold for Interval {startrange} to {endrange}: {threshold}\")\n",
    "\n",
    "        sample_sizes = list(range(1, 33, 2))\n",
    "        trials = 1000  # Number of simulations\n",
    "\n",
    "        probabilities, confidence_intervals = run_simulation(trials, sample_sizes, threshold, startrange, endrange,errorlimit)\n",
    "\n",
    "        # Find the first sample size where probability crosses 80%\n",
    "        crossing_index = next((idx for idx, prob in enumerate(probabilities) if prob >= 0.8), None)\n",
    "        crossing_sample_size = sample_sizes[crossing_index] if crossing_index is not None else None\n",
    "\n",
    "        # Add scatter plot with error bars to the subplot\n",
    "        fig.add_trace(\n",
    "            go.Scatter(\n",
    "                x=sample_sizes,\n",
    "                y=probabilities,\n",
    "                mode='markers+lines',\n",
    "                error_y=dict(\n",
    "                    type='data',\n",
    "                    array=confidence_intervals,\n",
    "                    visible=True\n",
    "                ),\n",
    "                name=f\"Interval {startrange} to {endrange}\",\n",
    "                hovertemplate=(\n",
    "                    \"<b>Sample Size:</b> %{x}<br>\"\n",
    "                    \"<b>Probability:</b> %{y:.2f}<br>\"\n",
    "                    \"<b>Confidence Interval:</b> ±%{error_y.array:.2f}<extra></extra>\"\n",
    "                )\n",
    "            ),\n",
    "            row=row, col=col\n",
    "        )\n",
    "\n",
    "        # Add horizontal line for 80% confidence\n",
    "        fig.add_trace(\n",
    "            go.Scatter(\n",
    "                x=[min(sample_sizes), max(sample_sizes)],\n",
    "                y=[0.8, 0.8],\n",
    "                mode='lines',\n",
    "                line=dict(dash='dash', color='red'),\n",
    "                showlegend=False  # Avoid repeated legend items\n",
    "            ),\n",
    "            row=row, col=col\n",
    "        )\n",
    "\n",
    "        # Add vertical line and annotation if crossing point exists\n",
    "        if crossing_sample_size:\n",
    "            # Add vertical line\n",
    "            fig.add_trace(\n",
    "                go.Scatter(\n",
    "                    x=[crossing_sample_size, crossing_sample_size],\n",
    "                    y=[0, 1],  # Vertical line spans the entire y-range\n",
    "                    mode='lines',\n",
    "                    line=dict(dash='dot', color='blue'),\n",
    "                    showlegend=False\n",
    "                ),\n",
    "                row=row, col=col\n",
    "            )\n",
    "\n",
    "            fig.add_annotation(\n",
    "    x=crossing_sample_size,\n",
    "    y=0,  # Position at the bottom (near the x-axis)\n",
    "    text=f\"x = {crossing_sample_size}\",\n",
    "    ax=0,  # Keep the arrow horizontal\n",
    "    ay=20,  # Arrow points upwards slightly above the text\n",
    "    row=row,\n",
    "    col=col\n",
    ")\n",
    "\n",
    "    # Update layout with a common title and axis labels\n",
    "    fig.update_layout(\n",
    "        title=f\"Probability of Generalization Error < <b>{errorlimit*100}%</b> for Different Ranges\",\n",
    "        xaxis_title=\"Sample Size\",\n",
    "        yaxis_title=\"Probability\",\n",
    "        template=\"plotly_white\",\n",
    "        height=800,  # Adjust height for better visualization\n",
    "    )\n",
    "\n",
    "    # Show the plot\n",
    "    fig.show()\n",
    "\n"
   ],
   "metadata": {
    "collapsed": true,
    "id": "N-ewUzynMMjj"
   },
   "execution_count": 27,
   "outputs": []
  },
  {
   "cell_type": "code",
   "source": [
    "# Define the intervals\n",
    "intervals = [(-200,200),(-1000, 1000), (-2000, 2000), (-3000, 3000), (-5000, 5000), (-10000, 10000)]\n",
    "errorlimit = [0.01,0.05,0.1,0.3]\n",
    "# Plot the graphs for the intervals\n",
    "for error in errorlimit:\n",
    "  ploti_for_intervals(intervals,error)\n"
   ],
   "metadata": {
    "colab": {
     "base_uri": "https://localhost:8080/",
     "height": 1000
    },
    "id": "cKQEDZlFY1U0",
    "outputId": "6fb9a1dc-983d-4eed-a395-46fc9a2e7ac8"
   },
   "execution_count": 28,
   "outputs": [
    {
     "output_type": "stream",
     "name": "stdout",
     "text": [
      "True Threshold for Interval -200 to 200: 42\n",
      "True Threshold for Interval -1000 to 1000: -29\n",
      "True Threshold for Interval -2000 to 2000: -57\n",
      "True Threshold for Interval -3000 to 3000: 887\n",
      "True Threshold for Interval -5000 to 5000: 2775\n",
      "True Threshold for Interval -10000 to 10000: 5550\n"
     ]
    },
    {
     "output_type": "display_data",
     "data": {
      "text/html": [
       "<html>\n",
       "<head><meta charset=\"utf-8\" /></head>\n",
       "<body>\n",
       "    <div>            <script src=\"https://cdnjs.cloudflare.com/ajax/libs/mathjax/2.7.5/MathJax.js?config=TeX-AMS-MML_SVG\"></script><script type=\"text/javascript\">if (window.MathJax && window.MathJax.Hub && window.MathJax.Hub.Config) {window.MathJax.Hub.Config({SVG: {font: \"STIX-Web\"}});}</script>                <script type=\"text/javascript\">window.PlotlyConfig = {MathJaxConfig: 'local'};</script>\n",
       "        <script charset=\"utf-8\" src=\"https://cdn.plot.ly/plotly-2.35.2.min.js\"></script>                <div id=\"d60eddca-c718-4855-98da-69c60d159a2c\" class=\"plotly-graph-div\" style=\"height:800px; width:100%;\"></div>            <script type=\"text/javascript\">                                    window.PLOTLYENV=window.PLOTLYENV || {};                                    if (document.getElementById(\"d60eddca-c718-4855-98da-69c60d159a2c\")) {                    Plotly.newPlot(                        \"d60eddca-c718-4855-98da-69c60d159a2c\",                        [{\"error_y\":{\"array\":[0.0,0.00783617212674658,0.011583823203070737,0.012664886892507174,0.014876606924967804,0.016005835735755883,0.01642873891691021,0.017480132905673226,0.0179702153576411,0.01885018934652912,0.018928036517293603,0.01929359587013266,0.01978728480615772,0.01970551581664383,0.020021712374320037,0.020137129884866913],\"type\":\"data\",\"visible\":true},\"hovertemplate\":\"\\u003cb\\u003eSample Size:\\u003c\\u002fb\\u003e %{x}\\u003cbr\\u003e\\u003cb\\u003eProbability:\\u003c\\u002fb\\u003e %{y:.2f}\\u003cbr\\u003e\\u003cb\\u003eConfidence Interval:\\u003c\\u002fb\\u003e ±%{error_y.array:.2f}\\u003cextra\\u003e\\u003c\\u002fextra\\u003e\",\"mode\":\"markers+lines\",\"name\":\"Interval -200 to 200\",\"x\":[1,3,5,7,9,11,13,15,17,19,21,23,25,27,29,31],\"y\":[0.0,0.039,0.09,0.11,0.161,0.194,0.208,0.248,0.27,0.318,0.323,0.349,0.395,0.386,0.427,0.45],\"type\":\"scatter\",\"xaxis\":\"x\",\"yaxis\":\"y\"},{\"line\":{\"color\":\"red\",\"dash\":\"dash\"},\"mode\":\"lines\",\"showlegend\":false,\"x\":[1,31],\"y\":[0.8,0.8],\"type\":\"scatter\",\"xaxis\":\"x\",\"yaxis\":\"y\"},{\"error_y\":{\"array\":[0.0,0.009537417344333844,0.011924215093665494,0.013432317804459512,0.01472561979680312,0.016656926775368862,0.01716226558470647,0.017732458645094876,0.0183856751195054,0.01898853144400588,0.01924155503071413,0.019405239045165102,0.019464040443854403,0.020044938952264234,0.020215248739503557,0.02010663667548603],\"type\":\"data\",\"visible\":true},\"hovertemplate\":\"\\u003cb\\u003eSample Size:\\u003c\\u002fb\\u003e %{x}\\u003cbr\\u003e\\u003cb\\u003eProbability:\\u003c\\u002fb\\u003e %{y:.2f}\\u003cbr\\u003e\\u003cb\\u003eConfidence Interval:\\u003c\\u002fb\\u003e ±%{error_y.array:.2f}\\u003cextra\\u003e\\u003c\\u002fextra\\u003e\",\"mode\":\"markers+lines\",\"name\":\"Interval -1000 to 1000\",\"x\":[1,3,5,7,9,11,13,15,17,19,21,23,25,27,29,31],\"y\":[0.0,0.059,0.096,0.126,0.157,0.216,0.235,0.259,0.291,0.327,0.345,0.358,0.363,0.431,0.476,0.443],\"type\":\"scatter\",\"xaxis\":\"x2\",\"yaxis\":\"y2\"},{\"line\":{\"color\":\"red\",\"dash\":\"dash\"},\"mode\":\"lines\",\"showlegend\":false,\"x\":[1,31],\"y\":[0.8,0.8],\"type\":\"scatter\",\"xaxis\":\"x2\",\"yaxis\":\"y2\"},{\"error_y\":{\"array\":[0.0,0.009537417344333844,0.011868506224458071,0.013247598061535531,0.014876606924967803,0.016129828467779814,0.01703410226574914,0.017550429100167325,0.018477455062859714,0.018973555323133297,0.019160663704579754,0.01949822785793622,0.019733557043776977,0.020027644254879302,0.020163595869784733,0.020152745361364546],\"type\":\"data\",\"visible\":true},\"hovertemplate\":\"\\u003cb\\u003eSample Size:\\u003c\\u002fb\\u003e %{x}\\u003cbr\\u003e\\u003cb\\u003eProbability:\\u003c\\u002fb\\u003e %{y:.2f}\\u003cbr\\u003e\\u003cb\\u003eConfidence Interval:\\u003c\\u002fb\\u003e ±%{error_y.array:.2f}\\u003cextra\\u003e\\u003c\\u002fextra\\u003e\",\"mode\":\"markers+lines\",\"name\":\"Interval -2000 to 2000\",\"x\":[1,3,5,7,9,11,13,15,17,19,21,23,25,27,29,31],\"y\":[0.0,0.059,0.095,0.122,0.161,0.198,0.23,0.251,0.296,0.326,0.339,0.366,0.389,0.428,0.457,0.454],\"type\":\"scatter\",\"xaxis\":\"x3\",\"yaxis\":\"y3\"},{\"line\":{\"color\":\"red\",\"dash\":\"dash\"},\"mode\":\"lines\",\"showlegend\":false,\"x\":[1,31],\"y\":[0.8,0.8],\"type\":\"scatter\",\"xaxis\":\"x3\",\"yaxis\":\"y3\"},{\"error_y\":{\"array\":[0.0,0.009834449166069244,0.012460390748287151,0.013477798277166787,0.015483027300886605,0.016628919387621077,0.016821946807667656,0.01799112741325568,0.018114193506750448,0.01903287261555649,0.019118932857249124,0.019595917942265426,0.019837894081781972,0.01977854740874567,0.020015696880198802,0.020186050470560112],\"type\":\"data\",\"visible\":true},\"hovertemplate\":\"\\u003cb\\u003eSample Size:\\u003c\\u002fb\\u003e %{x}\\u003cbr\\u003e\\u003cb\\u003eProbability:\\u003c\\u002fb\\u003e %{y:.2f}\\u003cbr\\u003e\\u003cb\\u003eConfidence Interval:\\u003c\\u002fb\\u003e ±%{error_y.array:.2f}\\u003cextra\\u003e\\u003c\\u002fextra\\u003e\",\"mode\":\"markers+lines\",\"name\":\"Interval -3000 to 3000\",\"x\":[1,3,5,7,9,11,13,15,17,19,21,23,25,27,29,31],\"y\":[0.0,0.063,0.106,0.127,0.178,0.215,0.222,0.271,0.277,0.33,0.336,0.375,0.401,0.394,0.426,0.464],\"type\":\"scatter\",\"xaxis\":\"x4\",\"yaxis\":\"y4\"},{\"line\":{\"color\":\"red\",\"dash\":\"dash\"},\"mode\":\"lines\",\"showlegend\":false,\"x\":[1,31],\"y\":[0.8,0.8],\"type\":\"scatter\",\"xaxis\":\"x4\",\"yaxis\":\"y4\"},{\"error_y\":{\"array\":[0.0,0.008737722907027895,0.011407881065298674,0.01361260592245291,0.015060765239522192,0.01603707704040858,0.01700806472236039,0.01761960798655861,0.018366996488266667,0.018753463424125157,0.019132938885597268,0.019585422170583917,0.01956416250188083,0.019936960490506073,0.02010195071131158,0.02014896459870829],\"type\":\"data\",\"visible\":true},\"hovertemplate\":\"\\u003cb\\u003eSample Size:\\u003c\\u002fb\\u003e %{x}\\u003cbr\\u003e\\u003cb\\u003eProbability:\\u003c\\u002fb\\u003e %{y:.2f}\\u003cbr\\u003e\\u003cb\\u003eConfidence Interval:\\u003c\\u002fb\\u003e ±%{error_y.array:.2f}\\u003cextra\\u003e\\u003c\\u002fextra\\u003e\",\"mode\":\"markers+lines\",\"name\":\"Interval -5000 to 5000\",\"x\":[1,3,5,7,9,11,13,15,17,19,21,23,25,27,29,31],\"y\":[0.0,0.049,0.087,0.13,0.166,0.195,0.229,0.254,0.29,0.312,0.337,0.374,0.372,0.414,0.442,0.453],\"type\":\"scatter\",\"xaxis\":\"x5\",\"yaxis\":\"y5\"},{\"line\":{\"color\":\"red\",\"dash\":\"dash\"},\"mode\":\"lines\",\"showlegend\":false,\"x\":[1,31],\"y\":[0.8,0.8],\"type\":\"scatter\",\"xaxis\":\"x5\",\"yaxis\":\"y5\"},{\"error_y\":{\"array\":[0.0,0.008737722907027895,0.012143146215046577,0.012913100324863895,0.015379986996093333,0.015717180408711992,0.01728710964852135,0.017710131066708684,0.0179067836978057,0.018653074213115652,0.019405239045165102,0.01954254435839919,0.019637010607523746,0.019984362526735747,0.020097182130836153,0.02017691734631433],\"type\":\"data\",\"visible\":true},\"hovertemplate\":\"\\u003cb\\u003eSample Size:\\u003c\\u002fb\\u003e %{x}\\u003cbr\\u003e\\u003cb\\u003eProbability:\\u003c\\u002fb\\u003e %{y:.2f}\\u003cbr\\u003e\\u003cb\\u003eConfidence Interval:\\u003c\\u002fb\\u003e ±%{error_y.array:.2f}\\u003cextra\\u003e\\u003c\\u002fextra\\u003e\",\"mode\":\"markers+lines\",\"name\":\"Interval -10000 to 10000\",\"x\":[1,3,5,7,9,11,13,15,17,19,21,23,25,27,29,31],\"y\":[0.0,0.049,0.1,0.115,0.175,0.185,0.24,0.258,0.267,0.306,0.358,0.37,0.379,0.421,0.441,0.461],\"type\":\"scatter\",\"xaxis\":\"x6\",\"yaxis\":\"y6\"},{\"line\":{\"color\":\"red\",\"dash\":\"dash\"},\"mode\":\"lines\",\"showlegend\":false,\"x\":[1,31],\"y\":[0.8,0.8],\"type\":\"scatter\",\"xaxis\":\"x6\",\"yaxis\":\"y6\"}],                        {\"template\":{\"data\":{\"barpolar\":[{\"marker\":{\"line\":{\"color\":\"white\",\"width\":0.5},\"pattern\":{\"fillmode\":\"overlay\",\"size\":10,\"solidity\":0.2}},\"type\":\"barpolar\"}],\"bar\":[{\"error_x\":{\"color\":\"#2a3f5f\"},\"error_y\":{\"color\":\"#2a3f5f\"},\"marker\":{\"line\":{\"color\":\"white\",\"width\":0.5},\"pattern\":{\"fillmode\":\"overlay\",\"size\":10,\"solidity\":0.2}},\"type\":\"bar\"}],\"carpet\":[{\"aaxis\":{\"endlinecolor\":\"#2a3f5f\",\"gridcolor\":\"#C8D4E3\",\"linecolor\":\"#C8D4E3\",\"minorgridcolor\":\"#C8D4E3\",\"startlinecolor\":\"#2a3f5f\"},\"baxis\":{\"endlinecolor\":\"#2a3f5f\",\"gridcolor\":\"#C8D4E3\",\"linecolor\":\"#C8D4E3\",\"minorgridcolor\":\"#C8D4E3\",\"startlinecolor\":\"#2a3f5f\"},\"type\":\"carpet\"}],\"choropleth\":[{\"colorbar\":{\"outlinewidth\":0,\"ticks\":\"\"},\"type\":\"choropleth\"}],\"contourcarpet\":[{\"colorbar\":{\"outlinewidth\":0,\"ticks\":\"\"},\"type\":\"contourcarpet\"}],\"contour\":[{\"colorbar\":{\"outlinewidth\":0,\"ticks\":\"\"},\"colorscale\":[[0.0,\"#0d0887\"],[0.1111111111111111,\"#46039f\"],[0.2222222222222222,\"#7201a8\"],[0.3333333333333333,\"#9c179e\"],[0.4444444444444444,\"#bd3786\"],[0.5555555555555556,\"#d8576b\"],[0.6666666666666666,\"#ed7953\"],[0.7777777777777778,\"#fb9f3a\"],[0.8888888888888888,\"#fdca26\"],[1.0,\"#f0f921\"]],\"type\":\"contour\"}],\"heatmapgl\":[{\"colorbar\":{\"outlinewidth\":0,\"ticks\":\"\"},\"colorscale\":[[0.0,\"#0d0887\"],[0.1111111111111111,\"#46039f\"],[0.2222222222222222,\"#7201a8\"],[0.3333333333333333,\"#9c179e\"],[0.4444444444444444,\"#bd3786\"],[0.5555555555555556,\"#d8576b\"],[0.6666666666666666,\"#ed7953\"],[0.7777777777777778,\"#fb9f3a\"],[0.8888888888888888,\"#fdca26\"],[1.0,\"#f0f921\"]],\"type\":\"heatmapgl\"}],\"heatmap\":[{\"colorbar\":{\"outlinewidth\":0,\"ticks\":\"\"},\"colorscale\":[[0.0,\"#0d0887\"],[0.1111111111111111,\"#46039f\"],[0.2222222222222222,\"#7201a8\"],[0.3333333333333333,\"#9c179e\"],[0.4444444444444444,\"#bd3786\"],[0.5555555555555556,\"#d8576b\"],[0.6666666666666666,\"#ed7953\"],[0.7777777777777778,\"#fb9f3a\"],[0.8888888888888888,\"#fdca26\"],[1.0,\"#f0f921\"]],\"type\":\"heatmap\"}],\"histogram2dcontour\":[{\"colorbar\":{\"outlinewidth\":0,\"ticks\":\"\"},\"colorscale\":[[0.0,\"#0d0887\"],[0.1111111111111111,\"#46039f\"],[0.2222222222222222,\"#7201a8\"],[0.3333333333333333,\"#9c179e\"],[0.4444444444444444,\"#bd3786\"],[0.5555555555555556,\"#d8576b\"],[0.6666666666666666,\"#ed7953\"],[0.7777777777777778,\"#fb9f3a\"],[0.8888888888888888,\"#fdca26\"],[1.0,\"#f0f921\"]],\"type\":\"histogram2dcontour\"}],\"histogram2d\":[{\"colorbar\":{\"outlinewidth\":0,\"ticks\":\"\"},\"colorscale\":[[0.0,\"#0d0887\"],[0.1111111111111111,\"#46039f\"],[0.2222222222222222,\"#7201a8\"],[0.3333333333333333,\"#9c179e\"],[0.4444444444444444,\"#bd3786\"],[0.5555555555555556,\"#d8576b\"],[0.6666666666666666,\"#ed7953\"],[0.7777777777777778,\"#fb9f3a\"],[0.8888888888888888,\"#fdca26\"],[1.0,\"#f0f921\"]],\"type\":\"histogram2d\"}],\"histogram\":[{\"marker\":{\"pattern\":{\"fillmode\":\"overlay\",\"size\":10,\"solidity\":0.2}},\"type\":\"histogram\"}],\"mesh3d\":[{\"colorbar\":{\"outlinewidth\":0,\"ticks\":\"\"},\"type\":\"mesh3d\"}],\"parcoords\":[{\"line\":{\"colorbar\":{\"outlinewidth\":0,\"ticks\":\"\"}},\"type\":\"parcoords\"}],\"pie\":[{\"automargin\":true,\"type\":\"pie\"}],\"scatter3d\":[{\"line\":{\"colorbar\":{\"outlinewidth\":0,\"ticks\":\"\"}},\"marker\":{\"colorbar\":{\"outlinewidth\":0,\"ticks\":\"\"}},\"type\":\"scatter3d\"}],\"scattercarpet\":[{\"marker\":{\"colorbar\":{\"outlinewidth\":0,\"ticks\":\"\"}},\"type\":\"scattercarpet\"}],\"scattergeo\":[{\"marker\":{\"colorbar\":{\"outlinewidth\":0,\"ticks\":\"\"}},\"type\":\"scattergeo\"}],\"scattergl\":[{\"marker\":{\"colorbar\":{\"outlinewidth\":0,\"ticks\":\"\"}},\"type\":\"scattergl\"}],\"scattermapbox\":[{\"marker\":{\"colorbar\":{\"outlinewidth\":0,\"ticks\":\"\"}},\"type\":\"scattermapbox\"}],\"scatterpolargl\":[{\"marker\":{\"colorbar\":{\"outlinewidth\":0,\"ticks\":\"\"}},\"type\":\"scatterpolargl\"}],\"scatterpolar\":[{\"marker\":{\"colorbar\":{\"outlinewidth\":0,\"ticks\":\"\"}},\"type\":\"scatterpolar\"}],\"scatter\":[{\"fillpattern\":{\"fillmode\":\"overlay\",\"size\":10,\"solidity\":0.2},\"type\":\"scatter\"}],\"scatterternary\":[{\"marker\":{\"colorbar\":{\"outlinewidth\":0,\"ticks\":\"\"}},\"type\":\"scatterternary\"}],\"surface\":[{\"colorbar\":{\"outlinewidth\":0,\"ticks\":\"\"},\"colorscale\":[[0.0,\"#0d0887\"],[0.1111111111111111,\"#46039f\"],[0.2222222222222222,\"#7201a8\"],[0.3333333333333333,\"#9c179e\"],[0.4444444444444444,\"#bd3786\"],[0.5555555555555556,\"#d8576b\"],[0.6666666666666666,\"#ed7953\"],[0.7777777777777778,\"#fb9f3a\"],[0.8888888888888888,\"#fdca26\"],[1.0,\"#f0f921\"]],\"type\":\"surface\"}],\"table\":[{\"cells\":{\"fill\":{\"color\":\"#EBF0F8\"},\"line\":{\"color\":\"white\"}},\"header\":{\"fill\":{\"color\":\"#C8D4E3\"},\"line\":{\"color\":\"white\"}},\"type\":\"table\"}]},\"layout\":{\"annotationdefaults\":{\"arrowcolor\":\"#2a3f5f\",\"arrowhead\":0,\"arrowwidth\":1},\"autotypenumbers\":\"strict\",\"coloraxis\":{\"colorbar\":{\"outlinewidth\":0,\"ticks\":\"\"}},\"colorscale\":{\"diverging\":[[0,\"#8e0152\"],[0.1,\"#c51b7d\"],[0.2,\"#de77ae\"],[0.3,\"#f1b6da\"],[0.4,\"#fde0ef\"],[0.5,\"#f7f7f7\"],[0.6,\"#e6f5d0\"],[0.7,\"#b8e186\"],[0.8,\"#7fbc41\"],[0.9,\"#4d9221\"],[1,\"#276419\"]],\"sequential\":[[0.0,\"#0d0887\"],[0.1111111111111111,\"#46039f\"],[0.2222222222222222,\"#7201a8\"],[0.3333333333333333,\"#9c179e\"],[0.4444444444444444,\"#bd3786\"],[0.5555555555555556,\"#d8576b\"],[0.6666666666666666,\"#ed7953\"],[0.7777777777777778,\"#fb9f3a\"],[0.8888888888888888,\"#fdca26\"],[1.0,\"#f0f921\"]],\"sequentialminus\":[[0.0,\"#0d0887\"],[0.1111111111111111,\"#46039f\"],[0.2222222222222222,\"#7201a8\"],[0.3333333333333333,\"#9c179e\"],[0.4444444444444444,\"#bd3786\"],[0.5555555555555556,\"#d8576b\"],[0.6666666666666666,\"#ed7953\"],[0.7777777777777778,\"#fb9f3a\"],[0.8888888888888888,\"#fdca26\"],[1.0,\"#f0f921\"]]},\"colorway\":[\"#636efa\",\"#EF553B\",\"#00cc96\",\"#ab63fa\",\"#FFA15A\",\"#19d3f3\",\"#FF6692\",\"#B6E880\",\"#FF97FF\",\"#FECB52\"],\"font\":{\"color\":\"#2a3f5f\"},\"geo\":{\"bgcolor\":\"white\",\"lakecolor\":\"white\",\"landcolor\":\"white\",\"showlakes\":true,\"showland\":true,\"subunitcolor\":\"#C8D4E3\"},\"hoverlabel\":{\"align\":\"left\"},\"hovermode\":\"closest\",\"mapbox\":{\"style\":\"light\"},\"paper_bgcolor\":\"white\",\"plot_bgcolor\":\"white\",\"polar\":{\"angularaxis\":{\"gridcolor\":\"#EBF0F8\",\"linecolor\":\"#EBF0F8\",\"ticks\":\"\"},\"bgcolor\":\"white\",\"radialaxis\":{\"gridcolor\":\"#EBF0F8\",\"linecolor\":\"#EBF0F8\",\"ticks\":\"\"}},\"scene\":{\"xaxis\":{\"backgroundcolor\":\"white\",\"gridcolor\":\"#DFE8F3\",\"gridwidth\":2,\"linecolor\":\"#EBF0F8\",\"showbackground\":true,\"ticks\":\"\",\"zerolinecolor\":\"#EBF0F8\"},\"yaxis\":{\"backgroundcolor\":\"white\",\"gridcolor\":\"#DFE8F3\",\"gridwidth\":2,\"linecolor\":\"#EBF0F8\",\"showbackground\":true,\"ticks\":\"\",\"zerolinecolor\":\"#EBF0F8\"},\"zaxis\":{\"backgroundcolor\":\"white\",\"gridcolor\":\"#DFE8F3\",\"gridwidth\":2,\"linecolor\":\"#EBF0F8\",\"showbackground\":true,\"ticks\":\"\",\"zerolinecolor\":\"#EBF0F8\"}},\"shapedefaults\":{\"line\":{\"color\":\"#2a3f5f\"}},\"ternary\":{\"aaxis\":{\"gridcolor\":\"#DFE8F3\",\"linecolor\":\"#A2B1C6\",\"ticks\":\"\"},\"baxis\":{\"gridcolor\":\"#DFE8F3\",\"linecolor\":\"#A2B1C6\",\"ticks\":\"\"},\"bgcolor\":\"white\",\"caxis\":{\"gridcolor\":\"#DFE8F3\",\"linecolor\":\"#A2B1C6\",\"ticks\":\"\"}},\"title\":{\"x\":0.05},\"xaxis\":{\"automargin\":true,\"gridcolor\":\"#EBF0F8\",\"linecolor\":\"#EBF0F8\",\"ticks\":\"\",\"title\":{\"standoff\":15},\"zerolinecolor\":\"#EBF0F8\",\"zerolinewidth\":2},\"yaxis\":{\"automargin\":true,\"gridcolor\":\"#EBF0F8\",\"linecolor\":\"#EBF0F8\",\"ticks\":\"\",\"title\":{\"standoff\":15},\"zerolinecolor\":\"#EBF0F8\",\"zerolinewidth\":2}}},\"xaxis\":{\"anchor\":\"y\",\"domain\":[0.0,0.2888888888888889],\"title\":{\"text\":\"Sample Size\"}},\"yaxis\":{\"anchor\":\"x\",\"domain\":[0.625,1.0],\"title\":{\"text\":\"Probability\"}},\"xaxis2\":{\"anchor\":\"y2\",\"domain\":[0.35555555555555557,0.6444444444444445]},\"yaxis2\":{\"anchor\":\"x2\",\"domain\":[0.625,1.0]},\"xaxis3\":{\"anchor\":\"y3\",\"domain\":[0.7111111111111111,1.0]},\"yaxis3\":{\"anchor\":\"x3\",\"domain\":[0.625,1.0]},\"xaxis4\":{\"anchor\":\"y4\",\"domain\":[0.0,0.2888888888888889]},\"yaxis4\":{\"anchor\":\"x4\",\"domain\":[0.0,0.375]},\"xaxis5\":{\"anchor\":\"y5\",\"domain\":[0.35555555555555557,0.6444444444444445]},\"yaxis5\":{\"anchor\":\"x5\",\"domain\":[0.0,0.375]},\"xaxis6\":{\"anchor\":\"y6\",\"domain\":[0.7111111111111111,1.0]},\"yaxis6\":{\"anchor\":\"x6\",\"domain\":[0.0,0.375]},\"annotations\":[{\"font\":{\"size\":16},\"showarrow\":false,\"text\":\"From: -200, To: 200\",\"x\":0.14444444444444446,\"xanchor\":\"center\",\"xref\":\"paper\",\"y\":1.0,\"yanchor\":\"bottom\",\"yref\":\"paper\"},{\"font\":{\"size\":16},\"showarrow\":false,\"text\":\"From: -1000, To: 1000\",\"x\":0.5,\"xanchor\":\"center\",\"xref\":\"paper\",\"y\":1.0,\"yanchor\":\"bottom\",\"yref\":\"paper\"},{\"font\":{\"size\":16},\"showarrow\":false,\"text\":\"From: -2000, To: 2000\",\"x\":0.8555555555555556,\"xanchor\":\"center\",\"xref\":\"paper\",\"y\":1.0,\"yanchor\":\"bottom\",\"yref\":\"paper\"},{\"font\":{\"size\":16},\"showarrow\":false,\"text\":\"From: -3000, To: 3000\",\"x\":0.14444444444444446,\"xanchor\":\"center\",\"xref\":\"paper\",\"y\":0.375,\"yanchor\":\"bottom\",\"yref\":\"paper\"},{\"font\":{\"size\":16},\"showarrow\":false,\"text\":\"From: -5000, To: 5000\",\"x\":0.5,\"xanchor\":\"center\",\"xref\":\"paper\",\"y\":0.375,\"yanchor\":\"bottom\",\"yref\":\"paper\"},{\"font\":{\"size\":16},\"showarrow\":false,\"text\":\"From: -10000, To: 10000\",\"x\":0.8555555555555556,\"xanchor\":\"center\",\"xref\":\"paper\",\"y\":0.375,\"yanchor\":\"bottom\",\"yref\":\"paper\"}],\"title\":{\"text\":\"Probability of Generalization Error \\u003c \\u003cb\\u003e1.0%\\u003c\\u002fb\\u003e for Different Ranges\"},\"height\":800},                        {\"responsive\": true}                    ).then(function(){\n",
       "                            \n",
       "var gd = document.getElementById('d60eddca-c718-4855-98da-69c60d159a2c');\n",
       "var x = new MutationObserver(function (mutations, observer) {{\n",
       "        var display = window.getComputedStyle(gd).display;\n",
       "        if (!display || display === 'none') {{\n",
       "            console.log([gd, 'removed!']);\n",
       "            Plotly.purge(gd);\n",
       "            observer.disconnect();\n",
       "        }}\n",
       "}});\n",
       "\n",
       "// Listen for the removal of the full notebook cells\n",
       "var notebookContainer = gd.closest('#notebook-container');\n",
       "if (notebookContainer) {{\n",
       "    x.observe(notebookContainer, {childList: true});\n",
       "}}\n",
       "\n",
       "// Listen for the clearing of the current output cell\n",
       "var outputEl = gd.closest('.output');\n",
       "if (outputEl) {{\n",
       "    x.observe(outputEl, {childList: true});\n",
       "}}\n",
       "\n",
       "                        })                };                            </script>        </div>\n",
       "</body>\n",
       "</html>"
      ]
     },
     "metadata": {}
    },
    {
     "output_type": "stream",
     "name": "stdout",
     "text": [
      "True Threshold for Interval -200 to 200: 42\n",
      "True Threshold for Interval -1000 to 1000: -29\n",
      "True Threshold for Interval -2000 to 2000: -57\n",
      "True Threshold for Interval -3000 to 3000: 887\n",
      "True Threshold for Interval -5000 to 5000: 2775\n",
      "True Threshold for Interval -10000 to 10000: 5550\n"
     ]
    },
    {
     "output_type": "display_data",
     "data": {
      "text/html": [
       "<html>\n",
       "<head><meta charset=\"utf-8\" /></head>\n",
       "<body>\n",
       "    <div>            <script src=\"https://cdnjs.cloudflare.com/ajax/libs/mathjax/2.7.5/MathJax.js?config=TeX-AMS-MML_SVG\"></script><script type=\"text/javascript\">if (window.MathJax && window.MathJax.Hub && window.MathJax.Hub.Config) {window.MathJax.Hub.Config({SVG: {font: \"STIX-Web\"}});}</script>                <script type=\"text/javascript\">window.PlotlyConfig = {MathJaxConfig: 'local'};</script>\n",
       "        <script charset=\"utf-8\" src=\"https://cdn.plot.ly/plotly-2.35.2.min.js\"></script>                <div id=\"4ff6d4db-4f47-4cb8-9626-86369c3a4f6d\" class=\"plotly-graph-div\" style=\"height:800px; width:100%;\"></div>            <script type=\"text/javascript\">                                    window.PLOTLYENV=window.PLOTLYENV || {};                                    if (document.getElementById(\"4ff6d4db-4f47-4cb8-9626-86369c3a4f6d\")) {                    Plotly.newPlot(                        \"4ff6d4db-4f47-4cb8-9626-86369c3a4f6d\",                        [{\"error_y\":{\"array\":[0.0,0.017432641383336032,0.020003414748487318,0.02023598632140277,0.01978728480615772,0.018736987847570375,0.01799112741325568,0.01657246603254929,0.015168891113064263,0.014169952660471385,0.01296179345615413,0.011924215093665494,0.010259102182939793,0.010981176621837934,0.008479359975847233,0.00783617212674658],\"type\":\"data\",\"visible\":true},\"hovertemplate\":\"\\u003cb\\u003eSample Size:\\u003c\\u002fb\\u003e %{x}\\u003cbr\\u003e\\u003cb\\u003eProbability:\\u003c\\u002fb\\u003e %{y:.2f}\\u003cbr\\u003e\\u003cb\\u003eConfidence Interval:\\u003c\\u002fb\\u003e ±%{error_y.array:.2f}\\u003cextra\\u003e\\u003c\\u002fextra\\u003e\",\"mode\":\"markers+lines\",\"name\":\"Interval -200 to 200\",\"x\":[1,3,5,7,9,11,13,15,17,19,21,23,25,27,29,31],\"y\":[0.0,0.246,0.424,0.508,0.605,0.689,0.729,0.787,0.831,0.857,0.884,0.904,0.931,0.92,0.954,0.961],\"type\":\"scatter\",\"xaxis\":\"x\",\"yaxis\":\"y\"},{\"line\":{\"color\":\"red\",\"dash\":\"dash\"},\"mode\":\"lines\",\"showlegend\":false,\"x\":[1,31],\"y\":[0.8,0.8],\"type\":\"scatter\",\"xaxis\":\"x\",\"yaxis\":\"y\"},{\"line\":{\"color\":\"blue\",\"dash\":\"dot\"},\"mode\":\"lines\",\"showlegend\":false,\"x\":[17,17],\"y\":[0,1],\"type\":\"scatter\",\"xaxis\":\"x\",\"yaxis\":\"y\"},{\"error_y\":{\"array\":[0.0,0.018053173726522438,0.01969599350121745,0.020197085888810796,0.019990797242731465,0.018769837250226757,0.01777675317936321,0.01654401856865496,0.01498770141149069,0.013432317804459512,0.01251202455240558,0.011924215093665494,0.010854822633281485,0.008904881897027045,0.008737722907027895,0.007335639685807913],\"type\":\"data\",\"visible\":true},\"hovertemplate\":\"\\u003cb\\u003eSample Size:\\u003c\\u002fb\\u003e %{x}\\u003cbr\\u003e\\u003cb\\u003eProbability:\\u003c\\u002fb\\u003e %{y:.2f}\\u003cbr\\u003e\\u003cb\\u003eConfidence Interval:\\u003c\\u002fb\\u003e ±%{error_y.array:.2f}\\u003cextra\\u003e\\u003c\\u002fextra\\u003e\",\"mode\":\"markers+lines\",\"name\":\"Interval -1000 to 1000\",\"x\":[1,3,5,7,9,11,13,15,17,19,21,23,25,27,29,31],\"y\":[0.0,0.274,0.385,0.532,0.578,0.687,0.739,0.788,0.836,0.874,0.893,0.904,0.922,0.949,0.951,0.966],\"type\":\"scatter\",\"xaxis\":\"x2\",\"yaxis\":\"y2\"},{\"line\":{\"color\":\"red\",\"dash\":\"dash\"},\"mode\":\"lines\",\"showlegend\":false,\"x\":[1,31],\"y\":[0.8,0.8],\"type\":\"scatter\",\"xaxis\":\"x2\",\"yaxis\":\"y2\"},{\"line\":{\"color\":\"blue\",\"dash\":\"dot\"},\"mode\":\"lines\",\"showlegend\":false,\"x\":[17,17],\"y\":[0,1],\"type\":\"scatter\",\"xaxis\":\"x2\",\"yaxis\":\"y2\"},{\"error_y\":{\"array\":[0.0,0.018053173726522438,0.01969599350121745,0.020213262972612805,0.019950926033645656,0.018865958168086772,0.017311686503631008,0.01609907247017666,0.014648871628900292,0.01361260592245291,0.012356078083275455,0.011755878461433666,0.010259102182939793,0.009537417344333842,0.008904881897027045,0.008987022109686837],\"type\":\"data\",\"visible\":true},\"hovertemplate\":\"\\u003cb\\u003eSample Size:\\u003c\\u002fb\\u003e %{x}\\u003cbr\\u003e\\u003cb\\u003eProbability:\\u003c\\u002fb\\u003e %{y:.2f}\\u003cbr\\u003e\\u003cb\\u003eConfidence Interval:\\u003c\\u002fb\\u003e ±%{error_y.array:.2f}\\u003cextra\\u003e\\u003c\\u002fextra\\u003e\",\"mode\":\"markers+lines\",\"name\":\"Interval -2000 to 2000\",\"x\":[1,3,5,7,9,11,13,15,17,19,21,23,25,27,29,31],\"y\":[0.0,0.274,0.385,0.525,0.584,0.681,0.759,0.803,0.845,0.87,0.896,0.907,0.931,0.941,0.949,0.948],\"type\":\"scatter\",\"xaxis\":\"x3\",\"yaxis\":\"y3\"},{\"line\":{\"color\":\"red\",\"dash\":\"dash\"},\"mode\":\"lines\",\"showlegend\":false,\"x\":[1,31],\"y\":[0.8,0.8],\"type\":\"scatter\",\"xaxis\":\"x3\",\"yaxis\":\"y3\"},{\"line\":{\"color\":\"blue\",\"dash\":\"dot\"},\"mode\":\"lines\",\"showlegend\":false,\"x\":[15,15],\"y\":[0,1],\"type\":\"scatter\",\"xaxis\":\"x3\",\"yaxis\":\"y3\"},{\"error_y\":{\"array\":[0.0,0.017863912225489692,0.01999714795664622,0.02021897659131144,0.019829674732581976,0.018477455062859714,0.018174197093682017,0.016370194183332097,0.015345272939899113,0.014002930893209465,0.01296179345615413,0.011288337344356787,0.01079086309801028,0.009306577115137445,0.009068237667816165,0.006560671185176102],\"type\":\"data\",\"visible\":true},\"hovertemplate\":\"\\u003cb\\u003eSample Size:\\u003c\\u002fb\\u003e %{x}\\u003cbr\\u003e\\u003cb\\u003eProbability:\\u003c\\u002fb\\u003e %{y:.2f}\\u003cbr\\u003e\\u003cb\\u003eConfidence Interval:\\u003c\\u002fb\\u003e ±%{error_y.array:.2f}\\u003cextra\\u003e\\u003c\\u002fextra\\u003e\",\"mode\":\"markers+lines\",\"name\":\"Interval -3000 to 3000\",\"x\":[1,3,5,7,9,11,13,15,17,19,21,23,25,27,29,31],\"y\":[0.0,0.265,0.423,0.522,0.6,0.704,0.72,0.794,0.826,0.861,0.884,0.915,0.923,0.944,0.947,0.973],\"type\":\"scatter\",\"xaxis\":\"x4\",\"yaxis\":\"y4\"},{\"line\":{\"color\":\"red\",\"dash\":\"dash\"},\"mode\":\"lines\",\"showlegend\":false,\"x\":[1,31],\"y\":[0.8,0.8],\"type\":\"scatter\",\"xaxis\":\"x4\",\"yaxis\":\"y4\"},{\"line\":{\"color\":\"blue\",\"dash\":\"dot\"},\"mode\":\"lines\",\"showlegend\":false,\"x\":[17,17],\"y\":[0,1],\"type\":\"scatter\",\"xaxis\":\"x4\",\"yaxis\":\"y4\"},{\"error_y\":{\"array\":[0.0,0.015097001768563188,0.01945246283636085,0.020237565070926885,0.01980449985230629,0.018670062624426303,0.017527121840165315,0.016457783860532378,0.01524001133857846,0.014128556274439366,0.011924215093665494,0.011755878461433666,0.010595740729179818,0.009687410056356652,0.009148553197090785,0.00811927720921019],\"type\":\"data\",\"visible\":true},\"hovertemplate\":\"\\u003cb\\u003eSample Size:\\u003c\\u002fb\\u003e %{x}\\u003cbr\\u003e\\u003cb\\u003eProbability:\\u003c\\u002fb\\u003e %{y:.2f}\\u003cbr\\u003e\\u003cb\\u003eConfidence Interval:\\u003c\\u002fb\\u003e ±%{error_y.array:.2f}\\u003cextra\\u003e\\u003c\\u002fextra\\u003e\",\"mode\":\"markers+lines\",\"name\":\"Interval -5000 to 5000\",\"x\":[1,3,5,7,9,11,13,15,17,19,21,23,25,27,29,31],\"y\":[0.0,0.167,0.362,0.495,0.603,0.693,0.75,0.791,0.829,0.858,0.904,0.907,0.926,0.939,0.946,0.958],\"type\":\"scatter\",\"xaxis\":\"x5\",\"yaxis\":\"y5\"},{\"line\":{\"color\":\"red\",\"dash\":\"dash\"},\"mode\":\"lines\",\"showlegend\":false,\"x\":[1,31],\"y\":[0.8,0.8],\"type\":\"scatter\",\"xaxis\":\"x5\",\"yaxis\":\"y5\"},{\"line\":{\"color\":\"blue\",\"dash\":\"dot\"},\"mode\":\"lines\",\"showlegend\":false,\"x\":[17,17],\"y\":[0,1],\"type\":\"scatter\",\"xaxis\":\"x5\",\"yaxis\":\"y5\"},{\"error_y\":{\"array\":[0.0,0.015097001768563188,0.019486922794530695,0.020238415115813785,0.01970551581664383,0.018720410251914885,0.01759667168529322,0.016848952679617807,0.015060765239522196,0.01383199768652381,0.011755878461433666,0.011348338803543008,0.009384329405983147,0.009761290406498516,0.00839108097923027,0.008026222623376454],\"type\":\"data\",\"visible\":true},\"hovertemplate\":\"\\u003cb\\u003eSample Size:\\u003c\\u002fb\\u003e %{x}\\u003cbr\\u003e\\u003cb\\u003eProbability:\\u003c\\u002fb\\u003e %{y:.2f}\\u003cbr\\u003e\\u003cb\\u003eConfidence Interval:\\u003c\\u002fb\\u003e ±%{error_y.array:.2f}\\u003cextra\\u003e\\u003c\\u002fextra\\u003e\",\"mode\":\"markers+lines\",\"name\":\"Interval -10000 to 10000\",\"x\":[1,3,5,7,9,11,13,15,17,19,21,23,25,27,29,31],\"y\":[0.0,0.167,0.365,0.498,0.614,0.69,0.747,0.777,0.834,0.865,0.907,0.914,0.943,0.938,0.955,0.959],\"type\":\"scatter\",\"xaxis\":\"x6\",\"yaxis\":\"y6\"},{\"line\":{\"color\":\"red\",\"dash\":\"dash\"},\"mode\":\"lines\",\"showlegend\":false,\"x\":[1,31],\"y\":[0.8,0.8],\"type\":\"scatter\",\"xaxis\":\"x6\",\"yaxis\":\"y6\"},{\"line\":{\"color\":\"blue\",\"dash\":\"dot\"},\"mode\":\"lines\",\"showlegend\":false,\"x\":[17,17],\"y\":[0,1],\"type\":\"scatter\",\"xaxis\":\"x6\",\"yaxis\":\"y6\"}],                        {\"template\":{\"data\":{\"barpolar\":[{\"marker\":{\"line\":{\"color\":\"white\",\"width\":0.5},\"pattern\":{\"fillmode\":\"overlay\",\"size\":10,\"solidity\":0.2}},\"type\":\"barpolar\"}],\"bar\":[{\"error_x\":{\"color\":\"#2a3f5f\"},\"error_y\":{\"color\":\"#2a3f5f\"},\"marker\":{\"line\":{\"color\":\"white\",\"width\":0.5},\"pattern\":{\"fillmode\":\"overlay\",\"size\":10,\"solidity\":0.2}},\"type\":\"bar\"}],\"carpet\":[{\"aaxis\":{\"endlinecolor\":\"#2a3f5f\",\"gridcolor\":\"#C8D4E3\",\"linecolor\":\"#C8D4E3\",\"minorgridcolor\":\"#C8D4E3\",\"startlinecolor\":\"#2a3f5f\"},\"baxis\":{\"endlinecolor\":\"#2a3f5f\",\"gridcolor\":\"#C8D4E3\",\"linecolor\":\"#C8D4E3\",\"minorgridcolor\":\"#C8D4E3\",\"startlinecolor\":\"#2a3f5f\"},\"type\":\"carpet\"}],\"choropleth\":[{\"colorbar\":{\"outlinewidth\":0,\"ticks\":\"\"},\"type\":\"choropleth\"}],\"contourcarpet\":[{\"colorbar\":{\"outlinewidth\":0,\"ticks\":\"\"},\"type\":\"contourcarpet\"}],\"contour\":[{\"colorbar\":{\"outlinewidth\":0,\"ticks\":\"\"},\"colorscale\":[[0.0,\"#0d0887\"],[0.1111111111111111,\"#46039f\"],[0.2222222222222222,\"#7201a8\"],[0.3333333333333333,\"#9c179e\"],[0.4444444444444444,\"#bd3786\"],[0.5555555555555556,\"#d8576b\"],[0.6666666666666666,\"#ed7953\"],[0.7777777777777778,\"#fb9f3a\"],[0.8888888888888888,\"#fdca26\"],[1.0,\"#f0f921\"]],\"type\":\"contour\"}],\"heatmapgl\":[{\"colorbar\":{\"outlinewidth\":0,\"ticks\":\"\"},\"colorscale\":[[0.0,\"#0d0887\"],[0.1111111111111111,\"#46039f\"],[0.2222222222222222,\"#7201a8\"],[0.3333333333333333,\"#9c179e\"],[0.4444444444444444,\"#bd3786\"],[0.5555555555555556,\"#d8576b\"],[0.6666666666666666,\"#ed7953\"],[0.7777777777777778,\"#fb9f3a\"],[0.8888888888888888,\"#fdca26\"],[1.0,\"#f0f921\"]],\"type\":\"heatmapgl\"}],\"heatmap\":[{\"colorbar\":{\"outlinewidth\":0,\"ticks\":\"\"},\"colorscale\":[[0.0,\"#0d0887\"],[0.1111111111111111,\"#46039f\"],[0.2222222222222222,\"#7201a8\"],[0.3333333333333333,\"#9c179e\"],[0.4444444444444444,\"#bd3786\"],[0.5555555555555556,\"#d8576b\"],[0.6666666666666666,\"#ed7953\"],[0.7777777777777778,\"#fb9f3a\"],[0.8888888888888888,\"#fdca26\"],[1.0,\"#f0f921\"]],\"type\":\"heatmap\"}],\"histogram2dcontour\":[{\"colorbar\":{\"outlinewidth\":0,\"ticks\":\"\"},\"colorscale\":[[0.0,\"#0d0887\"],[0.1111111111111111,\"#46039f\"],[0.2222222222222222,\"#7201a8\"],[0.3333333333333333,\"#9c179e\"],[0.4444444444444444,\"#bd3786\"],[0.5555555555555556,\"#d8576b\"],[0.6666666666666666,\"#ed7953\"],[0.7777777777777778,\"#fb9f3a\"],[0.8888888888888888,\"#fdca26\"],[1.0,\"#f0f921\"]],\"type\":\"histogram2dcontour\"}],\"histogram2d\":[{\"colorbar\":{\"outlinewidth\":0,\"ticks\":\"\"},\"colorscale\":[[0.0,\"#0d0887\"],[0.1111111111111111,\"#46039f\"],[0.2222222222222222,\"#7201a8\"],[0.3333333333333333,\"#9c179e\"],[0.4444444444444444,\"#bd3786\"],[0.5555555555555556,\"#d8576b\"],[0.6666666666666666,\"#ed7953\"],[0.7777777777777778,\"#fb9f3a\"],[0.8888888888888888,\"#fdca26\"],[1.0,\"#f0f921\"]],\"type\":\"histogram2d\"}],\"histogram\":[{\"marker\":{\"pattern\":{\"fillmode\":\"overlay\",\"size\":10,\"solidity\":0.2}},\"type\":\"histogram\"}],\"mesh3d\":[{\"colorbar\":{\"outlinewidth\":0,\"ticks\":\"\"},\"type\":\"mesh3d\"}],\"parcoords\":[{\"line\":{\"colorbar\":{\"outlinewidth\":0,\"ticks\":\"\"}},\"type\":\"parcoords\"}],\"pie\":[{\"automargin\":true,\"type\":\"pie\"}],\"scatter3d\":[{\"line\":{\"colorbar\":{\"outlinewidth\":0,\"ticks\":\"\"}},\"marker\":{\"colorbar\":{\"outlinewidth\":0,\"ticks\":\"\"}},\"type\":\"scatter3d\"}],\"scattercarpet\":[{\"marker\":{\"colorbar\":{\"outlinewidth\":0,\"ticks\":\"\"}},\"type\":\"scattercarpet\"}],\"scattergeo\":[{\"marker\":{\"colorbar\":{\"outlinewidth\":0,\"ticks\":\"\"}},\"type\":\"scattergeo\"}],\"scattergl\":[{\"marker\":{\"colorbar\":{\"outlinewidth\":0,\"ticks\":\"\"}},\"type\":\"scattergl\"}],\"scattermapbox\":[{\"marker\":{\"colorbar\":{\"outlinewidth\":0,\"ticks\":\"\"}},\"type\":\"scattermapbox\"}],\"scatterpolargl\":[{\"marker\":{\"colorbar\":{\"outlinewidth\":0,\"ticks\":\"\"}},\"type\":\"scatterpolargl\"}],\"scatterpolar\":[{\"marker\":{\"colorbar\":{\"outlinewidth\":0,\"ticks\":\"\"}},\"type\":\"scatterpolar\"}],\"scatter\":[{\"fillpattern\":{\"fillmode\":\"overlay\",\"size\":10,\"solidity\":0.2},\"type\":\"scatter\"}],\"scatterternary\":[{\"marker\":{\"colorbar\":{\"outlinewidth\":0,\"ticks\":\"\"}},\"type\":\"scatterternary\"}],\"surface\":[{\"colorbar\":{\"outlinewidth\":0,\"ticks\":\"\"},\"colorscale\":[[0.0,\"#0d0887\"],[0.1111111111111111,\"#46039f\"],[0.2222222222222222,\"#7201a8\"],[0.3333333333333333,\"#9c179e\"],[0.4444444444444444,\"#bd3786\"],[0.5555555555555556,\"#d8576b\"],[0.6666666666666666,\"#ed7953\"],[0.7777777777777778,\"#fb9f3a\"],[0.8888888888888888,\"#fdca26\"],[1.0,\"#f0f921\"]],\"type\":\"surface\"}],\"table\":[{\"cells\":{\"fill\":{\"color\":\"#EBF0F8\"},\"line\":{\"color\":\"white\"}},\"header\":{\"fill\":{\"color\":\"#C8D4E3\"},\"line\":{\"color\":\"white\"}},\"type\":\"table\"}]},\"layout\":{\"annotationdefaults\":{\"arrowcolor\":\"#2a3f5f\",\"arrowhead\":0,\"arrowwidth\":1},\"autotypenumbers\":\"strict\",\"coloraxis\":{\"colorbar\":{\"outlinewidth\":0,\"ticks\":\"\"}},\"colorscale\":{\"diverging\":[[0,\"#8e0152\"],[0.1,\"#c51b7d\"],[0.2,\"#de77ae\"],[0.3,\"#f1b6da\"],[0.4,\"#fde0ef\"],[0.5,\"#f7f7f7\"],[0.6,\"#e6f5d0\"],[0.7,\"#b8e186\"],[0.8,\"#7fbc41\"],[0.9,\"#4d9221\"],[1,\"#276419\"]],\"sequential\":[[0.0,\"#0d0887\"],[0.1111111111111111,\"#46039f\"],[0.2222222222222222,\"#7201a8\"],[0.3333333333333333,\"#9c179e\"],[0.4444444444444444,\"#bd3786\"],[0.5555555555555556,\"#d8576b\"],[0.6666666666666666,\"#ed7953\"],[0.7777777777777778,\"#fb9f3a\"],[0.8888888888888888,\"#fdca26\"],[1.0,\"#f0f921\"]],\"sequentialminus\":[[0.0,\"#0d0887\"],[0.1111111111111111,\"#46039f\"],[0.2222222222222222,\"#7201a8\"],[0.3333333333333333,\"#9c179e\"],[0.4444444444444444,\"#bd3786\"],[0.5555555555555556,\"#d8576b\"],[0.6666666666666666,\"#ed7953\"],[0.7777777777777778,\"#fb9f3a\"],[0.8888888888888888,\"#fdca26\"],[1.0,\"#f0f921\"]]},\"colorway\":[\"#636efa\",\"#EF553B\",\"#00cc96\",\"#ab63fa\",\"#FFA15A\",\"#19d3f3\",\"#FF6692\",\"#B6E880\",\"#FF97FF\",\"#FECB52\"],\"font\":{\"color\":\"#2a3f5f\"},\"geo\":{\"bgcolor\":\"white\",\"lakecolor\":\"white\",\"landcolor\":\"white\",\"showlakes\":true,\"showland\":true,\"subunitcolor\":\"#C8D4E3\"},\"hoverlabel\":{\"align\":\"left\"},\"hovermode\":\"closest\",\"mapbox\":{\"style\":\"light\"},\"paper_bgcolor\":\"white\",\"plot_bgcolor\":\"white\",\"polar\":{\"angularaxis\":{\"gridcolor\":\"#EBF0F8\",\"linecolor\":\"#EBF0F8\",\"ticks\":\"\"},\"bgcolor\":\"white\",\"radialaxis\":{\"gridcolor\":\"#EBF0F8\",\"linecolor\":\"#EBF0F8\",\"ticks\":\"\"}},\"scene\":{\"xaxis\":{\"backgroundcolor\":\"white\",\"gridcolor\":\"#DFE8F3\",\"gridwidth\":2,\"linecolor\":\"#EBF0F8\",\"showbackground\":true,\"ticks\":\"\",\"zerolinecolor\":\"#EBF0F8\"},\"yaxis\":{\"backgroundcolor\":\"white\",\"gridcolor\":\"#DFE8F3\",\"gridwidth\":2,\"linecolor\":\"#EBF0F8\",\"showbackground\":true,\"ticks\":\"\",\"zerolinecolor\":\"#EBF0F8\"},\"zaxis\":{\"backgroundcolor\":\"white\",\"gridcolor\":\"#DFE8F3\",\"gridwidth\":2,\"linecolor\":\"#EBF0F8\",\"showbackground\":true,\"ticks\":\"\",\"zerolinecolor\":\"#EBF0F8\"}},\"shapedefaults\":{\"line\":{\"color\":\"#2a3f5f\"}},\"ternary\":{\"aaxis\":{\"gridcolor\":\"#DFE8F3\",\"linecolor\":\"#A2B1C6\",\"ticks\":\"\"},\"baxis\":{\"gridcolor\":\"#DFE8F3\",\"linecolor\":\"#A2B1C6\",\"ticks\":\"\"},\"bgcolor\":\"white\",\"caxis\":{\"gridcolor\":\"#DFE8F3\",\"linecolor\":\"#A2B1C6\",\"ticks\":\"\"}},\"title\":{\"x\":0.05},\"xaxis\":{\"automargin\":true,\"gridcolor\":\"#EBF0F8\",\"linecolor\":\"#EBF0F8\",\"ticks\":\"\",\"title\":{\"standoff\":15},\"zerolinecolor\":\"#EBF0F8\",\"zerolinewidth\":2},\"yaxis\":{\"automargin\":true,\"gridcolor\":\"#EBF0F8\",\"linecolor\":\"#EBF0F8\",\"ticks\":\"\",\"title\":{\"standoff\":15},\"zerolinecolor\":\"#EBF0F8\",\"zerolinewidth\":2}}},\"xaxis\":{\"anchor\":\"y\",\"domain\":[0.0,0.2888888888888889],\"title\":{\"text\":\"Sample Size\"}},\"yaxis\":{\"anchor\":\"x\",\"domain\":[0.625,1.0],\"title\":{\"text\":\"Probability\"}},\"xaxis2\":{\"anchor\":\"y2\",\"domain\":[0.35555555555555557,0.6444444444444445]},\"yaxis2\":{\"anchor\":\"x2\",\"domain\":[0.625,1.0]},\"xaxis3\":{\"anchor\":\"y3\",\"domain\":[0.7111111111111111,1.0]},\"yaxis3\":{\"anchor\":\"x3\",\"domain\":[0.625,1.0]},\"xaxis4\":{\"anchor\":\"y4\",\"domain\":[0.0,0.2888888888888889]},\"yaxis4\":{\"anchor\":\"x4\",\"domain\":[0.0,0.375]},\"xaxis5\":{\"anchor\":\"y5\",\"domain\":[0.35555555555555557,0.6444444444444445]},\"yaxis5\":{\"anchor\":\"x5\",\"domain\":[0.0,0.375]},\"xaxis6\":{\"anchor\":\"y6\",\"domain\":[0.7111111111111111,1.0]},\"yaxis6\":{\"anchor\":\"x6\",\"domain\":[0.0,0.375]},\"annotations\":[{\"font\":{\"size\":16},\"showarrow\":false,\"text\":\"From: -200, To: 200\",\"x\":0.14444444444444446,\"xanchor\":\"center\",\"xref\":\"paper\",\"y\":1.0,\"yanchor\":\"bottom\",\"yref\":\"paper\"},{\"font\":{\"size\":16},\"showarrow\":false,\"text\":\"From: -1000, To: 1000\",\"x\":0.5,\"xanchor\":\"center\",\"xref\":\"paper\",\"y\":1.0,\"yanchor\":\"bottom\",\"yref\":\"paper\"},{\"font\":{\"size\":16},\"showarrow\":false,\"text\":\"From: -2000, To: 2000\",\"x\":0.8555555555555556,\"xanchor\":\"center\",\"xref\":\"paper\",\"y\":1.0,\"yanchor\":\"bottom\",\"yref\":\"paper\"},{\"font\":{\"size\":16},\"showarrow\":false,\"text\":\"From: -3000, To: 3000\",\"x\":0.14444444444444446,\"xanchor\":\"center\",\"xref\":\"paper\",\"y\":0.375,\"yanchor\":\"bottom\",\"yref\":\"paper\"},{\"font\":{\"size\":16},\"showarrow\":false,\"text\":\"From: -5000, To: 5000\",\"x\":0.5,\"xanchor\":\"center\",\"xref\":\"paper\",\"y\":0.375,\"yanchor\":\"bottom\",\"yref\":\"paper\"},{\"font\":{\"size\":16},\"showarrow\":false,\"text\":\"From: -10000, To: 10000\",\"x\":0.8555555555555556,\"xanchor\":\"center\",\"xref\":\"paper\",\"y\":0.375,\"yanchor\":\"bottom\",\"yref\":\"paper\"},{\"ax\":0,\"ay\":20,\"text\":\"x = 17\",\"x\":17,\"xref\":\"x\",\"y\":0,\"yref\":\"y\"},{\"ax\":0,\"ay\":20,\"text\":\"x = 17\",\"x\":17,\"xref\":\"x2\",\"y\":0,\"yref\":\"y2\"},{\"ax\":0,\"ay\":20,\"text\":\"x = 15\",\"x\":15,\"xref\":\"x3\",\"y\":0,\"yref\":\"y3\"},{\"ax\":0,\"ay\":20,\"text\":\"x = 17\",\"x\":17,\"xref\":\"x4\",\"y\":0,\"yref\":\"y4\"},{\"ax\":0,\"ay\":20,\"text\":\"x = 17\",\"x\":17,\"xref\":\"x5\",\"y\":0,\"yref\":\"y5\"},{\"ax\":0,\"ay\":20,\"text\":\"x = 17\",\"x\":17,\"xref\":\"x6\",\"y\":0,\"yref\":\"y6\"}],\"title\":{\"text\":\"Probability of Generalization Error \\u003c \\u003cb\\u003e5.0%\\u003c\\u002fb\\u003e for Different Ranges\"},\"height\":800},                        {\"responsive\": true}                    ).then(function(){\n",
       "                            \n",
       "var gd = document.getElementById('4ff6d4db-4f47-4cb8-9626-86369c3a4f6d');\n",
       "var x = new MutationObserver(function (mutations, observer) {{\n",
       "        var display = window.getComputedStyle(gd).display;\n",
       "        if (!display || display === 'none') {{\n",
       "            console.log([gd, 'removed!']);\n",
       "            Plotly.purge(gd);\n",
       "            observer.disconnect();\n",
       "        }}\n",
       "}});\n",
       "\n",
       "// Listen for the removal of the full notebook cells\n",
       "var notebookContainer = gd.closest('#notebook-container');\n",
       "if (notebookContainer) {{\n",
       "    x.observe(notebookContainer, {childList: true});\n",
       "}}\n",
       "\n",
       "// Listen for the clearing of the current output cell\n",
       "var outputEl = gd.closest('.output');\n",
       "if (outputEl) {{\n",
       "    x.observe(outputEl, {childList: true});\n",
       "}}\n",
       "\n",
       "                        })                };                            </script>        </div>\n",
       "</body>\n",
       "</html>"
      ]
     },
     "metadata": {}
    },
    {
     "output_type": "stream",
     "name": "stdout",
     "text": [
      "True Threshold for Interval -200 to 200: 42\n",
      "True Threshold for Interval -1000 to 1000: -29\n",
      "True Threshold for Interval -2000 to 2000: -57\n",
      "True Threshold for Interval -3000 to 3000: 887\n",
      "True Threshold for Interval -5000 to 5000: 2775\n",
      "True Threshold for Interval -10000 to 10000: 5550\n"
     ]
    },
    {
     "output_type": "display_data",
     "data": {
      "text/html": [
       "<html>\n",
       "<head><meta charset=\"utf-8\" /></head>\n",
       "<body>\n",
       "    <div>            <script src=\"https://cdnjs.cloudflare.com/ajax/libs/mathjax/2.7.5/MathJax.js?config=TeX-AMS-MML_SVG\"></script><script type=\"text/javascript\">if (window.MathJax && window.MathJax.Hub && window.MathJax.Hub.Config) {window.MathJax.Hub.Config({SVG: {font: \"STIX-Web\"}});}</script>                <script type=\"text/javascript\">window.PlotlyConfig = {MathJaxConfig: 'local'};</script>\n",
       "        <script charset=\"utf-8\" src=\"https://cdn.plot.ly/plotly-2.35.2.min.js\"></script>                <div id=\"2274482d-9d75-449f-8c44-2d00197320f2\" class=\"plotly-graph-div\" style=\"height:800px; width:100%;\"></div>            <script type=\"text/javascript\">                                    window.PLOTLYENV=window.PLOTLYENV || {};                                    if (document.getElementById(\"2274482d-9d75-449f-8c44-2d00197320f2\")) {                    Plotly.newPlot(                        \"2274482d-9d75-449f-8c44-2d00197320f2\",                        [{\"error_y\":{\"array\":[0.0,0.020120199442351466,0.0189735553231333,0.01657246603254929,0.01378863624873758,0.011583823203070737,0.009384329405983147,0.007335639685807913,0.0053814829183042095,0.004221866127673876,0.004027425976973382,0.0025548748697343283,0.0018083822604748148,0.0018083822604748148,0.0,0.0],\"type\":\"data\",\"visible\":true},\"hovertemplate\":\"\\u003cb\\u003eSample Size:\\u003c\\u002fb\\u003e %{x}\\u003cbr\\u003e\\u003cb\\u003eProbability:\\u003c\\u002fb\\u003e %{y:.2f}\\u003cbr\\u003e\\u003cb\\u003eConfidence Interval:\\u003c\\u002fb\\u003e ±%{error_y.array:.2f}\\u003cextra\\u003e\\u003c\\u002fextra\\u003e\",\"mode\":\"markers+lines\",\"name\":\"Interval -200 to 200\",\"x\":[1,3,5,7,9,11,13,15,17,19,21,23,25,27,29,31],\"y\":[0.0,0.446,0.674,0.787,0.866,0.91,0.943,0.966,0.982,0.989,0.99,0.996,0.998,0.998,1.0,1.0],\"type\":\"scatter\",\"xaxis\":\"x\",\"yaxis\":\"y\"},{\"line\":{\"color\":\"red\",\"dash\":\"dash\"},\"mode\":\"lines\",\"showlegend\":false,\"x\":[1,31],\"y\":[0.8,0.8],\"type\":\"scatter\",\"xaxis\":\"x\",\"yaxis\":\"y\"},{\"line\":{\"color\":\"blue\",\"dash\":\"dot\"},\"mode\":\"lines\",\"showlegend\":false,\"x\":[9,9],\"y\":[0,1],\"type\":\"scatter\",\"xaxis\":\"x\",\"yaxis\":\"y\"},{\"error_y\":{\"array\":[0.0,0.020220718721153313,0.019254706063713357,0.015974430769201138,0.014252039853999846,0.011755878461433666,0.009384329405983148,0.00783617212674658,0.005937323841597324,0.004221866127673876,0.003605876093267765,0.003125926678602683,0.0018083822604748148,0.0018083822604748148,0.0018083822604748148,0.00127935983991995],\"type\":\"data\",\"visible\":true},\"hovertemplate\":\"\\u003cb\\u003eSample Size:\\u003c\\u002fb\\u003e %{x}\\u003cbr\\u003e\\u003cb\\u003eProbability:\\u003c\\u002fb\\u003e %{y:.2f}\\u003cbr\\u003e\\u003cb\\u003eConfidence Interval:\\u003c\\u002fb\\u003e ±%{error_y.array:.2f}\\u003cextra\\u003e\\u003c\\u002fextra\\u003e\",\"mode\":\"markers+lines\",\"name\":\"Interval -1000 to 1000\",\"x\":[1,3,5,7,9,11,13,15,17,19,21,23,25,27,29,31],\"y\":[0.0,0.479,0.654,0.807,0.855,0.907,0.943,0.961,0.978,0.989,0.992,0.994,0.998,0.998,0.998,0.999],\"type\":\"scatter\",\"xaxis\":\"x2\",\"yaxis\":\"y2\"},{\"line\":{\"color\":\"red\",\"dash\":\"dash\"},\"mode\":\"lines\",\"showlegend\":false,\"x\":[1,31],\"y\":[0.8,0.8],\"type\":\"scatter\",\"xaxis\":\"x2\",\"yaxis\":\"y2\"},{\"line\":{\"color\":\"blue\",\"dash\":\"dot\"},\"mode\":\"lines\",\"showlegend\":false,\"x\":[7,7],\"y\":[0,1],\"type\":\"scatter\",\"xaxis\":\"x2\",\"yaxis\":\"y2\"},{\"error_y\":{\"array\":[0.0,0.020220718721153313,0.019267763087603085,0.015974430769201138,0.014413447942806744,0.011641598240791513,0.008211077785528525,0.007540492928184469,0.005078874836024217,0.005078874836024217,0.0038226809440496073,0.0018083822604748148,0.0031259266786026834,0.0018083822604748148,0.0,0.00127935983991995],\"type\":\"data\",\"visible\":true},\"hovertemplate\":\"\\u003cb\\u003eSample Size:\\u003c\\u002fb\\u003e %{x}\\u003cbr\\u003e\\u003cb\\u003eProbability:\\u003c\\u002fb\\u003e %{y:.2f}\\u003cbr\\u003e\\u003cb\\u003eConfidence Interval:\\u003c\\u002fb\\u003e ±%{error_y.array:.2f}\\u003cextra\\u003e\\u003c\\u002fextra\\u003e\",\"mode\":\"markers+lines\",\"name\":\"Interval -2000 to 2000\",\"x\":[1,3,5,7,9,11,13,15,17,19,21,23,25,27,29,31],\"y\":[0.0,0.479,0.653,0.807,0.851,0.909,0.957,0.964,0.984,0.984,0.991,0.998,0.994,0.998,1.0,0.999],\"type\":\"scatter\",\"xaxis\":\"x3\",\"yaxis\":\"y3\"},{\"line\":{\"color\":\"red\",\"dash\":\"dash\"},\"mode\":\"lines\",\"showlegend\":false,\"x\":[1,31],\"y\":[0.8,0.8],\"type\":\"scatter\",\"xaxis\":\"x3\",\"yaxis\":\"y3\"},{\"line\":{\"color\":\"blue\",\"dash\":\"dot\"},\"mode\":\"lines\",\"showlegend\":false,\"x\":[7,7],\"y\":[0,1],\"type\":\"scatter\",\"xaxis\":\"x3\",\"yaxis\":\"y3\"},{\"error_y\":{\"array\":[0.0,0.02000959769710526,0.019254706063713357,0.01639954262776862,0.014373436833269908,0.011466971282775587,0.009834449166069242,0.007640538619757117,0.006067659054363553,0.005526132245974577,0.0031259266786026834,0.0028550026269690203,0.0022136969982362088,0.0,0.0018083822604748148,0.0],\"type\":\"data\",\"visible\":true},\"hovertemplate\":\"\\u003cb\\u003eSample Size:\\u003c\\u002fb\\u003e %{x}\\u003cbr\\u003e\\u003cb\\u003eProbability:\\u003c\\u002fb\\u003e %{y:.2f}\\u003cbr\\u003e\\u003cb\\u003eConfidence Interval:\\u003c\\u002fb\\u003e ±%{error_y.array:.2f}\\u003cextra\\u003e\\u003c\\u002fextra\\u003e\",\"mode\":\"markers+lines\",\"name\":\"Interval -3000 to 3000\",\"x\":[1,3,5,7,9,11,13,15,17,19,21,23,25,27,29,31],\"y\":[0.0,0.425,0.654,0.793,0.852,0.912,0.937,0.963,0.977,0.981,0.994,0.995,0.997,1.0,0.998,1.0],\"type\":\"scatter\",\"xaxis\":\"x4\",\"yaxis\":\"y4\"},{\"line\":{\"color\":\"red\",\"dash\":\"dash\"},\"mode\":\"lines\",\"showlegend\":false,\"x\":[1,31],\"y\":[0.8,0.8],\"type\":\"scatter\",\"xaxis\":\"x4\",\"yaxis\":\"y4\"},{\"line\":{\"color\":\"blue\",\"dash\":\"dot\"},\"mode\":\"lines\",\"showlegend\":false,\"x\":[9,9],\"y\":[0,1],\"type\":\"scatter\",\"xaxis\":\"x4\",\"yaxis\":\"y4\"},{\"error_y\":{\"array\":[0.0,0.017885406609859336,0.020021712374320037,0.018252638428457407,0.01574993059032325,0.012913100324863895,0.01004975271337559,0.008479359975847233,0.0069048852271417225,0.006067659054363553,0.004407365471571425,0.0031259266786026834,0.0022136969982362088,0.0018083822604748148,0.00127935983991995,0.0],\"type\":\"data\",\"visible\":true},\"hovertemplate\":\"\\u003cb\\u003eSample Size:\\u003c\\u002fb\\u003e %{x}\\u003cbr\\u003e\\u003cb\\u003eProbability:\\u003c\\u002fb\\u003e %{y:.2f}\\u003cbr\\u003e\\u003cb\\u003eConfidence Interval:\\u003c\\u002fb\\u003e ±%{error_y.array:.2f}\\u003cextra\\u003e\\u003c\\u002fextra\\u003e\",\"mode\":\"markers+lines\",\"name\":\"Interval -5000 to 5000\",\"x\":[1,3,5,7,9,11,13,15,17,19,21,23,25,27,29,31],\"y\":[0.0,0.266,0.573,0.716,0.814,0.885,0.934,0.954,0.97,0.977,0.988,0.994,0.997,0.998,0.999,1.0],\"type\":\"scatter\",\"xaxis\":\"x5\",\"yaxis\":\"y5\"},{\"line\":{\"color\":\"red\",\"dash\":\"dash\"},\"mode\":\"lines\",\"showlegend\":false,\"x\":[1,31],\"y\":[0.8,0.8],\"type\":\"scatter\",\"xaxis\":\"x5\",\"yaxis\":\"y5\"},{\"line\":{\"color\":\"blue\",\"dash\":\"dot\"},\"mode\":\"lines\",\"showlegend\":false,\"x\":[9,9],\"y\":[0,1],\"type\":\"scatter\",\"xaxis\":\"x5\",\"yaxis\":\"y5\"},{\"error_y\":{\"array\":[0.0,0.017885406609859336,0.020033492596150084,0.018291195521343052,0.01524001133857846,0.012563315740679289,0.01039553873543839,0.00811927720921019,0.006677626404644093,0.005526132245974577,0.004221866127673876,0.002213696998236209,0.0018083822604748148,0.0025548748697343283,0.0018083822604748148,0.0012793598399199505],\"type\":\"data\",\"visible\":true},\"hovertemplate\":\"\\u003cb\\u003eSample Size:\\u003c\\u002fb\\u003e %{x}\\u003cbr\\u003e\\u003cb\\u003eProbability:\\u003c\\u002fb\\u003e %{y:.2f}\\u003cbr\\u003e\\u003cb\\u003eConfidence Interval:\\u003c\\u002fb\\u003e ±%{error_y.array:.2f}\\u003cextra\\u003e\\u003c\\u002fextra\\u003e\",\"mode\":\"markers+lines\",\"name\":\"Interval -10000 to 10000\",\"x\":[1,3,5,7,9,11,13,15,17,19,21,23,25,27,29,31],\"y\":[0.0,0.266,0.571,0.714,0.829,0.892,0.929,0.958,0.972,0.981,0.989,0.997,0.998,0.996,0.998,0.999],\"type\":\"scatter\",\"xaxis\":\"x6\",\"yaxis\":\"y6\"},{\"line\":{\"color\":\"red\",\"dash\":\"dash\"},\"mode\":\"lines\",\"showlegend\":false,\"x\":[1,31],\"y\":[0.8,0.8],\"type\":\"scatter\",\"xaxis\":\"x6\",\"yaxis\":\"y6\"},{\"line\":{\"color\":\"blue\",\"dash\":\"dot\"},\"mode\":\"lines\",\"showlegend\":false,\"x\":[9,9],\"y\":[0,1],\"type\":\"scatter\",\"xaxis\":\"x6\",\"yaxis\":\"y6\"}],                        {\"template\":{\"data\":{\"barpolar\":[{\"marker\":{\"line\":{\"color\":\"white\",\"width\":0.5},\"pattern\":{\"fillmode\":\"overlay\",\"size\":10,\"solidity\":0.2}},\"type\":\"barpolar\"}],\"bar\":[{\"error_x\":{\"color\":\"#2a3f5f\"},\"error_y\":{\"color\":\"#2a3f5f\"},\"marker\":{\"line\":{\"color\":\"white\",\"width\":0.5},\"pattern\":{\"fillmode\":\"overlay\",\"size\":10,\"solidity\":0.2}},\"type\":\"bar\"}],\"carpet\":[{\"aaxis\":{\"endlinecolor\":\"#2a3f5f\",\"gridcolor\":\"#C8D4E3\",\"linecolor\":\"#C8D4E3\",\"minorgridcolor\":\"#C8D4E3\",\"startlinecolor\":\"#2a3f5f\"},\"baxis\":{\"endlinecolor\":\"#2a3f5f\",\"gridcolor\":\"#C8D4E3\",\"linecolor\":\"#C8D4E3\",\"minorgridcolor\":\"#C8D4E3\",\"startlinecolor\":\"#2a3f5f\"},\"type\":\"carpet\"}],\"choropleth\":[{\"colorbar\":{\"outlinewidth\":0,\"ticks\":\"\"},\"type\":\"choropleth\"}],\"contourcarpet\":[{\"colorbar\":{\"outlinewidth\":0,\"ticks\":\"\"},\"type\":\"contourcarpet\"}],\"contour\":[{\"colorbar\":{\"outlinewidth\":0,\"ticks\":\"\"},\"colorscale\":[[0.0,\"#0d0887\"],[0.1111111111111111,\"#46039f\"],[0.2222222222222222,\"#7201a8\"],[0.3333333333333333,\"#9c179e\"],[0.4444444444444444,\"#bd3786\"],[0.5555555555555556,\"#d8576b\"],[0.6666666666666666,\"#ed7953\"],[0.7777777777777778,\"#fb9f3a\"],[0.8888888888888888,\"#fdca26\"],[1.0,\"#f0f921\"]],\"type\":\"contour\"}],\"heatmapgl\":[{\"colorbar\":{\"outlinewidth\":0,\"ticks\":\"\"},\"colorscale\":[[0.0,\"#0d0887\"],[0.1111111111111111,\"#46039f\"],[0.2222222222222222,\"#7201a8\"],[0.3333333333333333,\"#9c179e\"],[0.4444444444444444,\"#bd3786\"],[0.5555555555555556,\"#d8576b\"],[0.6666666666666666,\"#ed7953\"],[0.7777777777777778,\"#fb9f3a\"],[0.8888888888888888,\"#fdca26\"],[1.0,\"#f0f921\"]],\"type\":\"heatmapgl\"}],\"heatmap\":[{\"colorbar\":{\"outlinewidth\":0,\"ticks\":\"\"},\"colorscale\":[[0.0,\"#0d0887\"],[0.1111111111111111,\"#46039f\"],[0.2222222222222222,\"#7201a8\"],[0.3333333333333333,\"#9c179e\"],[0.4444444444444444,\"#bd3786\"],[0.5555555555555556,\"#d8576b\"],[0.6666666666666666,\"#ed7953\"],[0.7777777777777778,\"#fb9f3a\"],[0.8888888888888888,\"#fdca26\"],[1.0,\"#f0f921\"]],\"type\":\"heatmap\"}],\"histogram2dcontour\":[{\"colorbar\":{\"outlinewidth\":0,\"ticks\":\"\"},\"colorscale\":[[0.0,\"#0d0887\"],[0.1111111111111111,\"#46039f\"],[0.2222222222222222,\"#7201a8\"],[0.3333333333333333,\"#9c179e\"],[0.4444444444444444,\"#bd3786\"],[0.5555555555555556,\"#d8576b\"],[0.6666666666666666,\"#ed7953\"],[0.7777777777777778,\"#fb9f3a\"],[0.8888888888888888,\"#fdca26\"],[1.0,\"#f0f921\"]],\"type\":\"histogram2dcontour\"}],\"histogram2d\":[{\"colorbar\":{\"outlinewidth\":0,\"ticks\":\"\"},\"colorscale\":[[0.0,\"#0d0887\"],[0.1111111111111111,\"#46039f\"],[0.2222222222222222,\"#7201a8\"],[0.3333333333333333,\"#9c179e\"],[0.4444444444444444,\"#bd3786\"],[0.5555555555555556,\"#d8576b\"],[0.6666666666666666,\"#ed7953\"],[0.7777777777777778,\"#fb9f3a\"],[0.8888888888888888,\"#fdca26\"],[1.0,\"#f0f921\"]],\"type\":\"histogram2d\"}],\"histogram\":[{\"marker\":{\"pattern\":{\"fillmode\":\"overlay\",\"size\":10,\"solidity\":0.2}},\"type\":\"histogram\"}],\"mesh3d\":[{\"colorbar\":{\"outlinewidth\":0,\"ticks\":\"\"},\"type\":\"mesh3d\"}],\"parcoords\":[{\"line\":{\"colorbar\":{\"outlinewidth\":0,\"ticks\":\"\"}},\"type\":\"parcoords\"}],\"pie\":[{\"automargin\":true,\"type\":\"pie\"}],\"scatter3d\":[{\"line\":{\"colorbar\":{\"outlinewidth\":0,\"ticks\":\"\"}},\"marker\":{\"colorbar\":{\"outlinewidth\":0,\"ticks\":\"\"}},\"type\":\"scatter3d\"}],\"scattercarpet\":[{\"marker\":{\"colorbar\":{\"outlinewidth\":0,\"ticks\":\"\"}},\"type\":\"scattercarpet\"}],\"scattergeo\":[{\"marker\":{\"colorbar\":{\"outlinewidth\":0,\"ticks\":\"\"}},\"type\":\"scattergeo\"}],\"scattergl\":[{\"marker\":{\"colorbar\":{\"outlinewidth\":0,\"ticks\":\"\"}},\"type\":\"scattergl\"}],\"scattermapbox\":[{\"marker\":{\"colorbar\":{\"outlinewidth\":0,\"ticks\":\"\"}},\"type\":\"scattermapbox\"}],\"scatterpolargl\":[{\"marker\":{\"colorbar\":{\"outlinewidth\":0,\"ticks\":\"\"}},\"type\":\"scatterpolargl\"}],\"scatterpolar\":[{\"marker\":{\"colorbar\":{\"outlinewidth\":0,\"ticks\":\"\"}},\"type\":\"scatterpolar\"}],\"scatter\":[{\"fillpattern\":{\"fillmode\":\"overlay\",\"size\":10,\"solidity\":0.2},\"type\":\"scatter\"}],\"scatterternary\":[{\"marker\":{\"colorbar\":{\"outlinewidth\":0,\"ticks\":\"\"}},\"type\":\"scatterternary\"}],\"surface\":[{\"colorbar\":{\"outlinewidth\":0,\"ticks\":\"\"},\"colorscale\":[[0.0,\"#0d0887\"],[0.1111111111111111,\"#46039f\"],[0.2222222222222222,\"#7201a8\"],[0.3333333333333333,\"#9c179e\"],[0.4444444444444444,\"#bd3786\"],[0.5555555555555556,\"#d8576b\"],[0.6666666666666666,\"#ed7953\"],[0.7777777777777778,\"#fb9f3a\"],[0.8888888888888888,\"#fdca26\"],[1.0,\"#f0f921\"]],\"type\":\"surface\"}],\"table\":[{\"cells\":{\"fill\":{\"color\":\"#EBF0F8\"},\"line\":{\"color\":\"white\"}},\"header\":{\"fill\":{\"color\":\"#C8D4E3\"},\"line\":{\"color\":\"white\"}},\"type\":\"table\"}]},\"layout\":{\"annotationdefaults\":{\"arrowcolor\":\"#2a3f5f\",\"arrowhead\":0,\"arrowwidth\":1},\"autotypenumbers\":\"strict\",\"coloraxis\":{\"colorbar\":{\"outlinewidth\":0,\"ticks\":\"\"}},\"colorscale\":{\"diverging\":[[0,\"#8e0152\"],[0.1,\"#c51b7d\"],[0.2,\"#de77ae\"],[0.3,\"#f1b6da\"],[0.4,\"#fde0ef\"],[0.5,\"#f7f7f7\"],[0.6,\"#e6f5d0\"],[0.7,\"#b8e186\"],[0.8,\"#7fbc41\"],[0.9,\"#4d9221\"],[1,\"#276419\"]],\"sequential\":[[0.0,\"#0d0887\"],[0.1111111111111111,\"#46039f\"],[0.2222222222222222,\"#7201a8\"],[0.3333333333333333,\"#9c179e\"],[0.4444444444444444,\"#bd3786\"],[0.5555555555555556,\"#d8576b\"],[0.6666666666666666,\"#ed7953\"],[0.7777777777777778,\"#fb9f3a\"],[0.8888888888888888,\"#fdca26\"],[1.0,\"#f0f921\"]],\"sequentialminus\":[[0.0,\"#0d0887\"],[0.1111111111111111,\"#46039f\"],[0.2222222222222222,\"#7201a8\"],[0.3333333333333333,\"#9c179e\"],[0.4444444444444444,\"#bd3786\"],[0.5555555555555556,\"#d8576b\"],[0.6666666666666666,\"#ed7953\"],[0.7777777777777778,\"#fb9f3a\"],[0.8888888888888888,\"#fdca26\"],[1.0,\"#f0f921\"]]},\"colorway\":[\"#636efa\",\"#EF553B\",\"#00cc96\",\"#ab63fa\",\"#FFA15A\",\"#19d3f3\",\"#FF6692\",\"#B6E880\",\"#FF97FF\",\"#FECB52\"],\"font\":{\"color\":\"#2a3f5f\"},\"geo\":{\"bgcolor\":\"white\",\"lakecolor\":\"white\",\"landcolor\":\"white\",\"showlakes\":true,\"showland\":true,\"subunitcolor\":\"#C8D4E3\"},\"hoverlabel\":{\"align\":\"left\"},\"hovermode\":\"closest\",\"mapbox\":{\"style\":\"light\"},\"paper_bgcolor\":\"white\",\"plot_bgcolor\":\"white\",\"polar\":{\"angularaxis\":{\"gridcolor\":\"#EBF0F8\",\"linecolor\":\"#EBF0F8\",\"ticks\":\"\"},\"bgcolor\":\"white\",\"radialaxis\":{\"gridcolor\":\"#EBF0F8\",\"linecolor\":\"#EBF0F8\",\"ticks\":\"\"}},\"scene\":{\"xaxis\":{\"backgroundcolor\":\"white\",\"gridcolor\":\"#DFE8F3\",\"gridwidth\":2,\"linecolor\":\"#EBF0F8\",\"showbackground\":true,\"ticks\":\"\",\"zerolinecolor\":\"#EBF0F8\"},\"yaxis\":{\"backgroundcolor\":\"white\",\"gridcolor\":\"#DFE8F3\",\"gridwidth\":2,\"linecolor\":\"#EBF0F8\",\"showbackground\":true,\"ticks\":\"\",\"zerolinecolor\":\"#EBF0F8\"},\"zaxis\":{\"backgroundcolor\":\"white\",\"gridcolor\":\"#DFE8F3\",\"gridwidth\":2,\"linecolor\":\"#EBF0F8\",\"showbackground\":true,\"ticks\":\"\",\"zerolinecolor\":\"#EBF0F8\"}},\"shapedefaults\":{\"line\":{\"color\":\"#2a3f5f\"}},\"ternary\":{\"aaxis\":{\"gridcolor\":\"#DFE8F3\",\"linecolor\":\"#A2B1C6\",\"ticks\":\"\"},\"baxis\":{\"gridcolor\":\"#DFE8F3\",\"linecolor\":\"#A2B1C6\",\"ticks\":\"\"},\"bgcolor\":\"white\",\"caxis\":{\"gridcolor\":\"#DFE8F3\",\"linecolor\":\"#A2B1C6\",\"ticks\":\"\"}},\"title\":{\"x\":0.05},\"xaxis\":{\"automargin\":true,\"gridcolor\":\"#EBF0F8\",\"linecolor\":\"#EBF0F8\",\"ticks\":\"\",\"title\":{\"standoff\":15},\"zerolinecolor\":\"#EBF0F8\",\"zerolinewidth\":2},\"yaxis\":{\"automargin\":true,\"gridcolor\":\"#EBF0F8\",\"linecolor\":\"#EBF0F8\",\"ticks\":\"\",\"title\":{\"standoff\":15},\"zerolinecolor\":\"#EBF0F8\",\"zerolinewidth\":2}}},\"xaxis\":{\"anchor\":\"y\",\"domain\":[0.0,0.2888888888888889],\"title\":{\"text\":\"Sample Size\"}},\"yaxis\":{\"anchor\":\"x\",\"domain\":[0.625,1.0],\"title\":{\"text\":\"Probability\"}},\"xaxis2\":{\"anchor\":\"y2\",\"domain\":[0.35555555555555557,0.6444444444444445]},\"yaxis2\":{\"anchor\":\"x2\",\"domain\":[0.625,1.0]},\"xaxis3\":{\"anchor\":\"y3\",\"domain\":[0.7111111111111111,1.0]},\"yaxis3\":{\"anchor\":\"x3\",\"domain\":[0.625,1.0]},\"xaxis4\":{\"anchor\":\"y4\",\"domain\":[0.0,0.2888888888888889]},\"yaxis4\":{\"anchor\":\"x4\",\"domain\":[0.0,0.375]},\"xaxis5\":{\"anchor\":\"y5\",\"domain\":[0.35555555555555557,0.6444444444444445]},\"yaxis5\":{\"anchor\":\"x5\",\"domain\":[0.0,0.375]},\"xaxis6\":{\"anchor\":\"y6\",\"domain\":[0.7111111111111111,1.0]},\"yaxis6\":{\"anchor\":\"x6\",\"domain\":[0.0,0.375]},\"annotations\":[{\"font\":{\"size\":16},\"showarrow\":false,\"text\":\"From: -200, To: 200\",\"x\":0.14444444444444446,\"xanchor\":\"center\",\"xref\":\"paper\",\"y\":1.0,\"yanchor\":\"bottom\",\"yref\":\"paper\"},{\"font\":{\"size\":16},\"showarrow\":false,\"text\":\"From: -1000, To: 1000\",\"x\":0.5,\"xanchor\":\"center\",\"xref\":\"paper\",\"y\":1.0,\"yanchor\":\"bottom\",\"yref\":\"paper\"},{\"font\":{\"size\":16},\"showarrow\":false,\"text\":\"From: -2000, To: 2000\",\"x\":0.8555555555555556,\"xanchor\":\"center\",\"xref\":\"paper\",\"y\":1.0,\"yanchor\":\"bottom\",\"yref\":\"paper\"},{\"font\":{\"size\":16},\"showarrow\":false,\"text\":\"From: -3000, To: 3000\",\"x\":0.14444444444444446,\"xanchor\":\"center\",\"xref\":\"paper\",\"y\":0.375,\"yanchor\":\"bottom\",\"yref\":\"paper\"},{\"font\":{\"size\":16},\"showarrow\":false,\"text\":\"From: -5000, To: 5000\",\"x\":0.5,\"xanchor\":\"center\",\"xref\":\"paper\",\"y\":0.375,\"yanchor\":\"bottom\",\"yref\":\"paper\"},{\"font\":{\"size\":16},\"showarrow\":false,\"text\":\"From: -10000, To: 10000\",\"x\":0.8555555555555556,\"xanchor\":\"center\",\"xref\":\"paper\",\"y\":0.375,\"yanchor\":\"bottom\",\"yref\":\"paper\"},{\"ax\":0,\"ay\":20,\"text\":\"x = 9\",\"x\":9,\"xref\":\"x\",\"y\":0,\"yref\":\"y\"},{\"ax\":0,\"ay\":20,\"text\":\"x = 7\",\"x\":7,\"xref\":\"x2\",\"y\":0,\"yref\":\"y2\"},{\"ax\":0,\"ay\":20,\"text\":\"x = 7\",\"x\":7,\"xref\":\"x3\",\"y\":0,\"yref\":\"y3\"},{\"ax\":0,\"ay\":20,\"text\":\"x = 9\",\"x\":9,\"xref\":\"x4\",\"y\":0,\"yref\":\"y4\"},{\"ax\":0,\"ay\":20,\"text\":\"x = 9\",\"x\":9,\"xref\":\"x5\",\"y\":0,\"yref\":\"y5\"},{\"ax\":0,\"ay\":20,\"text\":\"x = 9\",\"x\":9,\"xref\":\"x6\",\"y\":0,\"yref\":\"y6\"}],\"title\":{\"text\":\"Probability of Generalization Error \\u003c \\u003cb\\u003e10.0%\\u003c\\u002fb\\u003e for Different Ranges\"},\"height\":800},                        {\"responsive\": true}                    ).then(function(){\n",
       "                            \n",
       "var gd = document.getElementById('2274482d-9d75-449f-8c44-2d00197320f2');\n",
       "var x = new MutationObserver(function (mutations, observer) {{\n",
       "        var display = window.getComputedStyle(gd).display;\n",
       "        if (!display || display === 'none') {{\n",
       "            console.log([gd, 'removed!']);\n",
       "            Plotly.purge(gd);\n",
       "            observer.disconnect();\n",
       "        }}\n",
       "}});\n",
       "\n",
       "// Listen for the removal of the full notebook cells\n",
       "var notebookContainer = gd.closest('#notebook-container');\n",
       "if (notebookContainer) {{\n",
       "    x.observe(notebookContainer, {childList: true});\n",
       "}}\n",
       "\n",
       "// Listen for the clearing of the current output cell\n",
       "var outputEl = gd.closest('.output');\n",
       "if (outputEl) {{\n",
       "    x.observe(outputEl, {childList: true});\n",
       "}}\n",
       "\n",
       "                        })                };                            </script>        </div>\n",
       "</body>\n",
       "</html>"
      ]
     },
     "metadata": {}
    },
    {
     "output_type": "stream",
     "name": "stdout",
     "text": [
      "True Threshold for Interval -200 to 200: 42\n",
      "True Threshold for Interval -1000 to 1000: -29\n",
      "True Threshold for Interval -2000 to 2000: -57\n",
      "True Threshold for Interval -3000 to 3000: 887\n",
      "True Threshold for Interval -5000 to 5000: 2775\n",
      "True Threshold for Interval -10000 to 10000: 5550\n"
     ]
    },
    {
     "output_type": "display_data",
     "data": {
      "text/html": [
       "<html>\n",
       "<head><meta charset=\"utf-8\" /></head>\n",
       "<body>\n",
       "    <div>            <script src=\"https://cdnjs.cloudflare.com/ajax/libs/mathjax/2.7.5/MathJax.js?config=TeX-AMS-MML_SVG\"></script><script type=\"text/javascript\">if (window.MathJax && window.MathJax.Hub && window.MathJax.Hub.Config) {window.MathJax.Hub.Config({SVG: {font: \"STIX-Web\"}});}</script>                <script type=\"text/javascript\">window.PlotlyConfig = {MathJaxConfig: 'local'};</script>\n",
       "        <script charset=\"utf-8\" src=\"https://cdn.plot.ly/plotly-2.35.2.min.js\"></script>                <div id=\"43c03963-3cbb-4f27-a9d8-e7c4c0235c94\" class=\"plotly-graph-div\" style=\"height:800px; width:100%;\"></div>            <script type=\"text/javascript\">                                    window.PLOTLYENV=window.PLOTLYENV || {};                                    if (document.getElementById(\"43c03963-3cbb-4f27-a9d8-e7c4c0235c94\")) {                    Plotly.newPlot(                        \"43c03963-3cbb-4f27-a9d8-e7c4c0235c94\",                        [{\"error_y\":{\"array\":[0.0,0.01819397421126017,0.011407881065298678,0.00783617212674658,0.0045850093129676415,0.0038226809440496073,0.0018083822604748148,0.0,0.0,0.0,0.0,0.0,0.0,0.0,0.0,0.0],\"type\":\"data\",\"visible\":true},\"hovertemplate\":\"\\u003cb\\u003eSample Size:\\u003c\\u002fb\\u003e %{x}\\u003cbr\\u003e\\u003cb\\u003eProbability:\\u003c\\u002fb\\u003e %{y:.2f}\\u003cbr\\u003e\\u003cb\\u003eConfidence Interval:\\u003c\\u002fb\\u003e ±%{error_y.array:.2f}\\u003cextra\\u003e\\u003c\\u002fextra\\u003e\",\"mode\":\"markers+lines\",\"name\":\"Interval -200 to 200\",\"x\":[1,3,5,7,9,11,13,15,17,19,21,23,25,27,29,31],\"y\":[0.0,0.719,0.913,0.961,0.987,0.991,0.998,1.0,1.0,1.0,1.0,1.0,1.0,1.0,1.0,1.0],\"type\":\"scatter\",\"xaxis\":\"x\",\"yaxis\":\"y\"},{\"line\":{\"color\":\"red\",\"dash\":\"dash\"},\"mode\":\"lines\",\"showlegend\":false,\"x\":[1,31],\"y\":[0.8,0.8],\"type\":\"scatter\",\"xaxis\":\"x\",\"yaxis\":\"y\"},{\"line\":{\"color\":\"blue\",\"dash\":\"dot\"},\"mode\":\"lines\",\"showlegend\":false,\"x\":[5,5],\"y\":[0,1],\"type\":\"scatter\",\"xaxis\":\"x\",\"yaxis\":\"y\"},{\"error_y\":{\"array\":[0.0,0.01755042910016732,0.010726369451030485,0.004027425976973382,0.0022136969982362088,0.0018083822604748148,0.0,0.0,0.0,0.0,0.0,0.0,0.0,0.0,0.0,0.0],\"type\":\"data\",\"visible\":true},\"hovertemplate\":\"\\u003cb\\u003eSample Size:\\u003c\\u002fb\\u003e %{x}\\u003cbr\\u003e\\u003cb\\u003eProbability:\\u003c\\u002fb\\u003e %{y:.2f}\\u003cbr\\u003e\\u003cb\\u003eConfidence Interval:\\u003c\\u002fb\\u003e ±%{error_y.array:.2f}\\u003cextra\\u003e\\u003c\\u002fextra\\u003e\",\"mode\":\"markers+lines\",\"name\":\"Interval -1000 to 1000\",\"x\":[1,3,5,7,9,11,13,15,17,19,21,23,25,27,29,31],\"y\":[0.0,0.749,0.924,0.99,0.997,0.998,1.0,1.0,1.0,1.0,1.0,1.0,1.0,1.0,1.0,1.0],\"type\":\"scatter\",\"xaxis\":\"x2\",\"yaxis\":\"y2\"},{\"line\":{\"color\":\"red\",\"dash\":\"dash\"},\"mode\":\"lines\",\"showlegend\":false,\"x\":[1,31],\"y\":[0.8,0.8],\"type\":\"scatter\",\"xaxis\":\"x2\",\"yaxis\":\"y2\"},{\"line\":{\"color\":\"blue\",\"dash\":\"dot\"},\"mode\":\"lines\",\"showlegend\":false,\"x\":[5,5],\"y\":[0,1],\"type\":\"scatter\",\"xaxis\":\"x2\",\"yaxis\":\"y2\"},{\"error_y\":{\"array\":[0.0,0.017527121840165315,0.010726369451030485,0.005078874836024217,0.003125926678602683,0.00127935983991995,0.0,0.0,0.0,0.0,0.0,0.0,0.0,0.0,0.0,0.0],\"type\":\"data\",\"visible\":true},\"hovertemplate\":\"\\u003cb\\u003eSample Size:\\u003c\\u002fb\\u003e %{x}\\u003cbr\\u003e\\u003cb\\u003eProbability:\\u003c\\u002fb\\u003e %{y:.2f}\\u003cbr\\u003e\\u003cb\\u003eConfidence Interval:\\u003c\\u002fb\\u003e ±%{error_y.array:.2f}\\u003cextra\\u003e\\u003c\\u002fextra\\u003e\",\"mode\":\"markers+lines\",\"name\":\"Interval -2000 to 2000\",\"x\":[1,3,5,7,9,11,13,15,17,19,21,23,25,27,29,31],\"y\":[0.0,0.75,0.924,0.984,0.994,0.999,1.0,1.0,1.0,1.0,1.0,1.0,1.0,1.0,1.0,1.0],\"type\":\"scatter\",\"xaxis\":\"x3\",\"yaxis\":\"y3\"},{\"line\":{\"color\":\"red\",\"dash\":\"dash\"},\"mode\":\"lines\",\"showlegend\":false,\"x\":[1,31],\"y\":[0.8,0.8],\"type\":\"scatter\",\"xaxis\":\"x3\",\"yaxis\":\"y3\"},{\"line\":{\"color\":\"blue\",\"dash\":\"dot\"},\"mode\":\"lines\",\"showlegend\":false,\"x\":[5,5],\"y\":[0,1],\"type\":\"scatter\",\"xaxis\":\"x3\",\"yaxis\":\"y3\"},{\"error_y\":{\"array\":[0.0,0.01891266597812165,0.012664886892507173,0.009148553197090785,0.007335639685807913,0.0038226809440496073,0.0036058760932677647,0.00127935983991995,0.0,0.0,0.0,0.0,0.0,0.0,0.0,0.0],\"type\":\"data\",\"visible\":true},\"hovertemplate\":\"\\u003cb\\u003eSample Size:\\u003c\\u002fb\\u003e %{x}\\u003cbr\\u003e\\u003cb\\u003eProbability:\\u003c\\u002fb\\u003e %{y:.2f}\\u003cbr\\u003e\\u003cb\\u003eConfidence Interval:\\u003c\\u002fb\\u003e ±%{error_y.array:.2f}\\u003cextra\\u003e\\u003c\\u002fextra\\u003e\",\"mode\":\"markers+lines\",\"name\":\"Interval -3000 to 3000\",\"x\":[1,3,5,7,9,11,13,15,17,19,21,23,25,27,29,31],\"y\":[0.0,0.678,0.89,0.946,0.966,0.991,0.992,0.999,1.0,1.0,1.0,1.0,1.0,1.0,1.0,1.0],\"type\":\"scatter\",\"xaxis\":\"x4\",\"yaxis\":\"y4\"},{\"line\":{\"color\":\"red\",\"dash\":\"dash\"},\"mode\":\"lines\",\"showlegend\":false,\"x\":[1,31],\"y\":[0.8,0.8],\"type\":\"scatter\",\"xaxis\":\"x4\",\"yaxis\":\"y4\"},{\"line\":{\"color\":\"blue\",\"dash\":\"dot\"},\"mode\":\"lines\",\"showlegend\":false,\"x\":[5,5],\"y\":[0,1],\"type\":\"scatter\",\"xaxis\":\"x4\",\"yaxis\":\"y4\"},{\"error_y\":{\"array\":[0.0,0.020229467615337778,0.017687682674675055,0.015974430769201138,0.012250342297258472,0.010259102182939793,0.00783617212674658,0.007230697227792076,0.005078874836024217,0.004407365471571425,0.0031259266786026834,0.0018083822604748148,0.0022136969982362088,0.00127935983991995,0.0,0.0],\"type\":\"data\",\"visible\":true},\"hovertemplate\":\"\\u003cb\\u003eSample Size:\\u003c\\u002fb\\u003e %{x}\\u003cbr\\u003e\\u003cb\\u003eProbability:\\u003c\\u002fb\\u003e %{y:.2f}\\u003cbr\\u003e\\u003cb\\u003eConfidence Interval:\\u003c\\u002fb\\u003e ±%{error_y.array:.2f}\\u003cextra\\u003e\\u003c\\u002fextra\\u003e\",\"mode\":\"markers+lines\",\"name\":\"Interval -5000 to 5000\",\"x\":[1,3,5,7,9,11,13,15,17,19,21,23,25,27,29,31],\"y\":[0.0,0.485,0.743,0.807,0.898,0.931,0.961,0.967,0.984,0.988,0.994,0.998,0.997,0.999,1.0,1.0],\"type\":\"scatter\",\"xaxis\":\"x5\",\"yaxis\":\"y5\"},{\"line\":{\"color\":\"red\",\"dash\":\"dash\"},\"mode\":\"lines\",\"showlegend\":false,\"x\":[1,31],\"y\":[0.8,0.8],\"type\":\"scatter\",\"xaxis\":\"x5\",\"yaxis\":\"y5\"},{\"line\":{\"color\":\"blue\",\"dash\":\"dot\"},\"mode\":\"lines\",\"showlegend\":false,\"x\":[7,7],\"y\":[0,1],\"type\":\"scatter\",\"xaxis\":\"x5\",\"yaxis\":\"y5\"},{\"error_y\":{\"array\":[0.0,0.020229467615337778,0.017820569867431288,0.01584715474777728,0.012250342297258472,0.01039553873543839,0.00839108097923027,0.006067659054363553,0.0053814829183042095,0.0038226809440496073,0.003125926678602683,0.0,0.00127935983991995,0.00127935983991995,0.0,0.0],\"type\":\"data\",\"visible\":true},\"hovertemplate\":\"\\u003cb\\u003eSample Size:\\u003c\\u002fb\\u003e %{x}\\u003cbr\\u003e\\u003cb\\u003eProbability:\\u003c\\u002fb\\u003e %{y:.2f}\\u003cbr\\u003e\\u003cb\\u003eConfidence Interval:\\u003c\\u002fb\\u003e ±%{error_y.array:.2f}\\u003cextra\\u003e\\u003c\\u002fextra\\u003e\",\"mode\":\"markers+lines\",\"name\":\"Interval -10000 to 10000\",\"x\":[1,3,5,7,9,11,13,15,17,19,21,23,25,27,29,31],\"y\":[0.0,0.485,0.737,0.811,0.898,0.929,0.955,0.977,0.982,0.991,0.994,1.0,0.999,0.999,1.0,1.0],\"type\":\"scatter\",\"xaxis\":\"x6\",\"yaxis\":\"y6\"},{\"line\":{\"color\":\"red\",\"dash\":\"dash\"},\"mode\":\"lines\",\"showlegend\":false,\"x\":[1,31],\"y\":[0.8,0.8],\"type\":\"scatter\",\"xaxis\":\"x6\",\"yaxis\":\"y6\"},{\"line\":{\"color\":\"blue\",\"dash\":\"dot\"},\"mode\":\"lines\",\"showlegend\":false,\"x\":[7,7],\"y\":[0,1],\"type\":\"scatter\",\"xaxis\":\"x6\",\"yaxis\":\"y6\"}],                        {\"template\":{\"data\":{\"barpolar\":[{\"marker\":{\"line\":{\"color\":\"white\",\"width\":0.5},\"pattern\":{\"fillmode\":\"overlay\",\"size\":10,\"solidity\":0.2}},\"type\":\"barpolar\"}],\"bar\":[{\"error_x\":{\"color\":\"#2a3f5f\"},\"error_y\":{\"color\":\"#2a3f5f\"},\"marker\":{\"line\":{\"color\":\"white\",\"width\":0.5},\"pattern\":{\"fillmode\":\"overlay\",\"size\":10,\"solidity\":0.2}},\"type\":\"bar\"}],\"carpet\":[{\"aaxis\":{\"endlinecolor\":\"#2a3f5f\",\"gridcolor\":\"#C8D4E3\",\"linecolor\":\"#C8D4E3\",\"minorgridcolor\":\"#C8D4E3\",\"startlinecolor\":\"#2a3f5f\"},\"baxis\":{\"endlinecolor\":\"#2a3f5f\",\"gridcolor\":\"#C8D4E3\",\"linecolor\":\"#C8D4E3\",\"minorgridcolor\":\"#C8D4E3\",\"startlinecolor\":\"#2a3f5f\"},\"type\":\"carpet\"}],\"choropleth\":[{\"colorbar\":{\"outlinewidth\":0,\"ticks\":\"\"},\"type\":\"choropleth\"}],\"contourcarpet\":[{\"colorbar\":{\"outlinewidth\":0,\"ticks\":\"\"},\"type\":\"contourcarpet\"}],\"contour\":[{\"colorbar\":{\"outlinewidth\":0,\"ticks\":\"\"},\"colorscale\":[[0.0,\"#0d0887\"],[0.1111111111111111,\"#46039f\"],[0.2222222222222222,\"#7201a8\"],[0.3333333333333333,\"#9c179e\"],[0.4444444444444444,\"#bd3786\"],[0.5555555555555556,\"#d8576b\"],[0.6666666666666666,\"#ed7953\"],[0.7777777777777778,\"#fb9f3a\"],[0.8888888888888888,\"#fdca26\"],[1.0,\"#f0f921\"]],\"type\":\"contour\"}],\"heatmapgl\":[{\"colorbar\":{\"outlinewidth\":0,\"ticks\":\"\"},\"colorscale\":[[0.0,\"#0d0887\"],[0.1111111111111111,\"#46039f\"],[0.2222222222222222,\"#7201a8\"],[0.3333333333333333,\"#9c179e\"],[0.4444444444444444,\"#bd3786\"],[0.5555555555555556,\"#d8576b\"],[0.6666666666666666,\"#ed7953\"],[0.7777777777777778,\"#fb9f3a\"],[0.8888888888888888,\"#fdca26\"],[1.0,\"#f0f921\"]],\"type\":\"heatmapgl\"}],\"heatmap\":[{\"colorbar\":{\"outlinewidth\":0,\"ticks\":\"\"},\"colorscale\":[[0.0,\"#0d0887\"],[0.1111111111111111,\"#46039f\"],[0.2222222222222222,\"#7201a8\"],[0.3333333333333333,\"#9c179e\"],[0.4444444444444444,\"#bd3786\"],[0.5555555555555556,\"#d8576b\"],[0.6666666666666666,\"#ed7953\"],[0.7777777777777778,\"#fb9f3a\"],[0.8888888888888888,\"#fdca26\"],[1.0,\"#f0f921\"]],\"type\":\"heatmap\"}],\"histogram2dcontour\":[{\"colorbar\":{\"outlinewidth\":0,\"ticks\":\"\"},\"colorscale\":[[0.0,\"#0d0887\"],[0.1111111111111111,\"#46039f\"],[0.2222222222222222,\"#7201a8\"],[0.3333333333333333,\"#9c179e\"],[0.4444444444444444,\"#bd3786\"],[0.5555555555555556,\"#d8576b\"],[0.6666666666666666,\"#ed7953\"],[0.7777777777777778,\"#fb9f3a\"],[0.8888888888888888,\"#fdca26\"],[1.0,\"#f0f921\"]],\"type\":\"histogram2dcontour\"}],\"histogram2d\":[{\"colorbar\":{\"outlinewidth\":0,\"ticks\":\"\"},\"colorscale\":[[0.0,\"#0d0887\"],[0.1111111111111111,\"#46039f\"],[0.2222222222222222,\"#7201a8\"],[0.3333333333333333,\"#9c179e\"],[0.4444444444444444,\"#bd3786\"],[0.5555555555555556,\"#d8576b\"],[0.6666666666666666,\"#ed7953\"],[0.7777777777777778,\"#fb9f3a\"],[0.8888888888888888,\"#fdca26\"],[1.0,\"#f0f921\"]],\"type\":\"histogram2d\"}],\"histogram\":[{\"marker\":{\"pattern\":{\"fillmode\":\"overlay\",\"size\":10,\"solidity\":0.2}},\"type\":\"histogram\"}],\"mesh3d\":[{\"colorbar\":{\"outlinewidth\":0,\"ticks\":\"\"},\"type\":\"mesh3d\"}],\"parcoords\":[{\"line\":{\"colorbar\":{\"outlinewidth\":0,\"ticks\":\"\"}},\"type\":\"parcoords\"}],\"pie\":[{\"automargin\":true,\"type\":\"pie\"}],\"scatter3d\":[{\"line\":{\"colorbar\":{\"outlinewidth\":0,\"ticks\":\"\"}},\"marker\":{\"colorbar\":{\"outlinewidth\":0,\"ticks\":\"\"}},\"type\":\"scatter3d\"}],\"scattercarpet\":[{\"marker\":{\"colorbar\":{\"outlinewidth\":0,\"ticks\":\"\"}},\"type\":\"scattercarpet\"}],\"scattergeo\":[{\"marker\":{\"colorbar\":{\"outlinewidth\":0,\"ticks\":\"\"}},\"type\":\"scattergeo\"}],\"scattergl\":[{\"marker\":{\"colorbar\":{\"outlinewidth\":0,\"ticks\":\"\"}},\"type\":\"scattergl\"}],\"scattermapbox\":[{\"marker\":{\"colorbar\":{\"outlinewidth\":0,\"ticks\":\"\"}},\"type\":\"scattermapbox\"}],\"scatterpolargl\":[{\"marker\":{\"colorbar\":{\"outlinewidth\":0,\"ticks\":\"\"}},\"type\":\"scatterpolargl\"}],\"scatterpolar\":[{\"marker\":{\"colorbar\":{\"outlinewidth\":0,\"ticks\":\"\"}},\"type\":\"scatterpolar\"}],\"scatter\":[{\"fillpattern\":{\"fillmode\":\"overlay\",\"size\":10,\"solidity\":0.2},\"type\":\"scatter\"}],\"scatterternary\":[{\"marker\":{\"colorbar\":{\"outlinewidth\":0,\"ticks\":\"\"}},\"type\":\"scatterternary\"}],\"surface\":[{\"colorbar\":{\"outlinewidth\":0,\"ticks\":\"\"},\"colorscale\":[[0.0,\"#0d0887\"],[0.1111111111111111,\"#46039f\"],[0.2222222222222222,\"#7201a8\"],[0.3333333333333333,\"#9c179e\"],[0.4444444444444444,\"#bd3786\"],[0.5555555555555556,\"#d8576b\"],[0.6666666666666666,\"#ed7953\"],[0.7777777777777778,\"#fb9f3a\"],[0.8888888888888888,\"#fdca26\"],[1.0,\"#f0f921\"]],\"type\":\"surface\"}],\"table\":[{\"cells\":{\"fill\":{\"color\":\"#EBF0F8\"},\"line\":{\"color\":\"white\"}},\"header\":{\"fill\":{\"color\":\"#C8D4E3\"},\"line\":{\"color\":\"white\"}},\"type\":\"table\"}]},\"layout\":{\"annotationdefaults\":{\"arrowcolor\":\"#2a3f5f\",\"arrowhead\":0,\"arrowwidth\":1},\"autotypenumbers\":\"strict\",\"coloraxis\":{\"colorbar\":{\"outlinewidth\":0,\"ticks\":\"\"}},\"colorscale\":{\"diverging\":[[0,\"#8e0152\"],[0.1,\"#c51b7d\"],[0.2,\"#de77ae\"],[0.3,\"#f1b6da\"],[0.4,\"#fde0ef\"],[0.5,\"#f7f7f7\"],[0.6,\"#e6f5d0\"],[0.7,\"#b8e186\"],[0.8,\"#7fbc41\"],[0.9,\"#4d9221\"],[1,\"#276419\"]],\"sequential\":[[0.0,\"#0d0887\"],[0.1111111111111111,\"#46039f\"],[0.2222222222222222,\"#7201a8\"],[0.3333333333333333,\"#9c179e\"],[0.4444444444444444,\"#bd3786\"],[0.5555555555555556,\"#d8576b\"],[0.6666666666666666,\"#ed7953\"],[0.7777777777777778,\"#fb9f3a\"],[0.8888888888888888,\"#fdca26\"],[1.0,\"#f0f921\"]],\"sequentialminus\":[[0.0,\"#0d0887\"],[0.1111111111111111,\"#46039f\"],[0.2222222222222222,\"#7201a8\"],[0.3333333333333333,\"#9c179e\"],[0.4444444444444444,\"#bd3786\"],[0.5555555555555556,\"#d8576b\"],[0.6666666666666666,\"#ed7953\"],[0.7777777777777778,\"#fb9f3a\"],[0.8888888888888888,\"#fdca26\"],[1.0,\"#f0f921\"]]},\"colorway\":[\"#636efa\",\"#EF553B\",\"#00cc96\",\"#ab63fa\",\"#FFA15A\",\"#19d3f3\",\"#FF6692\",\"#B6E880\",\"#FF97FF\",\"#FECB52\"],\"font\":{\"color\":\"#2a3f5f\"},\"geo\":{\"bgcolor\":\"white\",\"lakecolor\":\"white\",\"landcolor\":\"white\",\"showlakes\":true,\"showland\":true,\"subunitcolor\":\"#C8D4E3\"},\"hoverlabel\":{\"align\":\"left\"},\"hovermode\":\"closest\",\"mapbox\":{\"style\":\"light\"},\"paper_bgcolor\":\"white\",\"plot_bgcolor\":\"white\",\"polar\":{\"angularaxis\":{\"gridcolor\":\"#EBF0F8\",\"linecolor\":\"#EBF0F8\",\"ticks\":\"\"},\"bgcolor\":\"white\",\"radialaxis\":{\"gridcolor\":\"#EBF0F8\",\"linecolor\":\"#EBF0F8\",\"ticks\":\"\"}},\"scene\":{\"xaxis\":{\"backgroundcolor\":\"white\",\"gridcolor\":\"#DFE8F3\",\"gridwidth\":2,\"linecolor\":\"#EBF0F8\",\"showbackground\":true,\"ticks\":\"\",\"zerolinecolor\":\"#EBF0F8\"},\"yaxis\":{\"backgroundcolor\":\"white\",\"gridcolor\":\"#DFE8F3\",\"gridwidth\":2,\"linecolor\":\"#EBF0F8\",\"showbackground\":true,\"ticks\":\"\",\"zerolinecolor\":\"#EBF0F8\"},\"zaxis\":{\"backgroundcolor\":\"white\",\"gridcolor\":\"#DFE8F3\",\"gridwidth\":2,\"linecolor\":\"#EBF0F8\",\"showbackground\":true,\"ticks\":\"\",\"zerolinecolor\":\"#EBF0F8\"}},\"shapedefaults\":{\"line\":{\"color\":\"#2a3f5f\"}},\"ternary\":{\"aaxis\":{\"gridcolor\":\"#DFE8F3\",\"linecolor\":\"#A2B1C6\",\"ticks\":\"\"},\"baxis\":{\"gridcolor\":\"#DFE8F3\",\"linecolor\":\"#A2B1C6\",\"ticks\":\"\"},\"bgcolor\":\"white\",\"caxis\":{\"gridcolor\":\"#DFE8F3\",\"linecolor\":\"#A2B1C6\",\"ticks\":\"\"}},\"title\":{\"x\":0.05},\"xaxis\":{\"automargin\":true,\"gridcolor\":\"#EBF0F8\",\"linecolor\":\"#EBF0F8\",\"ticks\":\"\",\"title\":{\"standoff\":15},\"zerolinecolor\":\"#EBF0F8\",\"zerolinewidth\":2},\"yaxis\":{\"automargin\":true,\"gridcolor\":\"#EBF0F8\",\"linecolor\":\"#EBF0F8\",\"ticks\":\"\",\"title\":{\"standoff\":15},\"zerolinecolor\":\"#EBF0F8\",\"zerolinewidth\":2}}},\"xaxis\":{\"anchor\":\"y\",\"domain\":[0.0,0.2888888888888889],\"title\":{\"text\":\"Sample Size\"}},\"yaxis\":{\"anchor\":\"x\",\"domain\":[0.625,1.0],\"title\":{\"text\":\"Probability\"}},\"xaxis2\":{\"anchor\":\"y2\",\"domain\":[0.35555555555555557,0.6444444444444445]},\"yaxis2\":{\"anchor\":\"x2\",\"domain\":[0.625,1.0]},\"xaxis3\":{\"anchor\":\"y3\",\"domain\":[0.7111111111111111,1.0]},\"yaxis3\":{\"anchor\":\"x3\",\"domain\":[0.625,1.0]},\"xaxis4\":{\"anchor\":\"y4\",\"domain\":[0.0,0.2888888888888889]},\"yaxis4\":{\"anchor\":\"x4\",\"domain\":[0.0,0.375]},\"xaxis5\":{\"anchor\":\"y5\",\"domain\":[0.35555555555555557,0.6444444444444445]},\"yaxis5\":{\"anchor\":\"x5\",\"domain\":[0.0,0.375]},\"xaxis6\":{\"anchor\":\"y6\",\"domain\":[0.7111111111111111,1.0]},\"yaxis6\":{\"anchor\":\"x6\",\"domain\":[0.0,0.375]},\"annotations\":[{\"font\":{\"size\":16},\"showarrow\":false,\"text\":\"From: -200, To: 200\",\"x\":0.14444444444444446,\"xanchor\":\"center\",\"xref\":\"paper\",\"y\":1.0,\"yanchor\":\"bottom\",\"yref\":\"paper\"},{\"font\":{\"size\":16},\"showarrow\":false,\"text\":\"From: -1000, To: 1000\",\"x\":0.5,\"xanchor\":\"center\",\"xref\":\"paper\",\"y\":1.0,\"yanchor\":\"bottom\",\"yref\":\"paper\"},{\"font\":{\"size\":16},\"showarrow\":false,\"text\":\"From: -2000, To: 2000\",\"x\":0.8555555555555556,\"xanchor\":\"center\",\"xref\":\"paper\",\"y\":1.0,\"yanchor\":\"bottom\",\"yref\":\"paper\"},{\"font\":{\"size\":16},\"showarrow\":false,\"text\":\"From: -3000, To: 3000\",\"x\":0.14444444444444446,\"xanchor\":\"center\",\"xref\":\"paper\",\"y\":0.375,\"yanchor\":\"bottom\",\"yref\":\"paper\"},{\"font\":{\"size\":16},\"showarrow\":false,\"text\":\"From: -5000, To: 5000\",\"x\":0.5,\"xanchor\":\"center\",\"xref\":\"paper\",\"y\":0.375,\"yanchor\":\"bottom\",\"yref\":\"paper\"},{\"font\":{\"size\":16},\"showarrow\":false,\"text\":\"From: -10000, To: 10000\",\"x\":0.8555555555555556,\"xanchor\":\"center\",\"xref\":\"paper\",\"y\":0.375,\"yanchor\":\"bottom\",\"yref\":\"paper\"},{\"ax\":0,\"ay\":20,\"text\":\"x = 5\",\"x\":5,\"xref\":\"x\",\"y\":0,\"yref\":\"y\"},{\"ax\":0,\"ay\":20,\"text\":\"x = 5\",\"x\":5,\"xref\":\"x2\",\"y\":0,\"yref\":\"y2\"},{\"ax\":0,\"ay\":20,\"text\":\"x = 5\",\"x\":5,\"xref\":\"x3\",\"y\":0,\"yref\":\"y3\"},{\"ax\":0,\"ay\":20,\"text\":\"x = 5\",\"x\":5,\"xref\":\"x4\",\"y\":0,\"yref\":\"y4\"},{\"ax\":0,\"ay\":20,\"text\":\"x = 7\",\"x\":7,\"xref\":\"x5\",\"y\":0,\"yref\":\"y5\"},{\"ax\":0,\"ay\":20,\"text\":\"x = 7\",\"x\":7,\"xref\":\"x6\",\"y\":0,\"yref\":\"y6\"}],\"title\":{\"text\":\"Probability of Generalization Error \\u003c \\u003cb\\u003e30.0%\\u003c\\u002fb\\u003e for Different Ranges\"},\"height\":800},                        {\"responsive\": true}                    ).then(function(){\n",
       "                            \n",
       "var gd = document.getElementById('43c03963-3cbb-4f27-a9d8-e7c4c0235c94');\n",
       "var x = new MutationObserver(function (mutations, observer) {{\n",
       "        var display = window.getComputedStyle(gd).display;\n",
       "        if (!display || display === 'none') {{\n",
       "            console.log([gd, 'removed!']);\n",
       "            Plotly.purge(gd);\n",
       "            observer.disconnect();\n",
       "        }}\n",
       "}});\n",
       "\n",
       "// Listen for the removal of the full notebook cells\n",
       "var notebookContainer = gd.closest('#notebook-container');\n",
       "if (notebookContainer) {{\n",
       "    x.observe(notebookContainer, {childList: true});\n",
       "}}\n",
       "\n",
       "// Listen for the clearing of the current output cell\n",
       "var outputEl = gd.closest('.output');\n",
       "if (outputEl) {{\n",
       "    x.observe(outputEl, {childList: true});\n",
       "}}\n",
       "\n",
       "                        })                };                            </script>        </div>\n",
       "</body>\n",
       "</html>"
      ]
     },
     "metadata": {}
    }
   ]
  },
  {
   "cell_type": "markdown",
   "source": [
    "## Active Algorithem Learner"
   ],
   "metadata": {
    "id": "N72toZq0Pjzq"
   }
  },
  {
   "cell_type": "code",
   "source": [
    "def labeling_function(threshold, number):\n",
    "    \"\"\"\n",
    "    Simulates a labeling function.\n",
    "\n",
    "    Args:\n",
    "        threshold (int): The true threshold value.\n",
    "        number (int): The number to label.\n",
    "\n",
    "    Returns:\n",
    "        int: The label (0 if number < threshold, 1 otherwise).\n",
    "    \"\"\"\n",
    "    return 0 if number < threshold else 1"
   ],
   "metadata": {
    "id": "UnHLU8yjPptP"
   },
   "execution_count": 14,
   "outputs": []
  },
  {
   "cell_type": "code",
   "source": [
    "def active_learner(threshold, max_iterations , startrange , endrange):\n",
    "    \"\"\"\n",
    "    Simulates the active learning algorithm using binary search.\n",
    "\n",
    "    Args:\n",
    "        threshold (int): The true threshold value.\n",
    "        max_iterations (int): The number of iterations to perform.\n",
    "\n",
    "    Returns:\n",
    "        int: The estimated threshold.\n",
    "    \"\"\"\n",
    "    left, right = startrange , endrange  # Define the search space\n",
    "    for _ in range(max_iterations):\n",
    "        mid = (left + right) // 2  # Compute the midpoint\n",
    "        label = labeling_function(threshold, mid)  # Query the labeling function\n",
    "        if label == 0:\n",
    "            left = mid + 1  # Narrow the search to the right half\n",
    "        else:\n",
    "            right = mid  # Narrow the search to the left half\n",
    "    return left  # Return the estimated threshold"
   ],
   "metadata": {
    "id": "AzgO-tP_P46X"
   },
   "execution_count": 15,
   "outputs": []
  },
  {
   "cell_type": "code",
   "source": [
    "def simulation(min_iterations, max_iterations,true_threshold, startrange , endrange):\n",
    "    \"\"\"\n",
    "    Simulates the active learning process over a range of iteration counts.\n",
    "\n",
    "    Args:\n",
    "        min_iterations (int): Minimum number of iterations to test.\n",
    "        max_iterations (int): Maximum number of iterations to test.\n",
    "\n",
    "    Returns:\n",
    "        list of tuple: A list where each tuple contains:\n",
    "                       - int: Number of iterations.\n",
    "                       - int: True threshold.\n",
    "                       - int: Estimated threshold.\n",
    "    \"\"\"\n",
    "    results = []\n",
    "    for iterations in range(min_iterations, max_iterations + 1):\n",
    "        estimated_threshold = active_learner(true_threshold, iterations, startrange , endrange)\n",
    "        error = compute_error(true_threshold, estimated_threshold, endrange-startrange )\n",
    "        # Store the result\n",
    "        results.append((iterations,estimated_threshold,error))\n",
    "    return results\n"
   ],
   "metadata": {
    "id": "Ye6MhUmHQIlf"
   },
   "execution_count": 16,
   "outputs": []
  },
  {
   "cell_type": "code",
   "source": [
    "startrange = -100000\n",
    "endrange = 100000\n",
    "true_threshold = random.randint( startrange , endrange)\n",
    "\n",
    "\n",
    "# Example 3: Run the simulation\n",
    "results = simulation(2, 8,true_threshold, startrange , endrange)\n",
    "for iterations, estimated_threshold, error in results:\n",
    "    print(f\"Iterations: {iterations}, True Threshold: {true_threshold}, Estimated Threshold: {estimated_threshold}, Error: {error:.4f}\")\n",
    "\n",
    "# Plotting the results\n",
    "iterations_list = [r[0] for r in results]\n",
    "errors = [r[2] for r in results]\n",
    "\n",
    "plt.figure(figsize=(8, 5))\n",
    "plt.plot(iterations_list, errors, marker='o', label='Error')\n",
    "plt.title('Error vs. Iterations in Active Learner')\n",
    "plt.xlabel('Number of Iterations')\n",
    "plt.ylabel('Normalized Error')\n",
    "plt.grid(True)\n",
    "plt.legend()\n",
    "plt.show()"
   ],
   "metadata": {
    "colab": {
     "base_uri": "https://localhost:8080/",
     "height": 615
    },
    "id": "lhaQPE0NQgCv",
    "outputId": "9debc2af-bc44-428d-a5fb-3c712a4442d7"
   },
   "execution_count": 17,
   "outputs": [
    {
     "output_type": "stream",
     "name": "stdout",
     "text": [
      "Iterations: 2, True Threshold: -4631, Estimated Threshold: -49999, Error: 0.2268\n",
      "Iterations: 3, True Threshold: -4631, Estimated Threshold: -24999, Error: 0.1018\n",
      "Iterations: 4, True Threshold: -4631, Estimated Threshold: -12499, Error: 0.0393\n",
      "Iterations: 5, True Threshold: -4631, Estimated Threshold: -6249, Error: 0.0081\n",
      "Iterations: 6, True Threshold: -4631, Estimated Threshold: -6249, Error: 0.0081\n",
      "Iterations: 7, True Threshold: -4631, Estimated Threshold: -4686, Error: 0.0003\n",
      "Iterations: 8, True Threshold: -4631, Estimated Threshold: -4686, Error: 0.0003\n"
     ]
    },
    {
     "output_type": "display_data",
     "data": {
      "text/plain": [
       "<Figure size 800x500 with 1 Axes>"
      ],
      "image/png": "[encoded data removed]"
     },
     "metadata": {}
    }
   ]
  },
  {
   "cell_type": "markdown",
   "source": [
    "# Part3 - discussion"
   ],
   "metadata": {
    "id": "VCLCwTmVD-xs"
   }
  },
  {
   "cell_type": "markdown",
   "source": [
    "## Part 3: Discussion\n",
    "\n",
    "### 1. Compare Theoretical and Empirical Results\n",
    "\n",
    "- **Theoretical Sample Size:**\n",
    "  According to the formula, the theoretical sample size required to achieve a generalization error smaller than $ \\epsilon \\leq 0.3 $ with a confidence of $1 - \\delta = 80\\%$ is calculated as:\n",
    "\n",
    "  $\n",
    "  m \\geq \\frac{\\log(\\frac{H}{\\delta})}{\\epsilon}\n",
    "  $\n",
    "\n",
    "  Substituting the values:\n",
    "\n",
    "  $\n",
    "  m \\geq \\frac{\\log(\\frac{2001}{0.2})}{0.3} \\approx 30.71\n",
    "  $\n",
    "\n",
    "  Hence, $ m = 31 $ samples are needed theoretically.\n",
    "\n",
    "- **Empirical Results:**\n",
    "  The empirical graph shows that the probability of the generalization error being smaller than $30\\%$ crosses the $80\\%$ confidence threshold (red dashed line) with a sample size of around $ m \\approx 5 $, which is much smaller than the theoretical value.\n",
    "\n",
    "- **Why the Difference?**\n",
    "  1. **Conservative Theoretical Bounds:** The theoretical bounds are derived under worst-case assumptions (e.g., Hoeffding’s inequality) and tend to be overly cautious.\n",
    "  2. **Data Structure:** The actual data distribution might have less variability or complexity compared to what is assumed in the theoretical derivation.\n",
    "  3. **Hypothesis Complexity ($H$):** The real-world hypothesis class might be smaller or simpler than the assumed $ H $ in the theoretical calculation.\n",
    "\n",
    "---\n",
    "\n",
    "### 2. Passive vs. Active Learning\n",
    "\n",
    "#### **Sample Size Requirements:**\n",
    "- **Passive Learning:**\n",
    "  In passive learning, the sample size is fixed and usually much larger. For example, the theoretical bound requires $ m = 31 $ samples to achieve the desired confidence level.\n",
    "\n",
    "- **Active Learning:**\n",
    "  In active learning, the model selects the most informative samples, which significantly reduces the number of samples needed. From the active learning plot, the normalized error approaches zero in only $8$ iterations.\n",
    "\n",
    "#### **Advantages and Disadvantages:**\n",
    "\n",
    "| **Learning Strategy** | **Advantages**                                                                | **Disadvantages**                                                                |\n",
    "|------------------------|-------------------------------------------------------------------------------|----------------------------------------------------------------------------------|\n",
    "| **Passive Learning**   | - Simple to implement (random sampling).                                      | - Inefficient as it requires more samples.                                       |\n",
    "|                        | - Does not rely on any assumptions about data informativeness.                | - May not focus on the most critical regions of the data.                        |\n",
    "| **Active Learning**    | - More efficient sampling, requiring fewer labeled examples.                  | - Requires retraining the model after each new sample, which can be computationally expensive. |\n",
    "|                        | - Focuses on the most uncertain or informative samples.                       | - Needs a well-defined strategy to measure informativeness.                      |\n",
    "\n",
    "#### **Impact of Selective Sampling:**\n",
    "- In **active learning**, the ability to select the most informative samples accelerates the learning process. By focusing on areas with high uncertainty (e.g., near decision boundaries), active learning achieves lower generalization error with fewer samples.\n",
    "- In **passive learning**, random sampling often includes less informative points, which leads to slower error reduction and higher data requirements.\n",
    "\n",
    "---\n",
    "\n",
    "**Conclusion:**\n",
    "Active learning demonstrates significantly better efficiency in terms of sample size compared to passive learning. However, its practical implementation might require additional computational resources and thoughtful design of selection strategies.\n"
   ],
   "metadata": {
    "id": "FgR9-Rbb5LLB"
   }
  }
 ]
}
